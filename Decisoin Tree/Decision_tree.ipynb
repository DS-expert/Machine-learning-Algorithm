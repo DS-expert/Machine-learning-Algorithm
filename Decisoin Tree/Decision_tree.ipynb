{
 "cells": [
  {
   "cell_type": "code",
   "execution_count": 2,
   "id": "2e3dfee2",
   "metadata": {},
   "outputs": [],
   "source": [
    "import pandas as pd\n",
    "import numpy as np\n",
    "from matplotlib import pyplot as plt\n",
    "from sklearn.datasets import load_iris\n"
   ]
  },
  {
   "cell_type": "code",
   "execution_count": 3,
   "id": "1c45f208",
   "metadata": {},
   "outputs": [],
   "source": [
    "# Load the iris Dataset\n",
    "\n",
    "X, y = load_iris(return_X_y=True)"
   ]
  },
  {
   "cell_type": "code",
   "execution_count": 4,
   "id": "e9f53160",
   "metadata": {},
   "outputs": [
    {
     "data": {
      "text/plain": [
       "array([0, 0, 0, 0, 0, 0, 0, 0, 0, 0, 0, 0, 0, 0, 0, 0, 0, 0, 0, 0, 0, 0,\n",
       "       0, 0, 0, 0, 0, 0, 0, 0, 0, 0, 0, 0, 0, 0, 0, 0, 0, 0, 0, 0, 0, 0,\n",
       "       0, 0, 0, 0, 0, 0, 1, 1, 1, 1, 1, 1, 1, 1, 1, 1, 1, 1, 1, 1, 1, 1,\n",
       "       1, 1, 1, 1, 1, 1, 1, 1, 1, 1, 1, 1, 1, 1, 1, 1, 1, 1, 1, 1, 1, 1,\n",
       "       1, 1, 1, 1, 1, 1, 1, 1, 1, 1, 1, 1, 2, 2, 2, 2, 2, 2, 2, 2, 2, 2,\n",
       "       2, 2, 2, 2, 2, 2, 2, 2, 2, 2, 2, 2, 2, 2, 2, 2, 2, 2, 2, 2, 2, 2,\n",
       "       2, 2, 2, 2, 2, 2, 2, 2, 2, 2, 2, 2, 2, 2, 2, 2, 2, 2])"
      ]
     },
     "execution_count": 4,
     "metadata": {},
     "output_type": "execute_result"
    }
   ],
   "source": [
    "y"
   ]
  },
  {
   "cell_type": "code",
   "execution_count": 5,
   "id": "ebc7bf68",
   "metadata": {},
   "outputs": [],
   "source": [
    "from sklearn.model_selection import train_test_split\n",
    "X_train, X_test, y_train, y_test = train_test_split(X, y, test_size=0.2, random_state=42)"
   ]
  },
  {
   "cell_type": "code",
   "execution_count": 6,
   "id": "0dad6c58",
   "metadata": {},
   "outputs": [],
   "source": [
    "from sklearn.tree import DecisionTreeClassifier\n",
    "\n",
    "decision_ = DecisionTreeClassifier()\n",
    "\n",
    "decision_.fit(X_train, y_train)\n",
    "\n",
    "y_pred = decision_.predict(X_test)"
   ]
  },
  {
   "cell_type": "code",
   "execution_count": 7,
   "id": "17d961c5",
   "metadata": {},
   "outputs": [
    {
     "name": "stdout",
     "output_type": "stream",
     "text": [
      "Accuracy: 100.00%\n"
     ]
    }
   ],
   "source": [
    "from sklearn.metrics import accuracy_score\n",
    "\n",
    "accuracy = accuracy_score(y_test, y_pred)\n",
    "\n",
    "print(f\"Accuracy: {accuracy * 100:.2f}%\")"
   ]
  },
  {
   "cell_type": "code",
   "execution_count": 8,
   "id": "754b2998",
   "metadata": {},
   "outputs": [],
   "source": [
    "class CustomDecisionTreeClassifier():\n",
    "\n",
    "    def __init__(self, max_depth=None):\n",
    "\n",
    "        self.max_depth = max_depth\n",
    "        self.tree = None\n",
    "    \n",
    "    def gini(self, y):\n",
    "\n",
    "        classes, counts = np.unique(y, return_counts=True)\n",
    "\n",
    "        p = counts / counts.sum()\n",
    "\n",
    "        return 1 - np.sum(p ** 2)\n",
    "\n",
    "    def best_split(self, X_train, y_train):\n",
    "\n",
    "        best_gini = float(\"inf\")\n",
    "        best_features = None\n",
    "        best_value = None\n",
    "\n",
    "        n_samples, n_features = X_train.shape\n",
    "\n",
    "        for feature in range(n_features):\n",
    "\n",
    "            values = np.unique(X_train[:, feature])\n",
    "\n",
    "            for value in values:\n",
    "                left_mask = X_train[:, feature] <= value\n",
    "                right_mask = X_train[:, feature] > value\n",
    "\n",
    "                y_left = y_train[left_mask]\n",
    "                y_right = y_train[right_mask]\n",
    "\n",
    "                gini_left = self.gini(y_left)\n",
    "                gini_right = self.gini(y_right)\n",
    "\n",
    "                weighted_gini = (len(y_left) * gini_left + len(y_right) * gini_right) / n_samples\n",
    "\n",
    "                if weighted_gini < best_gini:\n",
    "\n",
    "                    best_gini = weighted_gini\n",
    "                    best_features = feature\n",
    "                    best_value = value\n",
    "        \n",
    "        return best_features, best_value\n",
    "    \n",
    "    def build_tree(self, X_train, y_train, depth=0):\n",
    "\n",
    "        class_counts = np.bincount(y_train)\n",
    "        majorities_classes = np.argmax(class_counts)\n",
    "\n",
    "        if len(class_counts) == 1 or len(y_train) == 0 or (self.max_depth is not None and depth >= self.max_depth):\n",
    "\n",
    "            return {\"leaf\": True, \"class\" : majorities_classes}\n",
    "\n",
    "        best_feature, best_value = self.best_split(X_train, y_train)\n",
    "\n",
    "        if best_feature is None:\n",
    "\n",
    "            return {\"leaf\": True, \"class\" : majorities_classes}\n",
    "\n",
    "        left_mask = X_train[:, best_feature] <= best_value\n",
    "        right_mask = X_train[:, best_feature] > best_value\n",
    "\n",
    "        left_tree = self.build_tree(X_train[left_mask], y_train[left_mask], depth + 1)\n",
    "        right_tree = self.build_tree(X_train[right_mask], y_train[right_mask], depth + 1)\n",
    "\n",
    "        return {\n",
    "            \"leaf\" : False,\n",
    "            \"feature\" : best_feature,\n",
    "            \"value\" : best_value,\n",
    "            \"left\" : left_tree,\n",
    "            \"right\" : right_tree\n",
    "        }\n",
    "\n",
    "    def fit(self, X_train, y_train):\n",
    "\n",
    "        self.tree = self.build_tree(X_train, y_train)\n",
    "    \n",
    "    def predict_one(self, X_test):\n",
    "\n",
    "        node = self.tree\n",
    "        while isinstance(node, dict) and not node[\"leaf\"]:\n",
    "\n",
    "            feature_ = node[\"feature\"]\n",
    "            value_ = node[\"value\"]\n",
    "\n",
    "            if X_test[feature_] <= value_:\n",
    "\n",
    "                node = node[\"left\"]\n",
    "            \n",
    "            else:\n",
    "\n",
    "                node = node[\"right\"]\n",
    "        \n",
    "        return node[\"class\"]\n",
    "\n",
    "    def predict(self, X_test):\n",
    "\n",
    "        return np.array([self.predict_one(x) for x in X_test])"
   ]
  },
  {
   "cell_type": "code",
   "execution_count": 9,
   "id": "532f7f96",
   "metadata": {},
   "outputs": [],
   "source": [
    "decision_custom = CustomDecisionTreeClassifier(max_depth=3)\n",
    "\n",
    "decision_custom.fit(X_train, y_train)"
   ]
  },
  {
   "cell_type": "code",
   "execution_count": 10,
   "id": "a8cfd1b8",
   "metadata": {},
   "outputs": [],
   "source": [
    "y_pred_custom = decision_custom.predict(X_test)"
   ]
  },
  {
   "cell_type": "code",
   "execution_count": 11,
   "id": "23e6e595",
   "metadata": {},
   "outputs": [],
   "source": [
    "accuracy_custom = accuracy_score(y_test, y_pred_custom)"
   ]
  },
  {
   "cell_type": "code",
   "execution_count": 12,
   "id": "22b14c68",
   "metadata": {},
   "outputs": [
    {
     "name": "stdout",
     "output_type": "stream",
     "text": [
      "Custom Decision Tree Accuracy: 100.00%\n"
     ]
    }
   ],
   "source": [
    "print(f\"Custom Decision Tree Accuracy: {accuracy_custom * 100:.2f}%\")"
   ]
  },
  {
   "cell_type": "code",
   "execution_count": null,
   "id": "973849cf",
   "metadata": {},
   "outputs": [],
   "source": []
  }
 ],
 "metadata": {
  "kernelspec": {
   "display_name": "machinelearning",
   "language": "python",
   "name": "python3"
  },
  "language_info": {
   "codemirror_mode": {
    "name": "ipython",
    "version": 3
   },
   "file_extension": ".py",
   "mimetype": "text/x-python",
   "name": "python",
   "nbconvert_exporter": "python",
   "pygments_lexer": "ipython3",
   "version": "3.12.3"
  }
 },
 "nbformat": 4,
 "nbformat_minor": 5
}
