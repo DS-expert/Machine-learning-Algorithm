{
 "cells": [
  {
   "cell_type": "code",
   "execution_count": 1,
   "id": "0bf12ac9",
   "metadata": {},
   "outputs": [],
   "source": [
    "import pandas as pd\n",
    "import numpy as np\n",
    "import matplotlib.pyplot as plt\n",
    "import seaborn as sns"
   ]
  },
  {
   "cell_type": "markdown",
   "id": "c8dd787d",
   "metadata": {},
   "source": [
    "### Load the Data"
   ]
  },
  {
   "cell_type": "code",
   "execution_count": 7,
   "id": "91dfaafd",
   "metadata": {},
   "outputs": [],
   "source": [
    "# Load the data\n",
    "\n",
    "df = pd.read_csv(\"/home/inventor/Datasets/Forest Cover Type/covertype/covtype.data\", sep=\",\")"
   ]
  },
  {
   "cell_type": "code",
   "execution_count": 8,
   "id": "c636adf3",
   "metadata": {},
   "outputs": [
    {
     "data": {
      "application/vnd.microsoft.datawrangler.viewer.v0+json": {
       "columns": [
        {
         "name": "index",
         "rawType": "int64",
         "type": "integer"
        },
        {
         "name": "2596",
         "rawType": "int64",
         "type": "integer"
        },
        {
         "name": "51",
         "rawType": "int64",
         "type": "integer"
        },
        {
         "name": "3",
         "rawType": "int64",
         "type": "integer"
        },
        {
         "name": "258",
         "rawType": "int64",
         "type": "integer"
        },
        {
         "name": "0",
         "rawType": "int64",
         "type": "integer"
        },
        {
         "name": "510",
         "rawType": "int64",
         "type": "integer"
        },
        {
         "name": "221",
         "rawType": "int64",
         "type": "integer"
        },
        {
         "name": "232",
         "rawType": "int64",
         "type": "integer"
        },
        {
         "name": "148",
         "rawType": "int64",
         "type": "integer"
        },
        {
         "name": "6279",
         "rawType": "int64",
         "type": "integer"
        },
        {
         "name": "1",
         "rawType": "int64",
         "type": "integer"
        },
        {
         "name": "0.1",
         "rawType": "int64",
         "type": "integer"
        },
        {
         "name": "0.2",
         "rawType": "int64",
         "type": "integer"
        },
        {
         "name": "0.3",
         "rawType": "int64",
         "type": "integer"
        },
        {
         "name": "0.4",
         "rawType": "int64",
         "type": "integer"
        },
        {
         "name": "0.5",
         "rawType": "int64",
         "type": "integer"
        },
        {
         "name": "0.6",
         "rawType": "int64",
         "type": "integer"
        },
        {
         "name": "0.7",
         "rawType": "int64",
         "type": "integer"
        },
        {
         "name": "0.8",
         "rawType": "int64",
         "type": "integer"
        },
        {
         "name": "0.9",
         "rawType": "int64",
         "type": "integer"
        },
        {
         "name": "0.10",
         "rawType": "int64",
         "type": "integer"
        },
        {
         "name": "0.11",
         "rawType": "int64",
         "type": "integer"
        },
        {
         "name": "0.12",
         "rawType": "int64",
         "type": "integer"
        },
        {
         "name": "0.13",
         "rawType": "int64",
         "type": "integer"
        },
        {
         "name": "0.14",
         "rawType": "int64",
         "type": "integer"
        },
        {
         "name": "0.15",
         "rawType": "int64",
         "type": "integer"
        },
        {
         "name": "0.16",
         "rawType": "int64",
         "type": "integer"
        },
        {
         "name": "0.17",
         "rawType": "int64",
         "type": "integer"
        },
        {
         "name": "0.18",
         "rawType": "int64",
         "type": "integer"
        },
        {
         "name": "0.19",
         "rawType": "int64",
         "type": "integer"
        },
        {
         "name": "0.20",
         "rawType": "int64",
         "type": "integer"
        },
        {
         "name": "0.21",
         "rawType": "int64",
         "type": "integer"
        },
        {
         "name": "0.22",
         "rawType": "int64",
         "type": "integer"
        },
        {
         "name": "0.23",
         "rawType": "int64",
         "type": "integer"
        },
        {
         "name": "0.24",
         "rawType": "int64",
         "type": "integer"
        },
        {
         "name": "0.25",
         "rawType": "int64",
         "type": "integer"
        },
        {
         "name": "0.26",
         "rawType": "int64",
         "type": "integer"
        },
        {
         "name": "0.27",
         "rawType": "int64",
         "type": "integer"
        },
        {
         "name": "0.28",
         "rawType": "int64",
         "type": "integer"
        },
        {
         "name": "0.29",
         "rawType": "int64",
         "type": "integer"
        },
        {
         "name": "0.30",
         "rawType": "int64",
         "type": "integer"
        },
        {
         "name": "0.31",
         "rawType": "int64",
         "type": "integer"
        },
        {
         "name": "1.1",
         "rawType": "int64",
         "type": "integer"
        },
        {
         "name": "0.32",
         "rawType": "int64",
         "type": "integer"
        },
        {
         "name": "0.33",
         "rawType": "int64",
         "type": "integer"
        },
        {
         "name": "0.34",
         "rawType": "int64",
         "type": "integer"
        },
        {
         "name": "0.35",
         "rawType": "int64",
         "type": "integer"
        },
        {
         "name": "0.36",
         "rawType": "int64",
         "type": "integer"
        },
        {
         "name": "0.37",
         "rawType": "int64",
         "type": "integer"
        },
        {
         "name": "0.38",
         "rawType": "int64",
         "type": "integer"
        },
        {
         "name": "0.39",
         "rawType": "int64",
         "type": "integer"
        },
        {
         "name": "0.40",
         "rawType": "int64",
         "type": "integer"
        },
        {
         "name": "0.41",
         "rawType": "int64",
         "type": "integer"
        },
        {
         "name": "0.42",
         "rawType": "int64",
         "type": "integer"
        },
        {
         "name": "5",
         "rawType": "int64",
         "type": "integer"
        }
       ],
       "ref": "299be871-61ba-4253-b1cc-400b2ee9b5d6",
       "rows": [
        [
         "0",
         "2590",
         "56",
         "2",
         "212",
         "-6",
         "390",
         "220",
         "235",
         "151",
         "6225",
         "1",
         "0",
         "0",
         "0",
         "0",
         "0",
         "0",
         "0",
         "0",
         "0",
         "0",
         "0",
         "0",
         "0",
         "0",
         "0",
         "0",
         "0",
         "0",
         "0",
         "0",
         "0",
         "0",
         "0",
         "0",
         "0",
         "0",
         "0",
         "0",
         "0",
         "0",
         "0",
         "1",
         "0",
         "0",
         "0",
         "0",
         "0",
         "0",
         "0",
         "0",
         "0",
         "0",
         "0",
         "5"
        ],
        [
         "1",
         "2804",
         "139",
         "9",
         "268",
         "65",
         "3180",
         "234",
         "238",
         "135",
         "6121",
         "1",
         "0",
         "0",
         "0",
         "0",
         "0",
         "0",
         "0",
         "0",
         "0",
         "0",
         "0",
         "0",
         "0",
         "0",
         "1",
         "0",
         "0",
         "0",
         "0",
         "0",
         "0",
         "0",
         "0",
         "0",
         "0",
         "0",
         "0",
         "0",
         "0",
         "0",
         "0",
         "0",
         "0",
         "0",
         "0",
         "0",
         "0",
         "0",
         "0",
         "0",
         "0",
         "0",
         "0",
         "2"
        ],
        [
         "2",
         "2785",
         "155",
         "18",
         "242",
         "118",
         "3090",
         "238",
         "238",
         "122",
         "6211",
         "1",
         "0",
         "0",
         "0",
         "0",
         "0",
         "0",
         "0",
         "0",
         "0",
         "0",
         "0",
         "0",
         "0",
         "0",
         "0",
         "0",
         "0",
         "0",
         "0",
         "0",
         "0",
         "0",
         "0",
         "0",
         "0",
         "0",
         "0",
         "0",
         "0",
         "0",
         "0",
         "0",
         "1",
         "0",
         "0",
         "0",
         "0",
         "0",
         "0",
         "0",
         "0",
         "0",
         "0",
         "2"
        ],
        [
         "3",
         "2595",
         "45",
         "2",
         "153",
         "-1",
         "391",
         "220",
         "234",
         "150",
         "6172",
         "1",
         "0",
         "0",
         "0",
         "0",
         "0",
         "0",
         "0",
         "0",
         "0",
         "0",
         "0",
         "0",
         "0",
         "0",
         "0",
         "0",
         "0",
         "0",
         "0",
         "0",
         "0",
         "0",
         "0",
         "0",
         "0",
         "0",
         "0",
         "0",
         "0",
         "0",
         "0",
         "1",
         "0",
         "0",
         "0",
         "0",
         "0",
         "0",
         "0",
         "0",
         "0",
         "0",
         "0",
         "5"
        ],
        [
         "4",
         "2579",
         "132",
         "6",
         "300",
         "-15",
         "67",
         "230",
         "237",
         "140",
         "6031",
         "1",
         "0",
         "0",
         "0",
         "0",
         "0",
         "0",
         "0",
         "0",
         "0",
         "0",
         "0",
         "0",
         "0",
         "0",
         "0",
         "0",
         "0",
         "0",
         "0",
         "0",
         "0",
         "0",
         "0",
         "0",
         "0",
         "0",
         "0",
         "0",
         "0",
         "0",
         "0",
         "1",
         "0",
         "0",
         "0",
         "0",
         "0",
         "0",
         "0",
         "0",
         "0",
         "0",
         "0",
         "2"
        ]
       ],
       "shape": {
        "columns": 55,
        "rows": 5
       }
      },
      "text/html": [
       "<div>\n",
       "<style scoped>\n",
       "    .dataframe tbody tr th:only-of-type {\n",
       "        vertical-align: middle;\n",
       "    }\n",
       "\n",
       "    .dataframe tbody tr th {\n",
       "        vertical-align: top;\n",
       "    }\n",
       "\n",
       "    .dataframe thead th {\n",
       "        text-align: right;\n",
       "    }\n",
       "</style>\n",
       "<table border=\"1\" class=\"dataframe\">\n",
       "  <thead>\n",
       "    <tr style=\"text-align: right;\">\n",
       "      <th></th>\n",
       "      <th>2596</th>\n",
       "      <th>51</th>\n",
       "      <th>3</th>\n",
       "      <th>258</th>\n",
       "      <th>0</th>\n",
       "      <th>510</th>\n",
       "      <th>221</th>\n",
       "      <th>232</th>\n",
       "      <th>148</th>\n",
       "      <th>6279</th>\n",
       "      <th>...</th>\n",
       "      <th>0.34</th>\n",
       "      <th>0.35</th>\n",
       "      <th>0.36</th>\n",
       "      <th>0.37</th>\n",
       "      <th>0.38</th>\n",
       "      <th>0.39</th>\n",
       "      <th>0.40</th>\n",
       "      <th>0.41</th>\n",
       "      <th>0.42</th>\n",
       "      <th>5</th>\n",
       "    </tr>\n",
       "  </thead>\n",
       "  <tbody>\n",
       "    <tr>\n",
       "      <th>0</th>\n",
       "      <td>2590</td>\n",
       "      <td>56</td>\n",
       "      <td>2</td>\n",
       "      <td>212</td>\n",
       "      <td>-6</td>\n",
       "      <td>390</td>\n",
       "      <td>220</td>\n",
       "      <td>235</td>\n",
       "      <td>151</td>\n",
       "      <td>6225</td>\n",
       "      <td>...</td>\n",
       "      <td>0</td>\n",
       "      <td>0</td>\n",
       "      <td>0</td>\n",
       "      <td>0</td>\n",
       "      <td>0</td>\n",
       "      <td>0</td>\n",
       "      <td>0</td>\n",
       "      <td>0</td>\n",
       "      <td>0</td>\n",
       "      <td>5</td>\n",
       "    </tr>\n",
       "    <tr>\n",
       "      <th>1</th>\n",
       "      <td>2804</td>\n",
       "      <td>139</td>\n",
       "      <td>9</td>\n",
       "      <td>268</td>\n",
       "      <td>65</td>\n",
       "      <td>3180</td>\n",
       "      <td>234</td>\n",
       "      <td>238</td>\n",
       "      <td>135</td>\n",
       "      <td>6121</td>\n",
       "      <td>...</td>\n",
       "      <td>0</td>\n",
       "      <td>0</td>\n",
       "      <td>0</td>\n",
       "      <td>0</td>\n",
       "      <td>0</td>\n",
       "      <td>0</td>\n",
       "      <td>0</td>\n",
       "      <td>0</td>\n",
       "      <td>0</td>\n",
       "      <td>2</td>\n",
       "    </tr>\n",
       "    <tr>\n",
       "      <th>2</th>\n",
       "      <td>2785</td>\n",
       "      <td>155</td>\n",
       "      <td>18</td>\n",
       "      <td>242</td>\n",
       "      <td>118</td>\n",
       "      <td>3090</td>\n",
       "      <td>238</td>\n",
       "      <td>238</td>\n",
       "      <td>122</td>\n",
       "      <td>6211</td>\n",
       "      <td>...</td>\n",
       "      <td>0</td>\n",
       "      <td>0</td>\n",
       "      <td>0</td>\n",
       "      <td>0</td>\n",
       "      <td>0</td>\n",
       "      <td>0</td>\n",
       "      <td>0</td>\n",
       "      <td>0</td>\n",
       "      <td>0</td>\n",
       "      <td>2</td>\n",
       "    </tr>\n",
       "    <tr>\n",
       "      <th>3</th>\n",
       "      <td>2595</td>\n",
       "      <td>45</td>\n",
       "      <td>2</td>\n",
       "      <td>153</td>\n",
       "      <td>-1</td>\n",
       "      <td>391</td>\n",
       "      <td>220</td>\n",
       "      <td>234</td>\n",
       "      <td>150</td>\n",
       "      <td>6172</td>\n",
       "      <td>...</td>\n",
       "      <td>0</td>\n",
       "      <td>0</td>\n",
       "      <td>0</td>\n",
       "      <td>0</td>\n",
       "      <td>0</td>\n",
       "      <td>0</td>\n",
       "      <td>0</td>\n",
       "      <td>0</td>\n",
       "      <td>0</td>\n",
       "      <td>5</td>\n",
       "    </tr>\n",
       "    <tr>\n",
       "      <th>4</th>\n",
       "      <td>2579</td>\n",
       "      <td>132</td>\n",
       "      <td>6</td>\n",
       "      <td>300</td>\n",
       "      <td>-15</td>\n",
       "      <td>67</td>\n",
       "      <td>230</td>\n",
       "      <td>237</td>\n",
       "      <td>140</td>\n",
       "      <td>6031</td>\n",
       "      <td>...</td>\n",
       "      <td>0</td>\n",
       "      <td>0</td>\n",
       "      <td>0</td>\n",
       "      <td>0</td>\n",
       "      <td>0</td>\n",
       "      <td>0</td>\n",
       "      <td>0</td>\n",
       "      <td>0</td>\n",
       "      <td>0</td>\n",
       "      <td>2</td>\n",
       "    </tr>\n",
       "  </tbody>\n",
       "</table>\n",
       "<p>5 rows × 55 columns</p>\n",
       "</div>"
      ],
      "text/plain": [
       "   2596   51   3  258    0   510  221  232  148  6279  ...  0.34  0.35  0.36  \\\n",
       "0  2590   56   2  212   -6   390  220  235  151  6225  ...     0     0     0   \n",
       "1  2804  139   9  268   65  3180  234  238  135  6121  ...     0     0     0   \n",
       "2  2785  155  18  242  118  3090  238  238  122  6211  ...     0     0     0   \n",
       "3  2595   45   2  153   -1   391  220  234  150  6172  ...     0     0     0   \n",
       "4  2579  132   6  300  -15    67  230  237  140  6031  ...     0     0     0   \n",
       "\n",
       "   0.37  0.38  0.39  0.40  0.41  0.42  5  \n",
       "0     0     0     0     0     0     0  5  \n",
       "1     0     0     0     0     0     0  2  \n",
       "2     0     0     0     0     0     0  2  \n",
       "3     0     0     0     0     0     0  5  \n",
       "4     0     0     0     0     0     0  2  \n",
       "\n",
       "[5 rows x 55 columns]"
      ]
     },
     "execution_count": 8,
     "metadata": {},
     "output_type": "execute_result"
    }
   ],
   "source": [
    "df.head()"
   ]
  },
  {
   "cell_type": "code",
   "execution_count": null,
   "id": "dbb2e9a1",
   "metadata": {},
   "outputs": [],
   "source": []
  }
 ],
 "metadata": {
  "kernelspec": {
   "display_name": "machinelearning",
   "language": "python",
   "name": "python3"
  },
  "language_info": {
   "codemirror_mode": {
    "name": "ipython",
    "version": 3
   },
   "file_extension": ".py",
   "mimetype": "text/x-python",
   "name": "python",
   "nbconvert_exporter": "python",
   "pygments_lexer": "ipython3",
   "version": "3.12.3"
  }
 },
 "nbformat": 4,
 "nbformat_minor": 5
}
