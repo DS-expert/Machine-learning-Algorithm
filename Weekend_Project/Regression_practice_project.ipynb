{
 "cells": [
  {
   "cell_type": "code",
   "execution_count": 1,
   "id": "3597c83a",
   "metadata": {},
   "outputs": [],
   "source": [
    "import pandas as pd\n",
    "import numpy as np\n",
    "import matplotlib.pyplot as plt\n",
    "import seaborn as sns\n",
    "from sklearn.datasets import load_diabetes"
   ]
  },
  {
   "cell_type": "code",
   "execution_count": 2,
   "id": "01067918",
   "metadata": {},
   "outputs": [],
   "source": [
    "# Load the data\n",
    "X, y = load_diabetes(return_X_y=True)"
   ]
  },
  {
   "cell_type": "code",
   "execution_count": 3,
   "id": "8c9c068b",
   "metadata": {},
   "outputs": [],
   "source": [
    "# Split the data into train and test sets\n",
    "from sklearn.model_selection import train_test_split\n",
    "\n",
    "X_train, X_test, y_train, y_test = train_test_split(X, y, test_size=0.2, random_state=42)"
   ]
  },
  {
   "cell_type": "code",
   "execution_count": 13,
   "id": "151b2851",
   "metadata": {},
   "outputs": [],
   "source": [
    "from sklearn.preprocessing import StandardScaler\n",
    "\n",
    "scaler = StandardScaler()\n",
    "\n",
    "X_train  = scaler.fit_transform(X_train)\n",
    "X_test = scaler.transform(X_test)"
   ]
  },
  {
   "cell_type": "markdown",
   "id": "f280dd38",
   "metadata": {},
   "source": [
    "### Apply The Algorithms \n",
    "\n",
    "- Multiple Linear Regression\n",
    "- Gradient Descent \n",
    "- Regularization\n",
    "    - Ridge\n",
    "    - Lasso\n",
    "    - ElasticNET"
   ]
  },
  {
   "cell_type": "code",
   "execution_count": 14,
   "id": "ae8ad81a",
   "metadata": {},
   "outputs": [],
   "source": [
    "# Multiple Linear Regression\n",
    "\n",
    "class MultipleLinearRegression:\n",
    "\n",
    "    def __init__(self):\n",
    "\n",
    "        self.coef_ = None\n",
    "        self.intercept_ = None\n",
    "    def fit(self, X_train, y_train):\n",
    "\n",
    "        X_train = np.insert(X_train, 0, 1, axis=1)\n",
    "\n",
    "        betas = np.linalg.inv(np.dot(X_train.T, X_train)).dot(X_train.T).dot(y_train)\n",
    "\n",
    "        self.coef_ = betas[1:]\n",
    "        self.intercept_= betas[0]\n",
    "\n",
    "        print(f\"Coef_: {self.coef_}\")\n",
    "        print(f\"Intercept_: {self.intercept_}\")\n",
    "\n",
    "    def predict(self, X_test):\n",
    "\n",
    "        y_pred = np.dot(X_test, self.coef_) + self.intercept_\n",
    "\n",
    "        return y_pred\n"
   ]
  },
  {
   "cell_type": "code",
   "execution_count": 15,
   "id": "0c355dcc",
   "metadata": {},
   "outputs": [],
   "source": [
    "mlr = MultipleLinearRegression()"
   ]
  },
  {
   "cell_type": "code",
   "execution_count": 16,
   "id": "9efbdedc",
   "metadata": {},
   "outputs": [
    {
     "name": "stdout",
     "output_type": "stream",
     "text": [
      "Coef_: [  1.75375799 -11.51180908  25.60712144  16.82887167 -44.44885564\n",
      "  24.64095356   7.67697768  13.1387839   35.16119521   2.35136365]\n",
      "Intercept_: 153.73654390934848\n"
     ]
    }
   ],
   "source": [
    "mlr.fit(X_train, y_train)"
   ]
  },
  {
   "cell_type": "code",
   "execution_count": 17,
   "id": "90578c0a",
   "metadata": {},
   "outputs": [],
   "source": [
    "y_pred_mlr = mlr.predict(X_test)"
   ]
  },
  {
   "cell_type": "code",
   "execution_count": 18,
   "id": "86a55b2f",
   "metadata": {},
   "outputs": [
    {
     "name": "stdout",
     "output_type": "stream",
     "text": [
      "R2 Score (MLR) : 0.4526027629719186\n",
      "MSE (MLR) : 2900.193628493486\n",
      "RMSE (MLR) : 53.85344583676597\n"
     ]
    }
   ],
   "source": [
    "from sklearn.metrics import mean_squared_error, r2_score\n",
    "\n",
    "r2_score_mlr = r2_score(y_test, y_pred_mlr)\n",
    "mse_mlr = mean_squared_error(y_test, y_pred_mlr)\n",
    "rmse_mlr = np.sqrt(mse_mlr)\n",
    "\n",
    "print(f\"R2 Score (MLR) : {r2_score_mlr}\")\n",
    "print(f\"MSE (MLR) : {mse_mlr}\")\n",
    "print(f\"RMSE (MLR) : {rmse_mlr}\")"
   ]
  },
  {
   "cell_type": "code",
   "execution_count": 19,
   "id": "b612b089",
   "metadata": {},
   "outputs": [
    {
     "data": {
      "text/plain": [
       "array([[ 1.49836523,  1.06136988,  0.21990201, ...,  0.71103773,\n",
       "         0.54748197, -0.06144896],\n",
       "       [-0.22885822,  1.06136988, -0.41936607, ...,  1.4842858 ,\n",
       "        -0.01975653,  0.36723647],\n",
       "       [ 0.08518241, -0.94217861,  1.01898711, ..., -0.06221033,\n",
       "         0.3312366 , -0.31866022],\n",
       "       ...,\n",
       "       [ 0.63475351, -0.94217861, -0.46502808, ..., -0.83545839,\n",
       "        -0.25375196, -0.06144896],\n",
       "       [-0.30736838, -0.94217861, -0.53352109, ..., -0.06221033,\n",
       "        -0.83072436, -0.83308273],\n",
       "       [-2.03459183, -0.94217861,  0.56236706, ..., -0.83545839,\n",
       "        -0.13312789, -0.06144896]])"
      ]
     },
     "execution_count": 19,
     "metadata": {},
     "output_type": "execute_result"
    }
   ],
   "source": [
    "X_train"
   ]
  },
  {
   "cell_type": "code",
   "execution_count": 49,
   "id": "2c57bb7e",
   "metadata": {},
   "outputs": [],
   "source": [
    "# Gradient Descent \n",
    "\n",
    "class GradientDescent:\n",
    "\n",
    "    def __init__(self, learning_rate, epochs):\n",
    "\n",
    "        self.coef_ = None\n",
    "        self.lr = learning_rate\n",
    "        self.epochs = epochs\n",
    "    \n",
    "    def fit(self, X_train, y_train):\n",
    "\n",
    "        X_train = np.insert(X_train, 0, 1, axis=1)\n",
    "\n",
    "        self.coef_ = np.ones(X_train.shape[1])\n",
    "\n",
    "        losses = []\n",
    "\n",
    "        print(f\"X_train Initial Stage - {X_train}\")\n",
    "\n",
    "        for i in range(self.epochs):\n",
    "\n",
    "            y_pred = np.dot(X_train, self.coef_)\n",
    "\n",
    "            error = y_train - y_pred\n",
    "\n",
    "            coef_slope = -(2/X_train.shape[0]) * np.dot((error), X_train)\n",
    " \n",
    "            self.coef_ = self.coef_ - (self.lr * coef_slope)\n",
    "\n",
    "            loss = np.mean(error ** 2)\n",
    "            losses.append(loss)\n",
    "            if i % 100 == 0:\n",
    "                print(f\"Epoch {i}, Loss: {loss}\")\n",
    "        plt.plot(range(self.epochs), losses)\n",
    "        plt.xlabel(\"Epochs\")\n",
    "        plt.ylabel(\"Loss\")\n",
    "        plt.title(\"Loss over Epochs\")\n",
    "        plt.show()\n",
    "\n",
    "        print(f\"Coef_: {self.coef_}\")\n",
    "    \n",
    "    def predict(self, X_test):\n",
    "\n",
    "        X_test = np.insert(X_test, 0, 1, axis=1)\n",
    "        y_pred = np.dot(X_test, self.coef_)\n",
    "\n",
    "        return y_pred\n",
    "\n"
   ]
  },
  {
   "cell_type": "code",
   "execution_count": 53,
   "id": "10068cbe",
   "metadata": {},
   "outputs": [],
   "source": [
    "gradient =  GradientDescent(learning_rate=0.001, epochs=5000)"
   ]
  },
  {
   "cell_type": "code",
   "execution_count": 54,
   "id": "9961a6d7",
   "metadata": {},
   "outputs": [
    {
     "name": "stdout",
     "output_type": "stream",
     "text": [
      "X_train Initial Stage - [[ 1.          1.49836523  1.06136988 ...  0.71103773  0.54748197\n",
      "  -0.06144896]\n",
      " [ 1.         -0.22885822  1.06136988 ...  1.4842858  -0.01975653\n",
      "   0.36723647]\n",
      " [ 1.          0.08518241 -0.94217861 ... -0.06221033  0.3312366\n",
      "  -0.31866022]\n",
      " ...\n",
      " [ 1.          0.63475351 -0.94217861 ... -0.83545839 -0.25375196\n",
      "  -0.06144896]\n",
      " [ 1.         -0.30736838 -0.94217861 ... -0.06221033 -0.83072436\n",
      "  -0.83308273]\n",
      " [ 1.         -2.03459183 -0.94217861 ... -0.83545839 -0.13312789\n",
      "  -0.06144896]]\n",
      "Epoch 0, Loss: 29029.06965070155\n",
      "Epoch 100, Loss: 19695.941217862397\n",
      "Epoch 200, Loss: 13997.597058737281\n",
      "Epoch 300, Loss: 10298.706616247124\n",
      "Epoch 400, Loss: 7847.9045936212515\n",
      "Epoch 500, Loss: 6213.062280892031\n",
      "Epoch 600, Loss: 5119.892509504127\n",
      "Epoch 700, Loss: 4388.1437651898295\n",
      "Epoch 800, Loss: 3897.999157678982\n",
      "Epoch 900, Loss: 3569.5042361130454\n",
      "Epoch 1000, Loss: 3349.224508048479\n",
      "Epoch 1100, Loss: 3201.4220914020198\n",
      "Epoch 1200, Loss: 3102.18272366635\n",
      "Epoch 1300, Loss: 3035.4972206093134\n",
      "Epoch 1400, Loss: 2990.6441521243214\n",
      "Epoch 1500, Loss: 2960.440529548859\n"
     ]
    },
    {
     "name": "stdout",
     "output_type": "stream",
     "text": [
      "Epoch 1600, Loss: 2940.0720833694795\n",
      "Epoch 1700, Loss: 2926.3107862416114\n",
      "Epoch 1800, Loss: 2916.9912323238036\n",
      "Epoch 1900, Loss: 2910.660120792724\n",
      "Epoch 2000, Loss: 2906.341540601255\n",
      "Epoch 2100, Loss: 2903.379748271939\n",
      "Epoch 2200, Loss: 2901.333819377795\n",
      "Epoch 2300, Loss: 2899.907034547549\n",
      "Epoch 2400, Loss: 2898.899530493511\n",
      "Epoch 2500, Loss: 2898.1765384800456\n",
      "Epoch 2600, Loss: 2897.647069511584\n",
      "Epoch 2700, Loss: 2897.2496032092895\n",
      "Epoch 2800, Loss: 2896.9424737583677\n",
      "Epoch 2900, Loss: 2896.69740720255\n",
      "Epoch 3000, Loss: 2896.495173951887\n",
      "Epoch 3100, Loss: 2896.32266173931\n",
      "Epoch 3200, Loss: 2896.1709029996905\n",
      "Epoch 3300, Loss: 2896.0337439544314\n",
      "Epoch 3400, Loss: 2895.906945467994\n",
      "Epoch 3500, Loss: 2895.7875746732147\n",
      "Epoch 3600, Loss: 2895.6735926058363\n",
      "Epoch 3700, Loss: 2895.563574124121\n",
      "Epoch 3800, Loss: 2895.4565172275443\n",
      "Epoch 3900, Loss: 2895.351712886907\n",
      "Epoch 4000, Loss: 2895.248655907352\n",
      "Epoch 4100, Loss: 2895.1469836744423\n",
      "Epoch 4200, Loss: 2895.0464338935944\n",
      "Epoch 4300, Loss: 2894.9468153033667\n",
      "Epoch 4400, Loss: 2894.847987279029\n",
      "Epoch 4500, Loss: 2894.7498455501204\n",
      "Epoch 4600, Loss: 2894.652312139798\n",
      "Epoch 4700, Loss: 2894.5553282326537\n",
      "Epoch 4800, Loss: 2894.45884908412\n",
      "Epoch 4900, Loss: 2894.3628403610783\n"
     ]
    },
    {
     "data": {
      "image/png": "[encoded data removed]",
      "text/plain": [
       "<Figure size 640x480 with 1 Axes>"
      ]
     },
     "metadata": {},
     "output_type": "display_data"
    },
    {
     "name": "stdout",
     "output_type": "stream",
     "text": [
      "Coef_: [153.72967877   1.94813401 -11.42716333  26.323206    16.58295738\n",
      "  -6.87271902  -4.66684982  -8.99228086   7.81558781  20.76350668\n",
      "   2.663527  ]\n"
     ]
    }
   ],
   "source": [
    "gradient.fit(X_train, y_train)"
   ]
  },
  {
   "cell_type": "code",
   "execution_count": 55,
   "id": "5bfa74e0",
   "metadata": {},
   "outputs": [
    {
     "name": "stdout",
     "output_type": "stream",
     "text": [
      "R2 Score (Gradient) : 0.4552883745952343\n",
      "MSE (gradient) : 2885.964850575579\n",
      "RMSE (Gradient) : 53.72117692842906\n"
     ]
    }
   ],
   "source": [
    "y_pred_gradient = gradient.predict(X_test)\n",
    "\n",
    "r2_score_gradient = r2_score(y_test, y_pred_gradient)\n",
    "mse_gradient = mean_squared_error(y_test, y_pred_gradient)\n",
    "rmse_gradient = np.sqrt(mse_gradient)\n",
    "\n",
    "print(f\"R2 Score (Gradient) : {r2_score_gradient}\")\n",
    "print(f\"MSE (gradient) : {mse_gradient}\")\n",
    "print(f\"RMSE (Gradient) : {rmse_gradient}\")"
   ]
  },
  {
   "cell_type": "code",
   "execution_count": 56,
   "id": "d5cf3a3c",
   "metadata": {},
   "outputs": [],
   "source": [
    "class Ridge:\n",
    "\n",
    "    def __init__(self, learning_rate, epochs, alpha):\n",
    "\n",
    "        self.coef_ = None\n",
    "        self.lr = learning_rate\n",
    "        self.epochs = epochs\n",
    "        self.alpha = alpha\n",
    "\n",
    "    def fit(self, X_train, y_train):\n",
    "\n",
    "        X_train = np.insert(X_train, 0, 1, axis=1)\n",
    "        self.coef_ = np.random.randn(X_train.shape[1]) * 0.01\n",
    "\n",
    "        for i in range(self.epochs):\n",
    "\n",
    "            coef_slope = np.dot(X_train.T, (np.dot(X_train, self.coef_))) - np.dot(X_train.T, y_train) + np.dot(self.alpha, self.coef_) / X_train.shape[0]\n",
    "\n",
    "            self.coef_ = self.coef_ - (self.lr * coef_slope)\n",
    "        \n",
    "        print(f\"Coef_: {self.coef_}\")\n",
    "\n",
    "    def predict(self, X_test):\n",
    "\n",
    "        X_test = np.insert(X_test, 0, 1, axis=1)\n",
    "        y_pred = np.dot(X_test, self.coef_)\n",
    "\n",
    "        return y_pred\n"
   ]
  },
  {
   "cell_type": "code",
   "execution_count": 60,
   "id": "ee6d1e17",
   "metadata": {},
   "outputs": [],
   "source": [
    "ridge = Ridge(learning_rate=0.0001, epochs=1000, alpha=0.1)"
   ]
  },
  {
   "cell_type": "code",
   "execution_count": 61,
   "id": "e218f783",
   "metadata": {},
   "outputs": [
    {
     "name": "stdout",
     "output_type": "stream",
     "text": [
      "Coef_: [153.73642053   1.91568544 -11.44671509  26.18300974  16.64059154\n",
      " -14.44140117   1.19828967  -5.59546954   8.95828594  23.66331211\n",
      "   2.56894321]\n"
     ]
    }
   ],
   "source": [
    "ridge.fit(X_train, y_train)"
   ]
  },
  {
   "cell_type": "code",
   "execution_count": 62,
   "id": "986ce979",
   "metadata": {},
   "outputs": [],
   "source": [
    "y_pred_ridge = ridge.predict(X_test)"
   ]
  },
  {
   "cell_type": "code",
   "execution_count": 64,
   "id": "a8b70642",
   "metadata": {},
   "outputs": [
    {
     "name": "stdout",
     "output_type": "stream",
     "text": [
      "R2 Score Ridge: 0.46%\n",
      "MSE Ridge: 2886.319220554706\n",
      "RMSE Ridge : 53.7244750607645\n"
     ]
    }
   ],
   "source": [
    "r2_score_ridge = r2_score(y_test, y_pred_ridge)\n",
    "mse_ridge = mean_squared_error(y_test, y_pred_ridge)\n",
    "rmse_ridge = np.sqrt(mse_ridge)\n",
    "\n",
    "print(f\"R2 Score Ridge: {r2_score_ridge:.2f}%\")\n",
    "print(f\"MSE Ridge: {mse_ridge}\")\n",
    "print(f\"RMSE Ridge : {rmse_ridge}\")"
   ]
  },
  {
   "cell_type": "code",
   "execution_count": 66,
   "id": "68f7be41",
   "metadata": {},
   "outputs": [],
   "source": [
    "# Lasso Regression\n",
    "\n",
    "class LassoRegression():\n",
    "\n",
    "    def __init__(self, learning_rate, epochs, alpha):\n",
    "\n",
    "        self.coef_ = None\n",
    "        self.lr = learning_rate\n",
    "        self.epochs = epochs\n",
    "        self.alpha = alpha\n",
    "    \n",
    "    def fit(self, X_train, y_train):\n",
    "\n",
    "        X_train = np.insert(X_train, 0, 1, axis=1)\n",
    "        self.coef_ = np.random.randn(X_train.shape[1]) * 0.01\n",
    "        losses = []\n",
    "\n",
    "        for i in range(self.epochs):\n",
    "            \n",
    "            y_pred = np.dot(X_train, self.coef_)\n",
    "            error = y_train - y_pred\n",
    "            coef_slope = np.dot(X_train.T, X_train).dot(self.coef_) - np.dot(X_train.T, y_train) + (np.dot(self.alpha, (np.sign(self.coef_))))\n",
    "            self.coef_ = self.coef_ - (self.lr * coef_slope)\n",
    "            loss = np.mean(error ** 2)\n",
    "            losses.append(loss)\n",
    "        print(f\"Coef_: {self.coef_}\")\n",
    "        plt.plot(range(self.epochs), losses)\n",
    "        plt.xlabel(\"Epochs\")\n",
    "        plt.ylabel(\"Loss\")\n",
    "        plt.title(\"Epoch vs loss\")\n",
    "        plt.show()\n",
    "\n",
    "    def predict(self, X_test):\n",
    "\n",
    "        X_test = np.insert(X_test, 0, 1, axis=1)\n",
    "        y_pred = np.dot(X_test, self.coef_)\n",
    "\n",
    "        return y_pred\n",
    "\n",
    "\n"
   ]
  },
  {
   "cell_type": "code",
   "execution_count": 67,
   "id": "b69ae85a",
   "metadata": {},
   "outputs": [],
   "source": [
    "lasso = LassoRegression(learning_rate=0.0001, epochs=1000, alpha=0.1)"
   ]
  },
  {
   "cell_type": "code",
   "execution_count": 68,
   "id": "966d63ab",
   "metadata": {},
   "outputs": [
    {
     "name": "stdout",
     "output_type": "stream",
     "text": [
      "Coef_: [153.73626062   1.91538793 -11.44605913  26.18318627  16.64022063\n",
      " -14.43118724   1.19124193  -5.60040398   8.95512166  23.66010563\n",
      "   2.56887292]\n"
     ]
    },
    {
     "data": {
      "image/png": "[encoded data removed]",
      "text/plain": [
       "<Figure size 640x480 with 1 Axes>"
      ]
     },
     "metadata": {},
     "output_type": "display_data"
    }
   ],
   "source": [
    "lasso.fit(X_train, y_train)"
   ]
  },
  {
   "cell_type": "code",
   "execution_count": 69,
   "id": "49a52e43",
   "metadata": {},
   "outputs": [],
   "source": [
    "y_pred_lasso = lasso.predict(X_test)"
   ]
  },
  {
   "cell_type": "code",
   "execution_count": 70,
   "id": "b4aa7a46",
   "metadata": {},
   "outputs": [
    {
     "name": "stdout",
     "output_type": "stream",
     "text": [
      "R2 Score lasso : 0.46%\n",
      "MSE Lasso : 2886.297859806256\n",
      "RMSE Lasso : 53.72427626135373\n"
     ]
    }
   ],
   "source": [
    "r2_score_lasso = r2_score(y_test, y_pred_lasso)\n",
    "mse_lasso = mean_squared_error(y_test, y_pred_lasso)\n",
    "rmse_lasso = np.sqrt(mse_lasso)\n",
    "\n",
    "print(f\"R2 Score lasso : {r2_score_lasso:.2f}%\")\n",
    "print(f\"MSE Lasso : {mse_lasso}\")\n",
    "print(f\"RMSE Lasso : {rmse_lasso}\")\n"
   ]
  },
  {
   "cell_type": "code",
   "execution_count": 71,
   "id": "ec09ac07",
   "metadata": {},
   "outputs": [],
   "source": [
    "# ElasticNET Regularization\n",
    "\n",
    "class ElasticNET_:\n",
    "\n",
    "    def __init__(self, learning_rate, epochs, alpha, l2_ratio):\n",
    "\n",
    "        self.coef_ = None\n",
    "        self.lr = learning_rate\n",
    "        self.epochs = epochs\n",
    "        self.alpha = alpha\n",
    "        self.l2_ratio = l2_ratio\n",
    "    \n",
    "    def fit(self, X_train, y_train):\n",
    "\n",
    "        X_train = np.insert(X_train, 0, 1, axis=1)\n",
    "        self.coef_ = np.random.randn(X_train.shape[1]) * 0.01\n",
    "\n",
    "        for i in range(self.epochs):\n",
    "\n",
    "            coef_slope = np.dot(X_train.T, X_train).dot(self.coef_) - np.dot(X_train.T, y_train) + np.dot(self.alpha, (np.dot(self.l2_ratio, self.coef_) + np.dot((1 - self.l2_ratio), np.sign(self.coef_))))\n",
    "\n",
    "            self.coef_ = self.coef_ - (self.lr * coef_slope)\n",
    "        \n",
    "        print(f\"Coef_: {self.coef_}\")\n",
    "    \n",
    "    def predict(self, X_test):\n",
    "\n",
    "        X_test = np.insert(X_test, 0, 1, axis=1)\n",
    "        y_pred = np.dot(X_test, self.coef_)\n",
    "\n",
    "        return y_pred"
   ]
  },
  {
   "cell_type": "code",
   "execution_count": 72,
   "id": "2af1aca2",
   "metadata": {},
   "outputs": [],
   "source": [
    "elastic_ = ElasticNET_(learning_rate=0.0001, epochs=1000, alpha=0.1, l2_ratio=0.5)"
   ]
  },
  {
   "cell_type": "code",
   "execution_count": 73,
   "id": "9a284a2d",
   "metadata": {},
   "outputs": [
    {
     "name": "stdout",
     "output_type": "stream",
     "text": [
      "Coef_: [153.71462966   1.91563178 -11.44420784  26.18023905  16.6386257\n",
      " -14.42244161   1.18685145  -5.60366202   8.95335205  23.65480177\n",
      "   2.5708132 ]\n"
     ]
    }
   ],
   "source": [
    "elastic_.fit(X_train, y_train)"
   ]
  },
  {
   "cell_type": "code",
   "execution_count": 74,
   "id": "4f8cdf3f",
   "metadata": {},
   "outputs": [],
   "source": [
    "y_pred_elastic = elastic_.predict(X_test)"
   ]
  },
  {
   "cell_type": "code",
   "execution_count": 76,
   "id": "48d7cb12",
   "metadata": {},
   "outputs": [
    {
     "name": "stdout",
     "output_type": "stream",
     "text": [
      "R2 Score Elastic : 0.46%\n",
      "MSE Elastic : 2886.42402422433\n",
      "RMSE Elastic : 53.72545043295896\n"
     ]
    }
   ],
   "source": [
    "r2_score_elastic = r2_score(y_test, y_pred_elastic)\n",
    "mse_elastic = mean_squared_error(y_test, y_pred_elastic)\n",
    "rmse_elastic = np.sqrt(mse_elastic)\n",
    "\n",
    "print(f\"R2 Score Elastic : {r2_score_elastic:.2f}%\")\n",
    "print(f\"MSE Elastic : {mse_elastic}\")\n",
    "print(f\"RMSE Elastic : {rmse_elastic}\")"
   ]
  },
  {
   "cell_type": "code",
   "execution_count": null,
   "id": "78f34c5c",
   "metadata": {},
   "outputs": [],
   "source": []
  }
 ],
 "metadata": {
  "kernelspec": {
   "display_name": "machinelearning",
   "language": "python",
   "name": "python3"
  },
  "language_info": {
   "codemirror_mode": {
    "name": "ipython",
    "version": 3
   },
   "file_extension": ".py",
   "mimetype": "text/x-python",
   "name": "python",
   "nbconvert_exporter": "python",
   "pygments_lexer": "ipython3",
   "version": "3.12.3"
  }
 },
 "nbformat": 4,
 "nbformat_minor": 5
}
