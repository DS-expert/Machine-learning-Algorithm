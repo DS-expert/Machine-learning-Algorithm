{
 "cells": [
  {
   "cell_type": "code",
   "execution_count": 2,
   "id": "218473e3",
   "metadata": {},
   "outputs": [],
   "source": [
    "import pandas as pd\n",
    "import numpy as np\n",
    "import matplotlib.pyplot as plt\n",
    "import seaborn as sns\n"
   ]
  },
  {
   "cell_type": "markdown",
   "id": "8d2d6f8c",
   "metadata": {},
   "source": [
    "## Import Data"
   ]
  },
  {
   "cell_type": "code",
   "execution_count": 3,
   "id": "bb481daa",
   "metadata": {},
   "outputs": [],
   "source": [
    "# Load the dataset\n",
    "\n",
    "df = pd.read_csv(\"/home/inventor/Datasets/House Prediction/House_Prediction/data.csv\")"
   ]
  },
  {
   "cell_type": "code",
   "execution_count": 4,
   "id": "87026d3a",
   "metadata": {},
   "outputs": [
    {
     "data": {
      "application/vnd.microsoft.datawrangler.viewer.v0+json": {
       "columns": [
        {
         "name": "index",
         "rawType": "int64",
         "type": "integer"
        },
        {
         "name": "date",
         "rawType": "object",
         "type": "string"
        },
        {
         "name": "price",
         "rawType": "float64",
         "type": "float"
        },
        {
         "name": "bedrooms",
         "rawType": "float64",
         "type": "float"
        },
        {
         "name": "bathrooms",
         "rawType": "float64",
         "type": "float"
        },
        {
         "name": "sqft_living",
         "rawType": "int64",
         "type": "integer"
        },
        {
         "name": "sqft_lot",
         "rawType": "int64",
         "type": "integer"
        },
        {
         "name": "floors",
         "rawType": "float64",
         "type": "float"
        },
        {
         "name": "waterfront",
         "rawType": "int64",
         "type": "integer"
        },
        {
         "name": "view",
         "rawType": "int64",
         "type": "integer"
        },
        {
         "name": "condition",
         "rawType": "int64",
         "type": "integer"
        },
        {
         "name": "sqft_above",
         "rawType": "int64",
         "type": "integer"
        },
        {
         "name": "sqft_basement",
         "rawType": "int64",
         "type": "integer"
        },
        {
         "name": "yr_built",
         "rawType": "int64",
         "type": "integer"
        },
        {
         "name": "yr_renovated",
         "rawType": "int64",
         "type": "integer"
        },
        {
         "name": "street",
         "rawType": "object",
         "type": "string"
        },
        {
         "name": "city",
         "rawType": "object",
         "type": "string"
        },
        {
         "name": "statezip",
         "rawType": "object",
         "type": "string"
        },
        {
         "name": "country",
         "rawType": "object",
         "type": "string"
        }
       ],
       "conversionMethod": "pd.DataFrame",
       "ref": "4a79cd35-7c8a-435c-b957-786d0b413451",
       "rows": [
        [
         "0",
         "2014-05-02 00:00:00",
         "313000.0",
         "3.0",
         "1.5",
         "1340",
         "7912",
         "1.5",
         "0",
         "0",
         "3",
         "1340",
         "0",
         "1955",
         "2005",
         "18810 Densmore Ave N",
         "Shoreline",
         "WA 98133",
         "USA"
        ],
        [
         "1",
         "2014-05-02 00:00:00",
         "2384000.0",
         "5.0",
         "2.5",
         "3650",
         "9050",
         "2.0",
         "0",
         "4",
         "5",
         "3370",
         "280",
         "1921",
         "0",
         "709 W Blaine St",
         "Seattle",
         "WA 98119",
         "USA"
        ],
        [
         "2",
         "2014-05-02 00:00:00",
         "342000.0",
         "3.0",
         "2.0",
         "1930",
         "11947",
         "1.0",
         "0",
         "0",
         "4",
         "1930",
         "0",
         "1966",
         "0",
         "26206-26214 143rd Ave SE",
         "Kent",
         "WA 98042",
         "USA"
        ],
        [
         "3",
         "2014-05-02 00:00:00",
         "420000.0",
         "3.0",
         "2.25",
         "2000",
         "8030",
         "1.0",
         "0",
         "0",
         "4",
         "1000",
         "1000",
         "1963",
         "0",
         "857 170th Pl NE",
         "Bellevue",
         "WA 98008",
         "USA"
        ],
        [
         "4",
         "2014-05-02 00:00:00",
         "550000.0",
         "4.0",
         "2.5",
         "1940",
         "10500",
         "1.0",
         "0",
         "0",
         "4",
         "1140",
         "800",
         "1976",
         "1992",
         "9105 170th Ave NE",
         "Redmond",
         "WA 98052",
         "USA"
        ]
       ],
       "shape": {
        "columns": 18,
        "rows": 5
       }
      },
      "text/html": [
       "<div>\n",
       "<style scoped>\n",
       "    .dataframe tbody tr th:only-of-type {\n",
       "        vertical-align: middle;\n",
       "    }\n",
       "\n",
       "    .dataframe tbody tr th {\n",
       "        vertical-align: top;\n",
       "    }\n",
       "\n",
       "    .dataframe thead th {\n",
       "        text-align: right;\n",
       "    }\n",
       "</style>\n",
       "<table border=\"1\" class=\"dataframe\">\n",
       "  <thead>\n",
       "    <tr style=\"text-align: right;\">\n",
       "      <th></th>\n",
       "      <th>date</th>\n",
       "      <th>price</th>\n",
       "      <th>bedrooms</th>\n",
       "      <th>bathrooms</th>\n",
       "      <th>sqft_living</th>\n",
       "      <th>sqft_lot</th>\n",
       "      <th>floors</th>\n",
       "      <th>waterfront</th>\n",
       "      <th>view</th>\n",
       "      <th>condition</th>\n",
       "      <th>sqft_above</th>\n",
       "      <th>sqft_basement</th>\n",
       "      <th>yr_built</th>\n",
       "      <th>yr_renovated</th>\n",
       "      <th>street</th>\n",
       "      <th>city</th>\n",
       "      <th>statezip</th>\n",
       "      <th>country</th>\n",
       "    </tr>\n",
       "  </thead>\n",
       "  <tbody>\n",
       "    <tr>\n",
       "      <th>0</th>\n",
       "      <td>2014-05-02 00:00:00</td>\n",
       "      <td>313000.0</td>\n",
       "      <td>3.0</td>\n",
       "      <td>1.50</td>\n",
       "      <td>1340</td>\n",
       "      <td>7912</td>\n",
       "      <td>1.5</td>\n",
       "      <td>0</td>\n",
       "      <td>0</td>\n",
       "      <td>3</td>\n",
       "      <td>1340</td>\n",
       "      <td>0</td>\n",
       "      <td>1955</td>\n",
       "      <td>2005</td>\n",
       "      <td>18810 Densmore Ave N</td>\n",
       "      <td>Shoreline</td>\n",
       "      <td>WA 98133</td>\n",
       "      <td>USA</td>\n",
       "    </tr>\n",
       "    <tr>\n",
       "      <th>1</th>\n",
       "      <td>2014-05-02 00:00:00</td>\n",
       "      <td>2384000.0</td>\n",
       "      <td>5.0</td>\n",
       "      <td>2.50</td>\n",
       "      <td>3650</td>\n",
       "      <td>9050</td>\n",
       "      <td>2.0</td>\n",
       "      <td>0</td>\n",
       "      <td>4</td>\n",
       "      <td>5</td>\n",
       "      <td>3370</td>\n",
       "      <td>280</td>\n",
       "      <td>1921</td>\n",
       "      <td>0</td>\n",
       "      <td>709 W Blaine St</td>\n",
       "      <td>Seattle</td>\n",
       "      <td>WA 98119</td>\n",
       "      <td>USA</td>\n",
       "    </tr>\n",
       "    <tr>\n",
       "      <th>2</th>\n",
       "      <td>2014-05-02 00:00:00</td>\n",
       "      <td>342000.0</td>\n",
       "      <td>3.0</td>\n",
       "      <td>2.00</td>\n",
       "      <td>1930</td>\n",
       "      <td>11947</td>\n",
       "      <td>1.0</td>\n",
       "      <td>0</td>\n",
       "      <td>0</td>\n",
       "      <td>4</td>\n",
       "      <td>1930</td>\n",
       "      <td>0</td>\n",
       "      <td>1966</td>\n",
       "      <td>0</td>\n",
       "      <td>26206-26214 143rd Ave SE</td>\n",
       "      <td>Kent</td>\n",
       "      <td>WA 98042</td>\n",
       "      <td>USA</td>\n",
       "    </tr>\n",
       "    <tr>\n",
       "      <th>3</th>\n",
       "      <td>2014-05-02 00:00:00</td>\n",
       "      <td>420000.0</td>\n",
       "      <td>3.0</td>\n",
       "      <td>2.25</td>\n",
       "      <td>2000</td>\n",
       "      <td>8030</td>\n",
       "      <td>1.0</td>\n",
       "      <td>0</td>\n",
       "      <td>0</td>\n",
       "      <td>4</td>\n",
       "      <td>1000</td>\n",
       "      <td>1000</td>\n",
       "      <td>1963</td>\n",
       "      <td>0</td>\n",
       "      <td>857 170th Pl NE</td>\n",
       "      <td>Bellevue</td>\n",
       "      <td>WA 98008</td>\n",
       "      <td>USA</td>\n",
       "    </tr>\n",
       "    <tr>\n",
       "      <th>4</th>\n",
       "      <td>2014-05-02 00:00:00</td>\n",
       "      <td>550000.0</td>\n",
       "      <td>4.0</td>\n",
       "      <td>2.50</td>\n",
       "      <td>1940</td>\n",
       "      <td>10500</td>\n",
       "      <td>1.0</td>\n",
       "      <td>0</td>\n",
       "      <td>0</td>\n",
       "      <td>4</td>\n",
       "      <td>1140</td>\n",
       "      <td>800</td>\n",
       "      <td>1976</td>\n",
       "      <td>1992</td>\n",
       "      <td>9105 170th Ave NE</td>\n",
       "      <td>Redmond</td>\n",
       "      <td>WA 98052</td>\n",
       "      <td>USA</td>\n",
       "    </tr>\n",
       "  </tbody>\n",
       "</table>\n",
       "</div>"
      ],
      "text/plain": [
       "                  date      price  bedrooms  bathrooms  sqft_living  sqft_lot  \\\n",
       "0  2014-05-02 00:00:00   313000.0       3.0       1.50         1340      7912   \n",
       "1  2014-05-02 00:00:00  2384000.0       5.0       2.50         3650      9050   \n",
       "2  2014-05-02 00:00:00   342000.0       3.0       2.00         1930     11947   \n",
       "3  2014-05-02 00:00:00   420000.0       3.0       2.25         2000      8030   \n",
       "4  2014-05-02 00:00:00   550000.0       4.0       2.50         1940     10500   \n",
       "\n",
       "   floors  waterfront  view  condition  sqft_above  sqft_basement  yr_built  \\\n",
       "0     1.5           0     0          3        1340              0      1955   \n",
       "1     2.0           0     4          5        3370            280      1921   \n",
       "2     1.0           0     0          4        1930              0      1966   \n",
       "3     1.0           0     0          4        1000           1000      1963   \n",
       "4     1.0           0     0          4        1140            800      1976   \n",
       "\n",
       "   yr_renovated                    street       city  statezip country  \n",
       "0          2005      18810 Densmore Ave N  Shoreline  WA 98133     USA  \n",
       "1             0           709 W Blaine St    Seattle  WA 98119     USA  \n",
       "2             0  26206-26214 143rd Ave SE       Kent  WA 98042     USA  \n",
       "3             0           857 170th Pl NE   Bellevue  WA 98008     USA  \n",
       "4          1992         9105 170th Ave NE    Redmond  WA 98052     USA  "
      ]
     },
     "execution_count": 4,
     "metadata": {},
     "output_type": "execute_result"
    }
   ],
   "source": [
    "df.head()"
   ]
  },
  {
   "cell_type": "markdown",
   "id": "7bd75836",
   "metadata": {},
   "source": [
    "## Data Insights & Data Cleaning"
   ]
  },
  {
   "cell_type": "code",
   "execution_count": 5,
   "id": "696a98f7",
   "metadata": {},
   "outputs": [
    {
     "name": "stdout",
     "output_type": "stream",
     "text": [
      "<class 'pandas.core.frame.DataFrame'>\n",
      "RangeIndex: 4600 entries, 0 to 4599\n",
      "Data columns (total 18 columns):\n",
      " #   Column         Non-Null Count  Dtype  \n",
      "---  ------         --------------  -----  \n",
      " 0   date           4600 non-null   object \n",
      " 1   price          4600 non-null   float64\n",
      " 2   bedrooms       4600 non-null   float64\n",
      " 3   bathrooms      4600 non-null   float64\n",
      " 4   sqft_living    4600 non-null   int64  \n",
      " 5   sqft_lot       4600 non-null   int64  \n",
      " 6   floors         4600 non-null   float64\n",
      " 7   waterfront     4600 non-null   int64  \n",
      " 8   view           4600 non-null   int64  \n",
      " 9   condition      4600 non-null   int64  \n",
      " 10  sqft_above     4600 non-null   int64  \n",
      " 11  sqft_basement  4600 non-null   int64  \n",
      " 12  yr_built       4600 non-null   int64  \n",
      " 13  yr_renovated   4600 non-null   int64  \n",
      " 14  street         4600 non-null   object \n",
      " 15  city           4600 non-null   object \n",
      " 16  statezip       4600 non-null   object \n",
      " 17  country        4600 non-null   object \n",
      "dtypes: float64(4), int64(9), object(5)\n",
      "memory usage: 647.0+ KB\n"
     ]
    }
   ],
   "source": [
    "df.info()"
   ]
  },
  {
   "cell_type": "code",
   "execution_count": 6,
   "id": "2ea7e767",
   "metadata": {},
   "outputs": [
    {
     "data": {
      "text/plain": [
       "(4600, 18)"
      ]
     },
     "execution_count": 6,
     "metadata": {},
     "output_type": "execute_result"
    }
   ],
   "source": [
    "df.shape"
   ]
  },
  {
   "cell_type": "code",
   "execution_count": 7,
   "id": "7436a5ce",
   "metadata": {},
   "outputs": [
    {
     "data": {
      "application/vnd.microsoft.datawrangler.viewer.v0+json": {
       "columns": [
        {
         "name": "index",
         "rawType": "object",
         "type": "string"
        },
        {
         "name": "price",
         "rawType": "float64",
         "type": "float"
        },
        {
         "name": "bedrooms",
         "rawType": "float64",
         "type": "float"
        },
        {
         "name": "bathrooms",
         "rawType": "float64",
         "type": "float"
        },
        {
         "name": "sqft_living",
         "rawType": "float64",
         "type": "float"
        },
        {
         "name": "sqft_lot",
         "rawType": "float64",
         "type": "float"
        },
        {
         "name": "floors",
         "rawType": "float64",
         "type": "float"
        },
        {
         "name": "waterfront",
         "rawType": "float64",
         "type": "float"
        },
        {
         "name": "view",
         "rawType": "float64",
         "type": "float"
        },
        {
         "name": "condition",
         "rawType": "float64",
         "type": "float"
        },
        {
         "name": "sqft_above",
         "rawType": "float64",
         "type": "float"
        },
        {
         "name": "sqft_basement",
         "rawType": "float64",
         "type": "float"
        },
        {
         "name": "yr_built",
         "rawType": "float64",
         "type": "float"
        },
        {
         "name": "yr_renovated",
         "rawType": "float64",
         "type": "float"
        }
       ],
       "conversionMethod": "pd.DataFrame",
       "ref": "7a77d063-e954-4d0d-944c-2c198d6c07dd",
       "rows": [
        [
         "count",
         "4600.0",
         "4600.0",
         "4600.0",
         "4600.0",
         "4600.0",
         "4600.0",
         "4600.0",
         "4600.0",
         "4600.0",
         "4600.0",
         "4600.0",
         "4600.0",
         "4600.0"
        ],
        [
         "mean",
         "551962.9884732141",
         "3.4008695652173913",
         "2.1608152173913044",
         "2139.3469565217392",
         "14852.516086956522",
         "1.5120652173913043",
         "0.007173913043478261",
         "0.24065217391304347",
         "3.4517391304347824",
         "1827.2654347826087",
         "312.08152173913044",
         "1970.786304347826",
         "808.6082608695652"
        ],
        [
         "std",
         "563834.7025471414",
         "0.9088481155258186",
         "0.7837810746502805",
         "963.2069157608643",
         "35884.43614480966",
         "0.5382883772969885",
         "0.0844037718947432",
         "0.7784047172125207",
         "0.6772297675592746",
         "862.1689769625976",
         "464.1372280666067",
         "29.73184839009964",
         "979.4145364007455"
        ],
        [
         "min",
         "0.0",
         "0.0",
         "0.0",
         "370.0",
         "638.0",
         "1.0",
         "0.0",
         "0.0",
         "1.0",
         "370.0",
         "0.0",
         "1900.0",
         "0.0"
        ],
        [
         "25%",
         "322875.0",
         "3.0",
         "1.75",
         "1460.0",
         "5000.75",
         "1.0",
         "0.0",
         "0.0",
         "3.0",
         "1190.0",
         "0.0",
         "1951.0",
         "0.0"
        ],
        [
         "50%",
         "460943.46153850004",
         "3.0",
         "2.25",
         "1980.0",
         "7683.0",
         "1.5",
         "0.0",
         "0.0",
         "3.0",
         "1590.0",
         "0.0",
         "1976.0",
         "0.0"
        ],
        [
         "75%",
         "654962.5",
         "4.0",
         "2.5",
         "2620.0",
         "11001.25",
         "2.0",
         "0.0",
         "0.0",
         "4.0",
         "2300.0",
         "610.0",
         "1997.0",
         "1999.0"
        ],
        [
         "max",
         "26590000.0",
         "9.0",
         "8.0",
         "13540.0",
         "1074218.0",
         "3.5",
         "1.0",
         "4.0",
         "5.0",
         "9410.0",
         "4820.0",
         "2014.0",
         "2014.0"
        ]
       ],
       "shape": {
        "columns": 13,
        "rows": 8
       }
      },
      "text/html": [
       "<div>\n",
       "<style scoped>\n",
       "    .dataframe tbody tr th:only-of-type {\n",
       "        vertical-align: middle;\n",
       "    }\n",
       "\n",
       "    .dataframe tbody tr th {\n",
       "        vertical-align: top;\n",
       "    }\n",
       "\n",
       "    .dataframe thead th {\n",
       "        text-align: right;\n",
       "    }\n",
       "</style>\n",
       "<table border=\"1\" class=\"dataframe\">\n",
       "  <thead>\n",
       "    <tr style=\"text-align: right;\">\n",
       "      <th></th>\n",
       "      <th>price</th>\n",
       "      <th>bedrooms</th>\n",
       "      <th>bathrooms</th>\n",
       "      <th>sqft_living</th>\n",
       "      <th>sqft_lot</th>\n",
       "      <th>floors</th>\n",
       "      <th>waterfront</th>\n",
       "      <th>view</th>\n",
       "      <th>condition</th>\n",
       "      <th>sqft_above</th>\n",
       "      <th>sqft_basement</th>\n",
       "      <th>yr_built</th>\n",
       "      <th>yr_renovated</th>\n",
       "    </tr>\n",
       "  </thead>\n",
       "  <tbody>\n",
       "    <tr>\n",
       "      <th>count</th>\n",
       "      <td>4.600000e+03</td>\n",
       "      <td>4600.000000</td>\n",
       "      <td>4600.000000</td>\n",
       "      <td>4600.000000</td>\n",
       "      <td>4.600000e+03</td>\n",
       "      <td>4600.000000</td>\n",
       "      <td>4600.000000</td>\n",
       "      <td>4600.000000</td>\n",
       "      <td>4600.000000</td>\n",
       "      <td>4600.000000</td>\n",
       "      <td>4600.000000</td>\n",
       "      <td>4600.000000</td>\n",
       "      <td>4600.000000</td>\n",
       "    </tr>\n",
       "    <tr>\n",
       "      <th>mean</th>\n",
       "      <td>5.519630e+05</td>\n",
       "      <td>3.400870</td>\n",
       "      <td>2.160815</td>\n",
       "      <td>2139.346957</td>\n",
       "      <td>1.485252e+04</td>\n",
       "      <td>1.512065</td>\n",
       "      <td>0.007174</td>\n",
       "      <td>0.240652</td>\n",
       "      <td>3.451739</td>\n",
       "      <td>1827.265435</td>\n",
       "      <td>312.081522</td>\n",
       "      <td>1970.786304</td>\n",
       "      <td>808.608261</td>\n",
       "    </tr>\n",
       "    <tr>\n",
       "      <th>std</th>\n",
       "      <td>5.638347e+05</td>\n",
       "      <td>0.908848</td>\n",
       "      <td>0.783781</td>\n",
       "      <td>963.206916</td>\n",
       "      <td>3.588444e+04</td>\n",
       "      <td>0.538288</td>\n",
       "      <td>0.084404</td>\n",
       "      <td>0.778405</td>\n",
       "      <td>0.677230</td>\n",
       "      <td>862.168977</td>\n",
       "      <td>464.137228</td>\n",
       "      <td>29.731848</td>\n",
       "      <td>979.414536</td>\n",
       "    </tr>\n",
       "    <tr>\n",
       "      <th>min</th>\n",
       "      <td>0.000000e+00</td>\n",
       "      <td>0.000000</td>\n",
       "      <td>0.000000</td>\n",
       "      <td>370.000000</td>\n",
       "      <td>6.380000e+02</td>\n",
       "      <td>1.000000</td>\n",
       "      <td>0.000000</td>\n",
       "      <td>0.000000</td>\n",
       "      <td>1.000000</td>\n",
       "      <td>370.000000</td>\n",
       "      <td>0.000000</td>\n",
       "      <td>1900.000000</td>\n",
       "      <td>0.000000</td>\n",
       "    </tr>\n",
       "    <tr>\n",
       "      <th>25%</th>\n",
       "      <td>3.228750e+05</td>\n",
       "      <td>3.000000</td>\n",
       "      <td>1.750000</td>\n",
       "      <td>1460.000000</td>\n",
       "      <td>5.000750e+03</td>\n",
       "      <td>1.000000</td>\n",
       "      <td>0.000000</td>\n",
       "      <td>0.000000</td>\n",
       "      <td>3.000000</td>\n",
       "      <td>1190.000000</td>\n",
       "      <td>0.000000</td>\n",
       "      <td>1951.000000</td>\n",
       "      <td>0.000000</td>\n",
       "    </tr>\n",
       "    <tr>\n",
       "      <th>50%</th>\n",
       "      <td>4.609435e+05</td>\n",
       "      <td>3.000000</td>\n",
       "      <td>2.250000</td>\n",
       "      <td>1980.000000</td>\n",
       "      <td>7.683000e+03</td>\n",
       "      <td>1.500000</td>\n",
       "      <td>0.000000</td>\n",
       "      <td>0.000000</td>\n",
       "      <td>3.000000</td>\n",
       "      <td>1590.000000</td>\n",
       "      <td>0.000000</td>\n",
       "      <td>1976.000000</td>\n",
       "      <td>0.000000</td>\n",
       "    </tr>\n",
       "    <tr>\n",
       "      <th>75%</th>\n",
       "      <td>6.549625e+05</td>\n",
       "      <td>4.000000</td>\n",
       "      <td>2.500000</td>\n",
       "      <td>2620.000000</td>\n",
       "      <td>1.100125e+04</td>\n",
       "      <td>2.000000</td>\n",
       "      <td>0.000000</td>\n",
       "      <td>0.000000</td>\n",
       "      <td>4.000000</td>\n",
       "      <td>2300.000000</td>\n",
       "      <td>610.000000</td>\n",
       "      <td>1997.000000</td>\n",
       "      <td>1999.000000</td>\n",
       "    </tr>\n",
       "    <tr>\n",
       "      <th>max</th>\n",
       "      <td>2.659000e+07</td>\n",
       "      <td>9.000000</td>\n",
       "      <td>8.000000</td>\n",
       "      <td>13540.000000</td>\n",
       "      <td>1.074218e+06</td>\n",
       "      <td>3.500000</td>\n",
       "      <td>1.000000</td>\n",
       "      <td>4.000000</td>\n",
       "      <td>5.000000</td>\n",
       "      <td>9410.000000</td>\n",
       "      <td>4820.000000</td>\n",
       "      <td>2014.000000</td>\n",
       "      <td>2014.000000</td>\n",
       "    </tr>\n",
       "  </tbody>\n",
       "</table>\n",
       "</div>"
      ],
      "text/plain": [
       "              price     bedrooms    bathrooms   sqft_living      sqft_lot  \\\n",
       "count  4.600000e+03  4600.000000  4600.000000   4600.000000  4.600000e+03   \n",
       "mean   5.519630e+05     3.400870     2.160815   2139.346957  1.485252e+04   \n",
       "std    5.638347e+05     0.908848     0.783781    963.206916  3.588444e+04   \n",
       "min    0.000000e+00     0.000000     0.000000    370.000000  6.380000e+02   \n",
       "25%    3.228750e+05     3.000000     1.750000   1460.000000  5.000750e+03   \n",
       "50%    4.609435e+05     3.000000     2.250000   1980.000000  7.683000e+03   \n",
       "75%    6.549625e+05     4.000000     2.500000   2620.000000  1.100125e+04   \n",
       "max    2.659000e+07     9.000000     8.000000  13540.000000  1.074218e+06   \n",
       "\n",
       "            floors   waterfront         view    condition   sqft_above  \\\n",
       "count  4600.000000  4600.000000  4600.000000  4600.000000  4600.000000   \n",
       "mean      1.512065     0.007174     0.240652     3.451739  1827.265435   \n",
       "std       0.538288     0.084404     0.778405     0.677230   862.168977   \n",
       "min       1.000000     0.000000     0.000000     1.000000   370.000000   \n",
       "25%       1.000000     0.000000     0.000000     3.000000  1190.000000   \n",
       "50%       1.500000     0.000000     0.000000     3.000000  1590.000000   \n",
       "75%       2.000000     0.000000     0.000000     4.000000  2300.000000   \n",
       "max       3.500000     1.000000     4.000000     5.000000  9410.000000   \n",
       "\n",
       "       sqft_basement     yr_built  yr_renovated  \n",
       "count    4600.000000  4600.000000   4600.000000  \n",
       "mean      312.081522  1970.786304    808.608261  \n",
       "std       464.137228    29.731848    979.414536  \n",
       "min         0.000000  1900.000000      0.000000  \n",
       "25%         0.000000  1951.000000      0.000000  \n",
       "50%         0.000000  1976.000000      0.000000  \n",
       "75%       610.000000  1997.000000   1999.000000  \n",
       "max      4820.000000  2014.000000   2014.000000  "
      ]
     },
     "execution_count": 7,
     "metadata": {},
     "output_type": "execute_result"
    }
   ],
   "source": [
    "df.describe()"
   ]
  },
  {
   "cell_type": "code",
   "execution_count": 8,
   "id": "590be3ee",
   "metadata": {},
   "outputs": [
    {
     "data": {
      "text/plain": [
       "date             0\n",
       "price            0\n",
       "bedrooms         0\n",
       "bathrooms        0\n",
       "sqft_living      0\n",
       "sqft_lot         0\n",
       "floors           0\n",
       "waterfront       0\n",
       "view             0\n",
       "condition        0\n",
       "sqft_above       0\n",
       "sqft_basement    0\n",
       "yr_built         0\n",
       "yr_renovated     0\n",
       "street           0\n",
       "city             0\n",
       "statezip         0\n",
       "country          0\n",
       "dtype: int64"
      ]
     },
     "execution_count": 8,
     "metadata": {},
     "output_type": "execute_result"
    }
   ],
   "source": [
    "# Check nulls value\n",
    "\n",
    "df.isnull().sum()"
   ]
  },
  {
   "cell_type": "code",
   "execution_count": 9,
   "id": "06c67128",
   "metadata": {},
   "outputs": [
    {
     "data": {
      "text/plain": [
       "np.int64(0)"
      ]
     },
     "execution_count": 9,
     "metadata": {},
     "output_type": "execute_result"
    }
   ],
   "source": [
    "# Check duplicates values\n",
    "df.duplicated().sum()"
   ]
  },
  {
   "cell_type": "code",
   "execution_count": 10,
   "id": "d539a6b5",
   "metadata": {},
   "outputs": [],
   "source": [
    "# Change the Datatypes of some columns\n",
    "\n",
    "df[\"price\"] = df[\"price\"].astype(\"int\")\n",
    "df[\"bedrooms\"] = df[\"bedrooms\"].astype(\"int\")\n",
    "df[\"bathrooms\"] = df[\"bathrooms\"].astype(\"int\")\n",
    "df[\"floors\"] = df[\"floors\"].astype(\"int\")"
   ]
  },
  {
   "cell_type": "code",
   "execution_count": 11,
   "id": "3f94881a",
   "metadata": {},
   "outputs": [
    {
     "data": {
      "application/vnd.microsoft.datawrangler.viewer.v0+json": {
       "columns": [
        {
         "name": "index",
         "rawType": "int64",
         "type": "integer"
        },
        {
         "name": "date",
         "rawType": "object",
         "type": "string"
        },
        {
         "name": "price",
         "rawType": "int64",
         "type": "integer"
        },
        {
         "name": "bedrooms",
         "rawType": "int64",
         "type": "integer"
        },
        {
         "name": "bathrooms",
         "rawType": "int64",
         "type": "integer"
        },
        {
         "name": "sqft_living",
         "rawType": "int64",
         "type": "integer"
        },
        {
         "name": "sqft_lot",
         "rawType": "int64",
         "type": "integer"
        },
        {
         "name": "floors",
         "rawType": "int64",
         "type": "integer"
        },
        {
         "name": "waterfront",
         "rawType": "int64",
         "type": "integer"
        },
        {
         "name": "view",
         "rawType": "int64",
         "type": "integer"
        },
        {
         "name": "condition",
         "rawType": "int64",
         "type": "integer"
        },
        {
         "name": "sqft_above",
         "rawType": "int64",
         "type": "integer"
        },
        {
         "name": "sqft_basement",
         "rawType": "int64",
         "type": "integer"
        },
        {
         "name": "yr_built",
         "rawType": "int64",
         "type": "integer"
        },
        {
         "name": "yr_renovated",
         "rawType": "int64",
         "type": "integer"
        },
        {
         "name": "street",
         "rawType": "object",
         "type": "string"
        },
        {
         "name": "city",
         "rawType": "object",
         "type": "string"
        },
        {
         "name": "statezip",
         "rawType": "object",
         "type": "string"
        },
        {
         "name": "country",
         "rawType": "object",
         "type": "string"
        }
       ],
       "conversionMethod": "pd.DataFrame",
       "ref": "3be553f5-40d2-4a03-87a9-08e4bb5e318d",
       "rows": [
        [
         "0",
         "2014-05-02 00:00:00",
         "313000",
         "3",
         "1",
         "1340",
         "7912",
         "1",
         "0",
         "0",
         "3",
         "1340",
         "0",
         "1955",
         "2005",
         "18810 Densmore Ave N",
         "Shoreline",
         "WA 98133",
         "USA"
        ],
        [
         "1",
         "2014-05-02 00:00:00",
         "2384000",
         "5",
         "2",
         "3650",
         "9050",
         "2",
         "0",
         "4",
         "5",
         "3370",
         "280",
         "1921",
         "0",
         "709 W Blaine St",
         "Seattle",
         "WA 98119",
         "USA"
        ],
        [
         "2",
         "2014-05-02 00:00:00",
         "342000",
         "3",
         "2",
         "1930",
         "11947",
         "1",
         "0",
         "0",
         "4",
         "1930",
         "0",
         "1966",
         "0",
         "26206-26214 143rd Ave SE",
         "Kent",
         "WA 98042",
         "USA"
        ],
        [
         "3",
         "2014-05-02 00:00:00",
         "420000",
         "3",
         "2",
         "2000",
         "8030",
         "1",
         "0",
         "0",
         "4",
         "1000",
         "1000",
         "1963",
         "0",
         "857 170th Pl NE",
         "Bellevue",
         "WA 98008",
         "USA"
        ],
        [
         "4",
         "2014-05-02 00:00:00",
         "550000",
         "4",
         "2",
         "1940",
         "10500",
         "1",
         "0",
         "0",
         "4",
         "1140",
         "800",
         "1976",
         "1992",
         "9105 170th Ave NE",
         "Redmond",
         "WA 98052",
         "USA"
        ]
       ],
       "shape": {
        "columns": 18,
        "rows": 5
       }
      },
      "text/html": [
       "<div>\n",
       "<style scoped>\n",
       "    .dataframe tbody tr th:only-of-type {\n",
       "        vertical-align: middle;\n",
       "    }\n",
       "\n",
       "    .dataframe tbody tr th {\n",
       "        vertical-align: top;\n",
       "    }\n",
       "\n",
       "    .dataframe thead th {\n",
       "        text-align: right;\n",
       "    }\n",
       "</style>\n",
       "<table border=\"1\" class=\"dataframe\">\n",
       "  <thead>\n",
       "    <tr style=\"text-align: right;\">\n",
       "      <th></th>\n",
       "      <th>date</th>\n",
       "      <th>price</th>\n",
       "      <th>bedrooms</th>\n",
       "      <th>bathrooms</th>\n",
       "      <th>sqft_living</th>\n",
       "      <th>sqft_lot</th>\n",
       "      <th>floors</th>\n",
       "      <th>waterfront</th>\n",
       "      <th>view</th>\n",
       "      <th>condition</th>\n",
       "      <th>sqft_above</th>\n",
       "      <th>sqft_basement</th>\n",
       "      <th>yr_built</th>\n",
       "      <th>yr_renovated</th>\n",
       "      <th>street</th>\n",
       "      <th>city</th>\n",
       "      <th>statezip</th>\n",
       "      <th>country</th>\n",
       "    </tr>\n",
       "  </thead>\n",
       "  <tbody>\n",
       "    <tr>\n",
       "      <th>0</th>\n",
       "      <td>2014-05-02 00:00:00</td>\n",
       "      <td>313000</td>\n",
       "      <td>3</td>\n",
       "      <td>1</td>\n",
       "      <td>1340</td>\n",
       "      <td>7912</td>\n",
       "      <td>1</td>\n",
       "      <td>0</td>\n",
       "      <td>0</td>\n",
       "      <td>3</td>\n",
       "      <td>1340</td>\n",
       "      <td>0</td>\n",
       "      <td>1955</td>\n",
       "      <td>2005</td>\n",
       "      <td>18810 Densmore Ave N</td>\n",
       "      <td>Shoreline</td>\n",
       "      <td>WA 98133</td>\n",
       "      <td>USA</td>\n",
       "    </tr>\n",
       "    <tr>\n",
       "      <th>1</th>\n",
       "      <td>2014-05-02 00:00:00</td>\n",
       "      <td>2384000</td>\n",
       "      <td>5</td>\n",
       "      <td>2</td>\n",
       "      <td>3650</td>\n",
       "      <td>9050</td>\n",
       "      <td>2</td>\n",
       "      <td>0</td>\n",
       "      <td>4</td>\n",
       "      <td>5</td>\n",
       "      <td>3370</td>\n",
       "      <td>280</td>\n",
       "      <td>1921</td>\n",
       "      <td>0</td>\n",
       "      <td>709 W Blaine St</td>\n",
       "      <td>Seattle</td>\n",
       "      <td>WA 98119</td>\n",
       "      <td>USA</td>\n",
       "    </tr>\n",
       "    <tr>\n",
       "      <th>2</th>\n",
       "      <td>2014-05-02 00:00:00</td>\n",
       "      <td>342000</td>\n",
       "      <td>3</td>\n",
       "      <td>2</td>\n",
       "      <td>1930</td>\n",
       "      <td>11947</td>\n",
       "      <td>1</td>\n",
       "      <td>0</td>\n",
       "      <td>0</td>\n",
       "      <td>4</td>\n",
       "      <td>1930</td>\n",
       "      <td>0</td>\n",
       "      <td>1966</td>\n",
       "      <td>0</td>\n",
       "      <td>26206-26214 143rd Ave SE</td>\n",
       "      <td>Kent</td>\n",
       "      <td>WA 98042</td>\n",
       "      <td>USA</td>\n",
       "    </tr>\n",
       "    <tr>\n",
       "      <th>3</th>\n",
       "      <td>2014-05-02 00:00:00</td>\n",
       "      <td>420000</td>\n",
       "      <td>3</td>\n",
       "      <td>2</td>\n",
       "      <td>2000</td>\n",
       "      <td>8030</td>\n",
       "      <td>1</td>\n",
       "      <td>0</td>\n",
       "      <td>0</td>\n",
       "      <td>4</td>\n",
       "      <td>1000</td>\n",
       "      <td>1000</td>\n",
       "      <td>1963</td>\n",
       "      <td>0</td>\n",
       "      <td>857 170th Pl NE</td>\n",
       "      <td>Bellevue</td>\n",
       "      <td>WA 98008</td>\n",
       "      <td>USA</td>\n",
       "    </tr>\n",
       "    <tr>\n",
       "      <th>4</th>\n",
       "      <td>2014-05-02 00:00:00</td>\n",
       "      <td>550000</td>\n",
       "      <td>4</td>\n",
       "      <td>2</td>\n",
       "      <td>1940</td>\n",
       "      <td>10500</td>\n",
       "      <td>1</td>\n",
       "      <td>0</td>\n",
       "      <td>0</td>\n",
       "      <td>4</td>\n",
       "      <td>1140</td>\n",
       "      <td>800</td>\n",
       "      <td>1976</td>\n",
       "      <td>1992</td>\n",
       "      <td>9105 170th Ave NE</td>\n",
       "      <td>Redmond</td>\n",
       "      <td>WA 98052</td>\n",
       "      <td>USA</td>\n",
       "    </tr>\n",
       "  </tbody>\n",
       "</table>\n",
       "</div>"
      ],
      "text/plain": [
       "                  date    price  bedrooms  bathrooms  sqft_living  sqft_lot  \\\n",
       "0  2014-05-02 00:00:00   313000         3          1         1340      7912   \n",
       "1  2014-05-02 00:00:00  2384000         5          2         3650      9050   \n",
       "2  2014-05-02 00:00:00   342000         3          2         1930     11947   \n",
       "3  2014-05-02 00:00:00   420000         3          2         2000      8030   \n",
       "4  2014-05-02 00:00:00   550000         4          2         1940     10500   \n",
       "\n",
       "   floors  waterfront  view  condition  sqft_above  sqft_basement  yr_built  \\\n",
       "0       1           0     0          3        1340              0      1955   \n",
       "1       2           0     4          5        3370            280      1921   \n",
       "2       1           0     0          4        1930              0      1966   \n",
       "3       1           0     0          4        1000           1000      1963   \n",
       "4       1           0     0          4        1140            800      1976   \n",
       "\n",
       "   yr_renovated                    street       city  statezip country  \n",
       "0          2005      18810 Densmore Ave N  Shoreline  WA 98133     USA  \n",
       "1             0           709 W Blaine St    Seattle  WA 98119     USA  \n",
       "2             0  26206-26214 143rd Ave SE       Kent  WA 98042     USA  \n",
       "3             0           857 170th Pl NE   Bellevue  WA 98008     USA  \n",
       "4          1992         9105 170th Ave NE    Redmond  WA 98052     USA  "
      ]
     },
     "execution_count": 11,
     "metadata": {},
     "output_type": "execute_result"
    }
   ],
   "source": [
    "df.head()"
   ]
  },
  {
   "cell_type": "code",
   "execution_count": 12,
   "id": "0ebb6930",
   "metadata": {},
   "outputs": [
    {
     "name": "stdout",
     "output_type": "stream",
     "text": [
      "Waterfron Feature waterfront\n",
      "0    4567\n",
      "1      33\n",
      "Name: count, dtype: int64\n",
      "View Feature view\n",
      "0    4140\n",
      "2     205\n",
      "3     116\n",
      "4      70\n",
      "1      69\n",
      "Name: count, dtype: int64\n"
     ]
    }
   ],
   "source": [
    "print(f\"Waterfron Feature {df[\"waterfront\"].value_counts()}\")\n",
    "print(f\"View Feature {df[\"view\"].value_counts()}\")"
   ]
  },
  {
   "cell_type": "code",
   "execution_count": 13,
   "id": "b557c463",
   "metadata": {},
   "outputs": [
    {
     "name": "stdout",
     "output_type": "stream",
     "text": [
      "highly Correlated features: []\n"
     ]
    }
   ],
   "source": [
    "corr_matrix = df.corr(numeric_only=True)\n",
    "upper_triangle = corr_matrix.where(np.triu(np.ones(corr_matrix.shape), k=1).astype(bool))\n",
    "\n",
    "high_corr = [feature for feature in upper_triangle.columns if any(upper_triangle[feature].abs() > 0.9)]\n",
    "\n",
    "print(f\"highly Correlated features: {high_corr}\")"
   ]
  },
  {
   "cell_type": "code",
   "execution_count": 14,
   "id": "ccb09454",
   "metadata": {},
   "outputs": [
    {
     "name": "stdout",
     "output_type": "stream",
     "text": [
      "Price Correlated features : \n",
      " price            1.000000\n",
      "sqft_living      0.430410\n",
      "sqft_above       0.367570\n",
      "bathrooms        0.317229\n",
      "view             0.228504\n",
      "sqft_basement    0.210427\n",
      "bedrooms         0.200336\n",
      "floors           0.137125\n",
      "waterfront       0.135648\n",
      "sqft_lot         0.050451\n",
      "condition        0.034915\n",
      "yr_built         0.021857\n",
      "yr_renovated    -0.028774\n",
      "Name: price, dtype: float64\n"
     ]
    }
   ],
   "source": [
    "print(f\"Price Correlated features : \\n {corr_matrix[\"price\"].sort_values(ascending=False)}\")"
   ]
  },
  {
   "cell_type": "code",
   "execution_count": 15,
   "id": "c37bc0fd",
   "metadata": {},
   "outputs": [],
   "source": [
    "num_features = [feature for feature in df.columns if df[feature].dtype in [\"int\", \"float\"]]\n",
    "cat_features = [feature for feature in df.columns if df[feature].dtype not in [\"int\", \"float\"]]"
   ]
  },
  {
   "cell_type": "code",
   "execution_count": 16,
   "id": "4665e62f",
   "metadata": {},
   "outputs": [
    {
     "data": {
      "application/vnd.microsoft.datawrangler.viewer.v0+json": {
       "columns": [
        {
         "name": "index",
         "rawType": "int64",
         "type": "integer"
        },
        {
         "name": "price",
         "rawType": "int64",
         "type": "integer"
        },
        {
         "name": "bedrooms",
         "rawType": "int64",
         "type": "integer"
        },
        {
         "name": "bathrooms",
         "rawType": "int64",
         "type": "integer"
        },
        {
         "name": "sqft_living",
         "rawType": "int64",
         "type": "integer"
        },
        {
         "name": "sqft_lot",
         "rawType": "int64",
         "type": "integer"
        },
        {
         "name": "floors",
         "rawType": "int64",
         "type": "integer"
        },
        {
         "name": "view",
         "rawType": "int64",
         "type": "integer"
        },
        {
         "name": "condition",
         "rawType": "int64",
         "type": "integer"
        },
        {
         "name": "sqft_above",
         "rawType": "int64",
         "type": "integer"
        },
        {
         "name": "sqft_basement",
         "rawType": "int64",
         "type": "integer"
        },
        {
         "name": "yr_built",
         "rawType": "int64",
         "type": "integer"
        },
        {
         "name": "yr_renovated",
         "rawType": "int64",
         "type": "integer"
        }
       ],
       "conversionMethod": "pd.DataFrame",
       "ref": "c835fc50-24c4-4225-84f7-c33e761a3abf",
       "rows": [
        [
         "0",
         "313000",
         "3",
         "1",
         "1340",
         "7912",
         "1",
         "0",
         "3",
         "1340",
         "0",
         "1955",
         "2005"
        ],
        [
         "1",
         "2384000",
         "5",
         "2",
         "3650",
         "9050",
         "2",
         "4",
         "5",
         "3370",
         "280",
         "1921",
         "0"
        ],
        [
         "2",
         "342000",
         "3",
         "2",
         "1930",
         "11947",
         "1",
         "0",
         "4",
         "1930",
         "0",
         "1966",
         "0"
        ],
        [
         "3",
         "420000",
         "3",
         "2",
         "2000",
         "8030",
         "1",
         "0",
         "4",
         "1000",
         "1000",
         "1963",
         "0"
        ],
        [
         "4",
         "550000",
         "4",
         "2",
         "1940",
         "10500",
         "1",
         "0",
         "4",
         "1140",
         "800",
         "1976",
         "1992"
        ]
       ],
       "shape": {
        "columns": 12,
        "rows": 5
       }
      },
      "text/html": [
       "<div>\n",
       "<style scoped>\n",
       "    .dataframe tbody tr th:only-of-type {\n",
       "        vertical-align: middle;\n",
       "    }\n",
       "\n",
       "    .dataframe tbody tr th {\n",
       "        vertical-align: top;\n",
       "    }\n",
       "\n",
       "    .dataframe thead th {\n",
       "        text-align: right;\n",
       "    }\n",
       "</style>\n",
       "<table border=\"1\" class=\"dataframe\">\n",
       "  <thead>\n",
       "    <tr style=\"text-align: right;\">\n",
       "      <th></th>\n",
       "      <th>price</th>\n",
       "      <th>bedrooms</th>\n",
       "      <th>bathrooms</th>\n",
       "      <th>sqft_living</th>\n",
       "      <th>sqft_lot</th>\n",
       "      <th>floors</th>\n",
       "      <th>view</th>\n",
       "      <th>condition</th>\n",
       "      <th>sqft_above</th>\n",
       "      <th>sqft_basement</th>\n",
       "      <th>yr_built</th>\n",
       "      <th>yr_renovated</th>\n",
       "    </tr>\n",
       "  </thead>\n",
       "  <tbody>\n",
       "    <tr>\n",
       "      <th>0</th>\n",
       "      <td>313000</td>\n",
       "      <td>3</td>\n",
       "      <td>1</td>\n",
       "      <td>1340</td>\n",
       "      <td>7912</td>\n",
       "      <td>1</td>\n",
       "      <td>0</td>\n",
       "      <td>3</td>\n",
       "      <td>1340</td>\n",
       "      <td>0</td>\n",
       "      <td>1955</td>\n",
       "      <td>2005</td>\n",
       "    </tr>\n",
       "    <tr>\n",
       "      <th>1</th>\n",
       "      <td>2384000</td>\n",
       "      <td>5</td>\n",
       "      <td>2</td>\n",
       "      <td>3650</td>\n",
       "      <td>9050</td>\n",
       "      <td>2</td>\n",
       "      <td>4</td>\n",
       "      <td>5</td>\n",
       "      <td>3370</td>\n",
       "      <td>280</td>\n",
       "      <td>1921</td>\n",
       "      <td>0</td>\n",
       "    </tr>\n",
       "    <tr>\n",
       "      <th>2</th>\n",
       "      <td>342000</td>\n",
       "      <td>3</td>\n",
       "      <td>2</td>\n",
       "      <td>1930</td>\n",
       "      <td>11947</td>\n",
       "      <td>1</td>\n",
       "      <td>0</td>\n",
       "      <td>4</td>\n",
       "      <td>1930</td>\n",
       "      <td>0</td>\n",
       "      <td>1966</td>\n",
       "      <td>0</td>\n",
       "    </tr>\n",
       "    <tr>\n",
       "      <th>3</th>\n",
       "      <td>420000</td>\n",
       "      <td>3</td>\n",
       "      <td>2</td>\n",
       "      <td>2000</td>\n",
       "      <td>8030</td>\n",
       "      <td>1</td>\n",
       "      <td>0</td>\n",
       "      <td>4</td>\n",
       "      <td>1000</td>\n",
       "      <td>1000</td>\n",
       "      <td>1963</td>\n",
       "      <td>0</td>\n",
       "    </tr>\n",
       "    <tr>\n",
       "      <th>4</th>\n",
       "      <td>550000</td>\n",
       "      <td>4</td>\n",
       "      <td>2</td>\n",
       "      <td>1940</td>\n",
       "      <td>10500</td>\n",
       "      <td>1</td>\n",
       "      <td>0</td>\n",
       "      <td>4</td>\n",
       "      <td>1140</td>\n",
       "      <td>800</td>\n",
       "      <td>1976</td>\n",
       "      <td>1992</td>\n",
       "    </tr>\n",
       "  </tbody>\n",
       "</table>\n",
       "</div>"
      ],
      "text/plain": [
       "     price  bedrooms  bathrooms  sqft_living  sqft_lot  floors  view  \\\n",
       "0   313000         3          1         1340      7912       1     0   \n",
       "1  2384000         5          2         3650      9050       2     4   \n",
       "2   342000         3          2         1930     11947       1     0   \n",
       "3   420000         3          2         2000      8030       1     0   \n",
       "4   550000         4          2         1940     10500       1     0   \n",
       "\n",
       "   condition  sqft_above  sqft_basement  yr_built  yr_renovated  \n",
       "0          3        1340              0      1955          2005  \n",
       "1          5        3370            280      1921             0  \n",
       "2          4        1930              0      1966             0  \n",
       "3          4        1000           1000      1963             0  \n",
       "4          4        1140            800      1976          1992  "
      ]
     },
     "execution_count": 16,
     "metadata": {},
     "output_type": "execute_result"
    }
   ],
   "source": [
    "from sklearn.feature_selection import VarianceThreshold\n",
    "\n",
    "selector = VarianceThreshold(threshold=0.01)\n",
    "\n",
    "X_reduced = selector.fit_transform(df[num_features])\n",
    "\n",
    "selected_features = df[num_features].columns[selector.get_support()]\n",
    "\n",
    "X_selected = pd.DataFrame(X_reduced, columns=selected_features)\n",
    "\n",
    "X_selected.head()"
   ]
  },
  {
   "cell_type": "code",
   "execution_count": null,
   "id": "a58c4bf4",
   "metadata": {},
   "outputs": [],
   "source": []
  },
  {
   "cell_type": "code",
   "execution_count": 17,
   "id": "36b47f63",
   "metadata": {},
   "outputs": [],
   "source": [
    "selected_df = pd.concat([X_selected, df[cat_features]], axis=1)"
   ]
  },
  {
   "cell_type": "code",
   "execution_count": 18,
   "id": "e91f39bb",
   "metadata": {},
   "outputs": [
    {
     "data": {
      "application/vnd.microsoft.datawrangler.viewer.v0+json": {
       "columns": [
        {
         "name": "index",
         "rawType": "int64",
         "type": "integer"
        },
        {
         "name": "price",
         "rawType": "int64",
         "type": "integer"
        },
        {
         "name": "bedrooms",
         "rawType": "int64",
         "type": "integer"
        },
        {
         "name": "bathrooms",
         "rawType": "int64",
         "type": "integer"
        },
        {
         "name": "sqft_living",
         "rawType": "int64",
         "type": "integer"
        },
        {
         "name": "sqft_lot",
         "rawType": "int64",
         "type": "integer"
        },
        {
         "name": "floors",
         "rawType": "int64",
         "type": "integer"
        },
        {
         "name": "view",
         "rawType": "int64",
         "type": "integer"
        },
        {
         "name": "condition",
         "rawType": "int64",
         "type": "integer"
        },
        {
         "name": "sqft_above",
         "rawType": "int64",
         "type": "integer"
        },
        {
         "name": "sqft_basement",
         "rawType": "int64",
         "type": "integer"
        },
        {
         "name": "yr_built",
         "rawType": "int64",
         "type": "integer"
        },
        {
         "name": "yr_renovated",
         "rawType": "int64",
         "type": "integer"
        },
        {
         "name": "date",
         "rawType": "object",
         "type": "string"
        },
        {
         "name": "street",
         "rawType": "object",
         "type": "string"
        },
        {
         "name": "city",
         "rawType": "object",
         "type": "string"
        },
        {
         "name": "statezip",
         "rawType": "object",
         "type": "string"
        },
        {
         "name": "country",
         "rawType": "object",
         "type": "string"
        }
       ],
       "conversionMethod": "pd.DataFrame",
       "ref": "841c9214-f412-4ca7-80f3-06bbaf76392d",
       "rows": [
        [
         "0",
         "313000",
         "3",
         "1",
         "1340",
         "7912",
         "1",
         "0",
         "3",
         "1340",
         "0",
         "1955",
         "2005",
         "2014-05-02 00:00:00",
         "18810 Densmore Ave N",
         "Shoreline",
         "WA 98133",
         "USA"
        ],
        [
         "1",
         "2384000",
         "5",
         "2",
         "3650",
         "9050",
         "2",
         "4",
         "5",
         "3370",
         "280",
         "1921",
         "0",
         "2014-05-02 00:00:00",
         "709 W Blaine St",
         "Seattle",
         "WA 98119",
         "USA"
        ],
        [
         "2",
         "342000",
         "3",
         "2",
         "1930",
         "11947",
         "1",
         "0",
         "4",
         "1930",
         "0",
         "1966",
         "0",
         "2014-05-02 00:00:00",
         "26206-26214 143rd Ave SE",
         "Kent",
         "WA 98042",
         "USA"
        ],
        [
         "3",
         "420000",
         "3",
         "2",
         "2000",
         "8030",
         "1",
         "0",
         "4",
         "1000",
         "1000",
         "1963",
         "0",
         "2014-05-02 00:00:00",
         "857 170th Pl NE",
         "Bellevue",
         "WA 98008",
         "USA"
        ],
        [
         "4",
         "550000",
         "4",
         "2",
         "1940",
         "10500",
         "1",
         "0",
         "4",
         "1140",
         "800",
         "1976",
         "1992",
         "2014-05-02 00:00:00",
         "9105 170th Ave NE",
         "Redmond",
         "WA 98052",
         "USA"
        ]
       ],
       "shape": {
        "columns": 17,
        "rows": 5
       }
      },
      "text/html": [
       "<div>\n",
       "<style scoped>\n",
       "    .dataframe tbody tr th:only-of-type {\n",
       "        vertical-align: middle;\n",
       "    }\n",
       "\n",
       "    .dataframe tbody tr th {\n",
       "        vertical-align: top;\n",
       "    }\n",
       "\n",
       "    .dataframe thead th {\n",
       "        text-align: right;\n",
       "    }\n",
       "</style>\n",
       "<table border=\"1\" class=\"dataframe\">\n",
       "  <thead>\n",
       "    <tr style=\"text-align: right;\">\n",
       "      <th></th>\n",
       "      <th>price</th>\n",
       "      <th>bedrooms</th>\n",
       "      <th>bathrooms</th>\n",
       "      <th>sqft_living</th>\n",
       "      <th>sqft_lot</th>\n",
       "      <th>floors</th>\n",
       "      <th>view</th>\n",
       "      <th>condition</th>\n",
       "      <th>sqft_above</th>\n",
       "      <th>sqft_basement</th>\n",
       "      <th>yr_built</th>\n",
       "      <th>yr_renovated</th>\n",
       "      <th>date</th>\n",
       "      <th>street</th>\n",
       "      <th>city</th>\n",
       "      <th>statezip</th>\n",
       "      <th>country</th>\n",
       "    </tr>\n",
       "  </thead>\n",
       "  <tbody>\n",
       "    <tr>\n",
       "      <th>0</th>\n",
       "      <td>313000</td>\n",
       "      <td>3</td>\n",
       "      <td>1</td>\n",
       "      <td>1340</td>\n",
       "      <td>7912</td>\n",
       "      <td>1</td>\n",
       "      <td>0</td>\n",
       "      <td>3</td>\n",
       "      <td>1340</td>\n",
       "      <td>0</td>\n",
       "      <td>1955</td>\n",
       "      <td>2005</td>\n",
       "      <td>2014-05-02 00:00:00</td>\n",
       "      <td>18810 Densmore Ave N</td>\n",
       "      <td>Shoreline</td>\n",
       "      <td>WA 98133</td>\n",
       "      <td>USA</td>\n",
       "    </tr>\n",
       "    <tr>\n",
       "      <th>1</th>\n",
       "      <td>2384000</td>\n",
       "      <td>5</td>\n",
       "      <td>2</td>\n",
       "      <td>3650</td>\n",
       "      <td>9050</td>\n",
       "      <td>2</td>\n",
       "      <td>4</td>\n",
       "      <td>5</td>\n",
       "      <td>3370</td>\n",
       "      <td>280</td>\n",
       "      <td>1921</td>\n",
       "      <td>0</td>\n",
       "      <td>2014-05-02 00:00:00</td>\n",
       "      <td>709 W Blaine St</td>\n",
       "      <td>Seattle</td>\n",
       "      <td>WA 98119</td>\n",
       "      <td>USA</td>\n",
       "    </tr>\n",
       "    <tr>\n",
       "      <th>2</th>\n",
       "      <td>342000</td>\n",
       "      <td>3</td>\n",
       "      <td>2</td>\n",
       "      <td>1930</td>\n",
       "      <td>11947</td>\n",
       "      <td>1</td>\n",
       "      <td>0</td>\n",
       "      <td>4</td>\n",
       "      <td>1930</td>\n",
       "      <td>0</td>\n",
       "      <td>1966</td>\n",
       "      <td>0</td>\n",
       "      <td>2014-05-02 00:00:00</td>\n",
       "      <td>26206-26214 143rd Ave SE</td>\n",
       "      <td>Kent</td>\n",
       "      <td>WA 98042</td>\n",
       "      <td>USA</td>\n",
       "    </tr>\n",
       "    <tr>\n",
       "      <th>3</th>\n",
       "      <td>420000</td>\n",
       "      <td>3</td>\n",
       "      <td>2</td>\n",
       "      <td>2000</td>\n",
       "      <td>8030</td>\n",
       "      <td>1</td>\n",
       "      <td>0</td>\n",
       "      <td>4</td>\n",
       "      <td>1000</td>\n",
       "      <td>1000</td>\n",
       "      <td>1963</td>\n",
       "      <td>0</td>\n",
       "      <td>2014-05-02 00:00:00</td>\n",
       "      <td>857 170th Pl NE</td>\n",
       "      <td>Bellevue</td>\n",
       "      <td>WA 98008</td>\n",
       "      <td>USA</td>\n",
       "    </tr>\n",
       "    <tr>\n",
       "      <th>4</th>\n",
       "      <td>550000</td>\n",
       "      <td>4</td>\n",
       "      <td>2</td>\n",
       "      <td>1940</td>\n",
       "      <td>10500</td>\n",
       "      <td>1</td>\n",
       "      <td>0</td>\n",
       "      <td>4</td>\n",
       "      <td>1140</td>\n",
       "      <td>800</td>\n",
       "      <td>1976</td>\n",
       "      <td>1992</td>\n",
       "      <td>2014-05-02 00:00:00</td>\n",
       "      <td>9105 170th Ave NE</td>\n",
       "      <td>Redmond</td>\n",
       "      <td>WA 98052</td>\n",
       "      <td>USA</td>\n",
       "    </tr>\n",
       "  </tbody>\n",
       "</table>\n",
       "</div>"
      ],
      "text/plain": [
       "     price  bedrooms  bathrooms  sqft_living  sqft_lot  floors  view  \\\n",
       "0   313000         3          1         1340      7912       1     0   \n",
       "1  2384000         5          2         3650      9050       2     4   \n",
       "2   342000         3          2         1930     11947       1     0   \n",
       "3   420000         3          2         2000      8030       1     0   \n",
       "4   550000         4          2         1940     10500       1     0   \n",
       "\n",
       "   condition  sqft_above  sqft_basement  yr_built  yr_renovated  \\\n",
       "0          3        1340              0      1955          2005   \n",
       "1          5        3370            280      1921             0   \n",
       "2          4        1930              0      1966             0   \n",
       "3          4        1000           1000      1963             0   \n",
       "4          4        1140            800      1976          1992   \n",
       "\n",
       "                  date                    street       city  statezip country  \n",
       "0  2014-05-02 00:00:00      18810 Densmore Ave N  Shoreline  WA 98133     USA  \n",
       "1  2014-05-02 00:00:00           709 W Blaine St    Seattle  WA 98119     USA  \n",
       "2  2014-05-02 00:00:00  26206-26214 143rd Ave SE       Kent  WA 98042     USA  \n",
       "3  2014-05-02 00:00:00           857 170th Pl NE   Bellevue  WA 98008     USA  \n",
       "4  2014-05-02 00:00:00         9105 170th Ave NE    Redmond  WA 98052     USA  "
      ]
     },
     "execution_count": 18,
     "metadata": {},
     "output_type": "execute_result"
    }
   ],
   "source": [
    "selected_df.head()"
   ]
  },
  {
   "cell_type": "code",
   "execution_count": 19,
   "id": "69632b82",
   "metadata": {},
   "outputs": [],
   "source": [
    "# Remove useless columns\n",
    "# -> date, street, statezip, country\n",
    "\n",
    "selected_df = selected_df.drop(columns=[\"date\", \"street\", \"statezip\", \"country\"])\n"
   ]
  },
  {
   "cell_type": "code",
   "execution_count": 20,
   "id": "8d488fc7",
   "metadata": {},
   "outputs": [
    {
     "data": {
      "application/vnd.microsoft.datawrangler.viewer.v0+json": {
       "columns": [
        {
         "name": "index",
         "rawType": "int64",
         "type": "integer"
        },
        {
         "name": "price",
         "rawType": "int64",
         "type": "integer"
        },
        {
         "name": "bedrooms",
         "rawType": "int64",
         "type": "integer"
        },
        {
         "name": "bathrooms",
         "rawType": "int64",
         "type": "integer"
        },
        {
         "name": "sqft_living",
         "rawType": "int64",
         "type": "integer"
        },
        {
         "name": "sqft_lot",
         "rawType": "int64",
         "type": "integer"
        },
        {
         "name": "floors",
         "rawType": "int64",
         "type": "integer"
        },
        {
         "name": "view",
         "rawType": "int64",
         "type": "integer"
        },
        {
         "name": "condition",
         "rawType": "int64",
         "type": "integer"
        },
        {
         "name": "sqft_above",
         "rawType": "int64",
         "type": "integer"
        },
        {
         "name": "sqft_basement",
         "rawType": "int64",
         "type": "integer"
        },
        {
         "name": "yr_built",
         "rawType": "int64",
         "type": "integer"
        },
        {
         "name": "yr_renovated",
         "rawType": "int64",
         "type": "integer"
        },
        {
         "name": "city",
         "rawType": "object",
         "type": "string"
        }
       ],
       "conversionMethod": "pd.DataFrame",
       "ref": "47055f98-513a-4f92-b4e9-a90b0f8ce84f",
       "rows": [
        [
         "0",
         "313000",
         "3",
         "1",
         "1340",
         "7912",
         "1",
         "0",
         "3",
         "1340",
         "0",
         "1955",
         "2005",
         "Shoreline"
        ],
        [
         "1",
         "2384000",
         "5",
         "2",
         "3650",
         "9050",
         "2",
         "4",
         "5",
         "3370",
         "280",
         "1921",
         "0",
         "Seattle"
        ],
        [
         "2",
         "342000",
         "3",
         "2",
         "1930",
         "11947",
         "1",
         "0",
         "4",
         "1930",
         "0",
         "1966",
         "0",
         "Kent"
        ],
        [
         "3",
         "420000",
         "3",
         "2",
         "2000",
         "8030",
         "1",
         "0",
         "4",
         "1000",
         "1000",
         "1963",
         "0",
         "Bellevue"
        ],
        [
         "4",
         "550000",
         "4",
         "2",
         "1940",
         "10500",
         "1",
         "0",
         "4",
         "1140",
         "800",
         "1976",
         "1992",
         "Redmond"
        ]
       ],
       "shape": {
        "columns": 13,
        "rows": 5
       }
      },
      "text/html": [
       "<div>\n",
       "<style scoped>\n",
       "    .dataframe tbody tr th:only-of-type {\n",
       "        vertical-align: middle;\n",
       "    }\n",
       "\n",
       "    .dataframe tbody tr th {\n",
       "        vertical-align: top;\n",
       "    }\n",
       "\n",
       "    .dataframe thead th {\n",
       "        text-align: right;\n",
       "    }\n",
       "</style>\n",
       "<table border=\"1\" class=\"dataframe\">\n",
       "  <thead>\n",
       "    <tr style=\"text-align: right;\">\n",
       "      <th></th>\n",
       "      <th>price</th>\n",
       "      <th>bedrooms</th>\n",
       "      <th>bathrooms</th>\n",
       "      <th>sqft_living</th>\n",
       "      <th>sqft_lot</th>\n",
       "      <th>floors</th>\n",
       "      <th>view</th>\n",
       "      <th>condition</th>\n",
       "      <th>sqft_above</th>\n",
       "      <th>sqft_basement</th>\n",
       "      <th>yr_built</th>\n",
       "      <th>yr_renovated</th>\n",
       "      <th>city</th>\n",
       "    </tr>\n",
       "  </thead>\n",
       "  <tbody>\n",
       "    <tr>\n",
       "      <th>0</th>\n",
       "      <td>313000</td>\n",
       "      <td>3</td>\n",
       "      <td>1</td>\n",
       "      <td>1340</td>\n",
       "      <td>7912</td>\n",
       "      <td>1</td>\n",
       "      <td>0</td>\n",
       "      <td>3</td>\n",
       "      <td>1340</td>\n",
       "      <td>0</td>\n",
       "      <td>1955</td>\n",
       "      <td>2005</td>\n",
       "      <td>Shoreline</td>\n",
       "    </tr>\n",
       "    <tr>\n",
       "      <th>1</th>\n",
       "      <td>2384000</td>\n",
       "      <td>5</td>\n",
       "      <td>2</td>\n",
       "      <td>3650</td>\n",
       "      <td>9050</td>\n",
       "      <td>2</td>\n",
       "      <td>4</td>\n",
       "      <td>5</td>\n",
       "      <td>3370</td>\n",
       "      <td>280</td>\n",
       "      <td>1921</td>\n",
       "      <td>0</td>\n",
       "      <td>Seattle</td>\n",
       "    </tr>\n",
       "    <tr>\n",
       "      <th>2</th>\n",
       "      <td>342000</td>\n",
       "      <td>3</td>\n",
       "      <td>2</td>\n",
       "      <td>1930</td>\n",
       "      <td>11947</td>\n",
       "      <td>1</td>\n",
       "      <td>0</td>\n",
       "      <td>4</td>\n",
       "      <td>1930</td>\n",
       "      <td>0</td>\n",
       "      <td>1966</td>\n",
       "      <td>0</td>\n",
       "      <td>Kent</td>\n",
       "    </tr>\n",
       "    <tr>\n",
       "      <th>3</th>\n",
       "      <td>420000</td>\n",
       "      <td>3</td>\n",
       "      <td>2</td>\n",
       "      <td>2000</td>\n",
       "      <td>8030</td>\n",
       "      <td>1</td>\n",
       "      <td>0</td>\n",
       "      <td>4</td>\n",
       "      <td>1000</td>\n",
       "      <td>1000</td>\n",
       "      <td>1963</td>\n",
       "      <td>0</td>\n",
       "      <td>Bellevue</td>\n",
       "    </tr>\n",
       "    <tr>\n",
       "      <th>4</th>\n",
       "      <td>550000</td>\n",
       "      <td>4</td>\n",
       "      <td>2</td>\n",
       "      <td>1940</td>\n",
       "      <td>10500</td>\n",
       "      <td>1</td>\n",
       "      <td>0</td>\n",
       "      <td>4</td>\n",
       "      <td>1140</td>\n",
       "      <td>800</td>\n",
       "      <td>1976</td>\n",
       "      <td>1992</td>\n",
       "      <td>Redmond</td>\n",
       "    </tr>\n",
       "  </tbody>\n",
       "</table>\n",
       "</div>"
      ],
      "text/plain": [
       "     price  bedrooms  bathrooms  sqft_living  sqft_lot  floors  view  \\\n",
       "0   313000         3          1         1340      7912       1     0   \n",
       "1  2384000         5          2         3650      9050       2     4   \n",
       "2   342000         3          2         1930     11947       1     0   \n",
       "3   420000         3          2         2000      8030       1     0   \n",
       "4   550000         4          2         1940     10500       1     0   \n",
       "\n",
       "   condition  sqft_above  sqft_basement  yr_built  yr_renovated       city  \n",
       "0          3        1340              0      1955          2005  Shoreline  \n",
       "1          5        3370            280      1921             0    Seattle  \n",
       "2          4        1930              0      1966             0       Kent  \n",
       "3          4        1000           1000      1963             0   Bellevue  \n",
       "4          4        1140            800      1976          1992    Redmond  "
      ]
     },
     "execution_count": 20,
     "metadata": {},
     "output_type": "execute_result"
    }
   ],
   "source": [
    "selected_df.head()"
   ]
  },
  {
   "cell_type": "markdown",
   "id": "14887656",
   "metadata": {},
   "source": [
    "## Data Visulization "
   ]
  },
  {
   "cell_type": "code",
   "execution_count": 21,
   "id": "b82765ff",
   "metadata": {},
   "outputs": [
    {
     "data": {
      "image/png": "[encoded data removed]",
      "text/plain": [
       "<Figure size 1000x600 with 2 Axes>"
      ]
     },
     "metadata": {},
     "output_type": "display_data"
    }
   ],
   "source": [
    "plt.figure(figsize=(10, 6))\n",
    "sns.heatmap(corr_matrix, annot=True, cmap=\"crest\")\n",
    "plt.show()"
   ]
  },
  {
   "cell_type": "code",
   "execution_count": 22,
   "id": "86cadf54",
   "metadata": {},
   "outputs": [
    {
     "data": {
      "text/plain": [
       "<Axes: xlabel='price', ylabel='Count'>"
      ]
     },
     "execution_count": 22,
     "metadata": {},
     "output_type": "execute_result"
    },
    {
     "data": {
      "image/png": "[encoded data removed]",
      "text/plain": [
       "<Figure size 1000x600 with 1 Axes>"
      ]
     },
     "metadata": {},
     "output_type": "display_data"
    }
   ],
   "source": [
    "# Numerical Distrubation\n",
    "\n",
    "plt.figure(figsize=(10, 6))\n",
    "sns.histplot(df[\"price\"], kde=True)"
   ]
  },
  {
   "cell_type": "code",
   "execution_count": 23,
   "id": "e191209b",
   "metadata": {},
   "outputs": [
    {
     "data": {
      "image/png": "[encoded data removed]",
      "text/plain": [
       "<Figure size 1000x600 with 1 Axes>"
      ]
     },
     "metadata": {},
     "output_type": "display_data"
    }
   ],
   "source": [
    "plt.figure(figsize=(10, 6))\n",
    "sns.boxplot(df[\"price\"])\n",
    "plt.show()"
   ]
  },
  {
   "cell_type": "code",
   "execution_count": 24,
   "id": "539c1c5a",
   "metadata": {},
   "outputs": [
    {
     "data": {
      "image/png": "[encoded data removed]",
      "text/plain": [
       "<Figure size 640x480 with 1 Axes>"
      ]
     },
     "metadata": {},
     "output_type": "display_data"
    }
   ],
   "source": [
    "top_cities = df[\"city\"].value_counts().head(10)\n",
    "sns.barplot(x=top_cities.values, y=top_cities.index)\n",
    "plt.show()"
   ]
  },
  {
   "cell_type": "code",
   "execution_count": 25,
   "id": "5c33df86",
   "metadata": {},
   "outputs": [
    {
     "data": {
      "image/png": "[encoded data removed]",
      "text/plain": [
       "<Figure size 1500x1000 with 1 Axes>"
      ]
     },
     "metadata": {},
     "output_type": "display_data"
    }
   ],
   "source": [
    "plt.figure(figsize=(15, 10))\n",
    "sns.boxplot(x=df[\"city\"], y=df[\"price\"])\n",
    "plt.xticks(rotation=90)\n",
    "plt.show()\n"
   ]
  },
  {
   "cell_type": "code",
   "execution_count": 26,
   "id": "d650024d",
   "metadata": {},
   "outputs": [
    {
     "data": {
      "image/png": "[encoded data removed]",
      "text/plain": [
       "<Figure size 1500x1000 with 1 Axes>"
      ]
     },
     "metadata": {},
     "output_type": "display_data"
    }
   ],
   "source": [
    "plt.figure(figsize=(15, 10))\n",
    "sns.scatterplot(x=df[\"sqft_living\"], y=df[\"price\"], hue=df[\"city\"])\n",
    "plt.legend()\n",
    "plt.show()\n"
   ]
  },
  {
   "cell_type": "code",
   "execution_count": 27,
   "id": "d888abf9",
   "metadata": {},
   "outputs": [
    {
     "data": {
      "application/vnd.microsoft.datawrangler.viewer.v0+json": {
       "columns": [
        {
         "name": "index",
         "rawType": "int64",
         "type": "integer"
        },
        {
         "name": "price",
         "rawType": "int64",
         "type": "integer"
        },
        {
         "name": "bedrooms",
         "rawType": "int64",
         "type": "integer"
        },
        {
         "name": "bathrooms",
         "rawType": "int64",
         "type": "integer"
        },
        {
         "name": "sqft_living",
         "rawType": "int64",
         "type": "integer"
        },
        {
         "name": "sqft_lot",
         "rawType": "int64",
         "type": "integer"
        },
        {
         "name": "floors",
         "rawType": "int64",
         "type": "integer"
        },
        {
         "name": "view",
         "rawType": "int64",
         "type": "integer"
        },
        {
         "name": "condition",
         "rawType": "int64",
         "type": "integer"
        },
        {
         "name": "sqft_above",
         "rawType": "int64",
         "type": "integer"
        },
        {
         "name": "sqft_basement",
         "rawType": "int64",
         "type": "integer"
        },
        {
         "name": "yr_built",
         "rawType": "int64",
         "type": "integer"
        },
        {
         "name": "yr_renovated",
         "rawType": "int64",
         "type": "integer"
        },
        {
         "name": "city",
         "rawType": "object",
         "type": "string"
        }
       ],
       "conversionMethod": "pd.DataFrame",
       "ref": "d06d32df-3bd6-417e-ae19-03bb1b3a2ea1",
       "rows": [
        [
         "0",
         "313000",
         "3",
         "1",
         "1340",
         "7912",
         "1",
         "0",
         "3",
         "1340",
         "0",
         "1955",
         "2005",
         "Shoreline"
        ],
        [
         "1",
         "2384000",
         "5",
         "2",
         "3650",
         "9050",
         "2",
         "4",
         "5",
         "3370",
         "280",
         "1921",
         "0",
         "Seattle"
        ],
        [
         "2",
         "342000",
         "3",
         "2",
         "1930",
         "11947",
         "1",
         "0",
         "4",
         "1930",
         "0",
         "1966",
         "0",
         "Kent"
        ],
        [
         "3",
         "420000",
         "3",
         "2",
         "2000",
         "8030",
         "1",
         "0",
         "4",
         "1000",
         "1000",
         "1963",
         "0",
         "Bellevue"
        ],
        [
         "4",
         "550000",
         "4",
         "2",
         "1940",
         "10500",
         "1",
         "0",
         "4",
         "1140",
         "800",
         "1976",
         "1992",
         "Redmond"
        ]
       ],
       "shape": {
        "columns": 13,
        "rows": 5
       }
      },
      "text/html": [
       "<div>\n",
       "<style scoped>\n",
       "    .dataframe tbody tr th:only-of-type {\n",
       "        vertical-align: middle;\n",
       "    }\n",
       "\n",
       "    .dataframe tbody tr th {\n",
       "        vertical-align: top;\n",
       "    }\n",
       "\n",
       "    .dataframe thead th {\n",
       "        text-align: right;\n",
       "    }\n",
       "</style>\n",
       "<table border=\"1\" class=\"dataframe\">\n",
       "  <thead>\n",
       "    <tr style=\"text-align: right;\">\n",
       "      <th></th>\n",
       "      <th>price</th>\n",
       "      <th>bedrooms</th>\n",
       "      <th>bathrooms</th>\n",
       "      <th>sqft_living</th>\n",
       "      <th>sqft_lot</th>\n",
       "      <th>floors</th>\n",
       "      <th>view</th>\n",
       "      <th>condition</th>\n",
       "      <th>sqft_above</th>\n",
       "      <th>sqft_basement</th>\n",
       "      <th>yr_built</th>\n",
       "      <th>yr_renovated</th>\n",
       "      <th>city</th>\n",
       "    </tr>\n",
       "  </thead>\n",
       "  <tbody>\n",
       "    <tr>\n",
       "      <th>0</th>\n",
       "      <td>313000</td>\n",
       "      <td>3</td>\n",
       "      <td>1</td>\n",
       "      <td>1340</td>\n",
       "      <td>7912</td>\n",
       "      <td>1</td>\n",
       "      <td>0</td>\n",
       "      <td>3</td>\n",
       "      <td>1340</td>\n",
       "      <td>0</td>\n",
       "      <td>1955</td>\n",
       "      <td>2005</td>\n",
       "      <td>Shoreline</td>\n",
       "    </tr>\n",
       "    <tr>\n",
       "      <th>1</th>\n",
       "      <td>2384000</td>\n",
       "      <td>5</td>\n",
       "      <td>2</td>\n",
       "      <td>3650</td>\n",
       "      <td>9050</td>\n",
       "      <td>2</td>\n",
       "      <td>4</td>\n",
       "      <td>5</td>\n",
       "      <td>3370</td>\n",
       "      <td>280</td>\n",
       "      <td>1921</td>\n",
       "      <td>0</td>\n",
       "      <td>Seattle</td>\n",
       "    </tr>\n",
       "    <tr>\n",
       "      <th>2</th>\n",
       "      <td>342000</td>\n",
       "      <td>3</td>\n",
       "      <td>2</td>\n",
       "      <td>1930</td>\n",
       "      <td>11947</td>\n",
       "      <td>1</td>\n",
       "      <td>0</td>\n",
       "      <td>4</td>\n",
       "      <td>1930</td>\n",
       "      <td>0</td>\n",
       "      <td>1966</td>\n",
       "      <td>0</td>\n",
       "      <td>Kent</td>\n",
       "    </tr>\n",
       "    <tr>\n",
       "      <th>3</th>\n",
       "      <td>420000</td>\n",
       "      <td>3</td>\n",
       "      <td>2</td>\n",
       "      <td>2000</td>\n",
       "      <td>8030</td>\n",
       "      <td>1</td>\n",
       "      <td>0</td>\n",
       "      <td>4</td>\n",
       "      <td>1000</td>\n",
       "      <td>1000</td>\n",
       "      <td>1963</td>\n",
       "      <td>0</td>\n",
       "      <td>Bellevue</td>\n",
       "    </tr>\n",
       "    <tr>\n",
       "      <th>4</th>\n",
       "      <td>550000</td>\n",
       "      <td>4</td>\n",
       "      <td>2</td>\n",
       "      <td>1940</td>\n",
       "      <td>10500</td>\n",
       "      <td>1</td>\n",
       "      <td>0</td>\n",
       "      <td>4</td>\n",
       "      <td>1140</td>\n",
       "      <td>800</td>\n",
       "      <td>1976</td>\n",
       "      <td>1992</td>\n",
       "      <td>Redmond</td>\n",
       "    </tr>\n",
       "  </tbody>\n",
       "</table>\n",
       "</div>"
      ],
      "text/plain": [
       "     price  bedrooms  bathrooms  sqft_living  sqft_lot  floors  view  \\\n",
       "0   313000         3          1         1340      7912       1     0   \n",
       "1  2384000         5          2         3650      9050       2     4   \n",
       "2   342000         3          2         1930     11947       1     0   \n",
       "3   420000         3          2         2000      8030       1     0   \n",
       "4   550000         4          2         1940     10500       1     0   \n",
       "\n",
       "   condition  sqft_above  sqft_basement  yr_built  yr_renovated       city  \n",
       "0          3        1340              0      1955          2005  Shoreline  \n",
       "1          5        3370            280      1921             0    Seattle  \n",
       "2          4        1930              0      1966             0       Kent  \n",
       "3          4        1000           1000      1963             0   Bellevue  \n",
       "4          4        1140            800      1976          1992    Redmond  "
      ]
     },
     "execution_count": 27,
     "metadata": {},
     "output_type": "execute_result"
    }
   ],
   "source": [
    "selected_df.head()"
   ]
  },
  {
   "cell_type": "code",
   "execution_count": 28,
   "id": "30dd6a04",
   "metadata": {},
   "outputs": [
    {
     "data": {
      "image/png": "[encoded data removed]",
      "text/plain": [
       "<Figure size 1500x1000 with 1 Axes>"
      ]
     },
     "metadata": {},
     "output_type": "display_data"
    }
   ],
   "source": [
    "avg_price = selected_df.groupby(\"city\")[\"price\"].mean().sort_values(ascending=False)\n",
    "plt.figure(figsize=(15, 10))\n",
    "sns.barplot(y=avg_price.values, x=avg_price.index)\n",
    "plt.xticks(rotation=90)\n",
    "plt.title(\"Average Price over City\")\n",
    "plt.show()"
   ]
  },
  {
   "cell_type": "code",
   "execution_count": 29,
   "id": "4a6107b5",
   "metadata": {},
   "outputs": [],
   "source": [
    "# City feature Analysis\n",
    "\n",
    "city_counts = selected_df[\"city\"].value_counts()"
   ]
  },
  {
   "cell_type": "code",
   "execution_count": 30,
   "id": "bf64971b",
   "metadata": {},
   "outputs": [],
   "source": [
    "city_percent = city_counts / city_counts.sum() * 100\n",
    "cumulative_percent = city_percent.cumsum()"
   ]
  },
  {
   "cell_type": "code",
   "execution_count": 31,
   "id": "14177f55",
   "metadata": {},
   "outputs": [
    {
     "data": {
      "image/png": "[encoded data removed]",
      "text/plain": [
       "<Figure size 1500x1000 with 1 Axes>"
      ]
     },
     "metadata": {},
     "output_type": "display_data"
    }
   ],
   "source": [
    "plt.figure(figsize=(15, 10))\n",
    "cumulative_percent.plot()\n",
    "plt.xlabel(\"Number of Top cities\")\n",
    "plt.ylabel(\"Cumulative '%' of Lising\")\n",
    "plt.title(f\"Cumulative Coverage by Top cities\")\n",
    "plt.grid(True)\n",
    "plt.show()"
   ]
  },
  {
   "cell_type": "code",
   "execution_count": 32,
   "id": "ebb75c8a",
   "metadata": {},
   "outputs": [
    {
     "name": "stdout",
     "output_type": "stream",
     "text": [
      "Top 11 cities over 95% of listing\n"
     ]
    }
   ],
   "source": [
    "top_cities_n = cumulative_percent[cumulative_percent <= 80].shape[0]\n",
    "print(f\"Top {top_cities_n} cities over 95% of listing\")"
   ]
  },
  {
   "cell_type": "code",
   "execution_count": 33,
   "id": "1f21e13d",
   "metadata": {},
   "outputs": [
    {
     "data": {
      "text/plain": [
       "city\n",
       "Seattle                1573\n",
       "Renton                  293\n",
       "Bellevue                286\n",
       "Redmond                 235\n",
       "Kirkland                187\n",
       "Issaquah                187\n",
       "Kent                    185\n",
       "Auburn                  176\n",
       "Sammamish               175\n",
       "Federal Way             148\n",
       "Shoreline               123\n",
       "Woodinville             115\n",
       "Maple Valley             96\n",
       "Mercer Island            86\n",
       "Burien                   74\n",
       "Snoqualmie               71\n",
       "Kenmore                  66\n",
       "Des Moines               58\n",
       "North Bend               50\n",
       "Covington                43\n",
       "Duvall                   42\n",
       "Lake Forest Park         36\n",
       "Bothell                  33\n",
       "Newcastle                33\n",
       "Tukwila                  29\n",
       "SeaTac                   29\n",
       "Vashon                   29\n",
       "Enumclaw                 28\n",
       "Carnation                22\n",
       "Normandy Park            18\n",
       "Clyde Hill               11\n",
       "Fall City                11\n",
       "Medina                   11\n",
       "Black Diamond             9\n",
       "Ravensdale                7\n",
       "Pacific                   6\n",
       "Algona                    5\n",
       "Yarrow Point              4\n",
       "Skykomish                 3\n",
       "Milton                    2\n",
       "Preston                   2\n",
       "Inglewood-Finn Hill       1\n",
       "Snoqualmie Pass           1\n",
       "Beaux Arts Village        1\n",
       "Name: count, dtype: int64"
      ]
     },
     "execution_count": 33,
     "metadata": {},
     "output_type": "execute_result"
    }
   ],
   "source": [
    "df[\"city\"].value_counts()"
   ]
  },
  {
   "cell_type": "code",
   "execution_count": 34,
   "id": "99adf0a6",
   "metadata": {},
   "outputs": [],
   "source": [
    "top_cities = city_counts[:top_cities_n].index"
   ]
  },
  {
   "cell_type": "code",
   "execution_count": 35,
   "id": "38df1405",
   "metadata": {},
   "outputs": [],
   "source": [
    "selected_df[\"city\"] = selected_df[\"city\"].apply(lambda x: x if x in top_cities else \"other\")"
   ]
  },
  {
   "cell_type": "code",
   "execution_count": 36,
   "id": "ad8557b5",
   "metadata": {},
   "outputs": [
    {
     "data": {
      "text/plain": [
       "city\n",
       "Seattle        1573\n",
       "other          1032\n",
       "Renton          293\n",
       "Bellevue        286\n",
       "Redmond         235\n",
       "Kirkland        187\n",
       "Issaquah        187\n",
       "Kent            185\n",
       "Auburn          176\n",
       "Sammamish       175\n",
       "Federal Way     148\n",
       "Shoreline       123\n",
       "Name: count, dtype: int64"
      ]
     },
     "execution_count": 36,
     "metadata": {},
     "output_type": "execute_result"
    }
   ],
   "source": [
    "selected_df[\"city\"].value_counts()"
   ]
  },
  {
   "cell_type": "code",
   "execution_count": 39,
   "id": "82b83297",
   "metadata": {},
   "outputs": [
    {
     "data": {
      "application/vnd.microsoft.datawrangler.viewer.v0+json": {
       "columns": [
        {
         "name": "index",
         "rawType": "int64",
         "type": "integer"
        },
        {
         "name": "price",
         "rawType": "int64",
         "type": "integer"
        },
        {
         "name": "bedrooms",
         "rawType": "int64",
         "type": "integer"
        },
        {
         "name": "bathrooms",
         "rawType": "int64",
         "type": "integer"
        },
        {
         "name": "sqft_living",
         "rawType": "int64",
         "type": "integer"
        },
        {
         "name": "sqft_lot",
         "rawType": "int64",
         "type": "integer"
        },
        {
         "name": "floors",
         "rawType": "int64",
         "type": "integer"
        },
        {
         "name": "view",
         "rawType": "int64",
         "type": "integer"
        },
        {
         "name": "condition",
         "rawType": "int64",
         "type": "integer"
        },
        {
         "name": "sqft_above",
         "rawType": "int64",
         "type": "integer"
        },
        {
         "name": "sqft_basement",
         "rawType": "int64",
         "type": "integer"
        },
        {
         "name": "yr_built",
         "rawType": "int64",
         "type": "integer"
        },
        {
         "name": "yr_renovated",
         "rawType": "int64",
         "type": "integer"
        },
        {
         "name": "city",
         "rawType": "object",
         "type": "string"
        }
       ],
       "conversionMethod": "pd.DataFrame",
       "ref": "c63acf80-b441-4bba-a1e5-c04ab3d6c4ac",
       "rows": [
        [
         "0",
         "313000",
         "3",
         "1",
         "1340",
         "7912",
         "1",
         "0",
         "3",
         "1340",
         "0",
         "1955",
         "2005",
         "Shoreline"
        ],
        [
         "1",
         "2384000",
         "5",
         "2",
         "3650",
         "9050",
         "2",
         "4",
         "5",
         "3370",
         "280",
         "1921",
         "0",
         "Seattle"
        ],
        [
         "2",
         "342000",
         "3",
         "2",
         "1930",
         "11947",
         "1",
         "0",
         "4",
         "1930",
         "0",
         "1966",
         "0",
         "Kent"
        ],
        [
         "3",
         "420000",
         "3",
         "2",
         "2000",
         "8030",
         "1",
         "0",
         "4",
         "1000",
         "1000",
         "1963",
         "0",
         "Bellevue"
        ],
        [
         "4",
         "550000",
         "4",
         "2",
         "1940",
         "10500",
         "1",
         "0",
         "4",
         "1140",
         "800",
         "1976",
         "1992",
         "Redmond"
        ]
       ],
       "shape": {
        "columns": 13,
        "rows": 5
       }
      },
      "text/html": [
       "<div>\n",
       "<style scoped>\n",
       "    .dataframe tbody tr th:only-of-type {\n",
       "        vertical-align: middle;\n",
       "    }\n",
       "\n",
       "    .dataframe tbody tr th {\n",
       "        vertical-align: top;\n",
       "    }\n",
       "\n",
       "    .dataframe thead th {\n",
       "        text-align: right;\n",
       "    }\n",
       "</style>\n",
       "<table border=\"1\" class=\"dataframe\">\n",
       "  <thead>\n",
       "    <tr style=\"text-align: right;\">\n",
       "      <th></th>\n",
       "      <th>price</th>\n",
       "      <th>bedrooms</th>\n",
       "      <th>bathrooms</th>\n",
       "      <th>sqft_living</th>\n",
       "      <th>sqft_lot</th>\n",
       "      <th>floors</th>\n",
       "      <th>view</th>\n",
       "      <th>condition</th>\n",
       "      <th>sqft_above</th>\n",
       "      <th>sqft_basement</th>\n",
       "      <th>yr_built</th>\n",
       "      <th>yr_renovated</th>\n",
       "      <th>city</th>\n",
       "    </tr>\n",
       "  </thead>\n",
       "  <tbody>\n",
       "    <tr>\n",
       "      <th>0</th>\n",
       "      <td>313000</td>\n",
       "      <td>3</td>\n",
       "      <td>1</td>\n",
       "      <td>1340</td>\n",
       "      <td>7912</td>\n",
       "      <td>1</td>\n",
       "      <td>0</td>\n",
       "      <td>3</td>\n",
       "      <td>1340</td>\n",
       "      <td>0</td>\n",
       "      <td>1955</td>\n",
       "      <td>2005</td>\n",
       "      <td>Shoreline</td>\n",
       "    </tr>\n",
       "    <tr>\n",
       "      <th>1</th>\n",
       "      <td>2384000</td>\n",
       "      <td>5</td>\n",
       "      <td>2</td>\n",
       "      <td>3650</td>\n",
       "      <td>9050</td>\n",
       "      <td>2</td>\n",
       "      <td>4</td>\n",
       "      <td>5</td>\n",
       "      <td>3370</td>\n",
       "      <td>280</td>\n",
       "      <td>1921</td>\n",
       "      <td>0</td>\n",
       "      <td>Seattle</td>\n",
       "    </tr>\n",
       "    <tr>\n",
       "      <th>2</th>\n",
       "      <td>342000</td>\n",
       "      <td>3</td>\n",
       "      <td>2</td>\n",
       "      <td>1930</td>\n",
       "      <td>11947</td>\n",
       "      <td>1</td>\n",
       "      <td>0</td>\n",
       "      <td>4</td>\n",
       "      <td>1930</td>\n",
       "      <td>0</td>\n",
       "      <td>1966</td>\n",
       "      <td>0</td>\n",
       "      <td>Kent</td>\n",
       "    </tr>\n",
       "    <tr>\n",
       "      <th>3</th>\n",
       "      <td>420000</td>\n",
       "      <td>3</td>\n",
       "      <td>2</td>\n",
       "      <td>2000</td>\n",
       "      <td>8030</td>\n",
       "      <td>1</td>\n",
       "      <td>0</td>\n",
       "      <td>4</td>\n",
       "      <td>1000</td>\n",
       "      <td>1000</td>\n",
       "      <td>1963</td>\n",
       "      <td>0</td>\n",
       "      <td>Bellevue</td>\n",
       "    </tr>\n",
       "    <tr>\n",
       "      <th>4</th>\n",
       "      <td>550000</td>\n",
       "      <td>4</td>\n",
       "      <td>2</td>\n",
       "      <td>1940</td>\n",
       "      <td>10500</td>\n",
       "      <td>1</td>\n",
       "      <td>0</td>\n",
       "      <td>4</td>\n",
       "      <td>1140</td>\n",
       "      <td>800</td>\n",
       "      <td>1976</td>\n",
       "      <td>1992</td>\n",
       "      <td>Redmond</td>\n",
       "    </tr>\n",
       "  </tbody>\n",
       "</table>\n",
       "</div>"
      ],
      "text/plain": [
       "     price  bedrooms  bathrooms  sqft_living  sqft_lot  floors  view  \\\n",
       "0   313000         3          1         1340      7912       1     0   \n",
       "1  2384000         5          2         3650      9050       2     4   \n",
       "2   342000         3          2         1930     11947       1     0   \n",
       "3   420000         3          2         2000      8030       1     0   \n",
       "4   550000         4          2         1940     10500       1     0   \n",
       "\n",
       "   condition  sqft_above  sqft_basement  yr_built  yr_renovated       city  \n",
       "0          3        1340              0      1955          2005  Shoreline  \n",
       "1          5        3370            280      1921             0    Seattle  \n",
       "2          4        1930              0      1966             0       Kent  \n",
       "3          4        1000           1000      1963             0   Bellevue  \n",
       "4          4        1140            800      1976          1992    Redmond  "
      ]
     },
     "execution_count": 39,
     "metadata": {},
     "output_type": "execute_result"
    }
   ],
   "source": [
    "selected_df.head()"
   ]
  },
  {
   "cell_type": "code",
   "execution_count": 40,
   "id": "2cb2e8a1",
   "metadata": {},
   "outputs": [],
   "source": [
    "num_features = [feature for feature in selected_df.columns if selected_df[feature].dtype in [\"int64\", \"float64\"]]\n",
    "cat_features = [feature for feature in selected_df.columns if selected_df[feature].dtype not in [\"int64\", \"float64\"]]"
   ]
  },
  {
   "cell_type": "code",
   "execution_count": 41,
   "id": "7cccc557",
   "metadata": {},
   "outputs": [
    {
     "data": {
      "application/vnd.microsoft.datawrangler.viewer.v0+json": {
       "columns": [
        {
         "name": "index",
         "rawType": "int64",
         "type": "integer"
        },
        {
         "name": "price",
         "rawType": "int64",
         "type": "integer"
        },
        {
         "name": "bedrooms",
         "rawType": "int64",
         "type": "integer"
        },
        {
         "name": "bathrooms",
         "rawType": "int64",
         "type": "integer"
        },
        {
         "name": "sqft_living",
         "rawType": "int64",
         "type": "integer"
        },
        {
         "name": "sqft_lot",
         "rawType": "int64",
         "type": "integer"
        },
        {
         "name": "floors",
         "rawType": "int64",
         "type": "integer"
        },
        {
         "name": "view",
         "rawType": "int64",
         "type": "integer"
        },
        {
         "name": "condition",
         "rawType": "int64",
         "type": "integer"
        },
        {
         "name": "sqft_above",
         "rawType": "int64",
         "type": "integer"
        },
        {
         "name": "sqft_basement",
         "rawType": "int64",
         "type": "integer"
        },
        {
         "name": "yr_built",
         "rawType": "int64",
         "type": "integer"
        },
        {
         "name": "yr_renovated",
         "rawType": "int64",
         "type": "integer"
        },
        {
         "name": "city",
         "rawType": "object",
         "type": "string"
        },
        {
         "name": "city_Bellevue",
         "rawType": "int64",
         "type": "integer"
        },
        {
         "name": "city_Federal Way",
         "rawType": "int64",
         "type": "integer"
        },
        {
         "name": "city_Issaquah",
         "rawType": "int64",
         "type": "integer"
        },
        {
         "name": "city_Kent",
         "rawType": "int64",
         "type": "integer"
        },
        {
         "name": "city_Kirkland",
         "rawType": "int64",
         "type": "integer"
        },
        {
         "name": "city_Redmond",
         "rawType": "int64",
         "type": "integer"
        },
        {
         "name": "city_Renton",
         "rawType": "int64",
         "type": "integer"
        },
        {
         "name": "city_Sammamish",
         "rawType": "int64",
         "type": "integer"
        },
        {
         "name": "city_Seattle",
         "rawType": "int64",
         "type": "integer"
        },
        {
         "name": "city_Shoreline",
         "rawType": "int64",
         "type": "integer"
        },
        {
         "name": "city_other",
         "rawType": "int64",
         "type": "integer"
        }
       ],
       "conversionMethod": "pd.DataFrame",
       "ref": "b8c47a89-082c-4355-a13f-ba2feb02d321",
       "rows": [
        [
         "0",
         "313000",
         "3",
         "1",
         "1340",
         "7912",
         "1",
         "0",
         "3",
         "1340",
         "0",
         "1955",
         "2005",
         "Shoreline",
         "0",
         "0",
         "0",
         "0",
         "0",
         "0",
         "0",
         "0",
         "0",
         "1",
         "0"
        ],
        [
         "1",
         "2384000",
         "5",
         "2",
         "3650",
         "9050",
         "2",
         "4",
         "5",
         "3370",
         "280",
         "1921",
         "0",
         "Seattle",
         "0",
         "0",
         "0",
         "0",
         "0",
         "0",
         "0",
         "0",
         "1",
         "0",
         "0"
        ],
        [
         "2",
         "342000",
         "3",
         "2",
         "1930",
         "11947",
         "1",
         "0",
         "4",
         "1930",
         "0",
         "1966",
         "0",
         "Kent",
         "0",
         "0",
         "0",
         "1",
         "0",
         "0",
         "0",
         "0",
         "0",
         "0",
         "0"
        ],
        [
         "3",
         "420000",
         "3",
         "2",
         "2000",
         "8030",
         "1",
         "0",
         "4",
         "1000",
         "1000",
         "1963",
         "0",
         "Bellevue",
         "1",
         "0",
         "0",
         "0",
         "0",
         "0",
         "0",
         "0",
         "0",
         "0",
         "0"
        ],
        [
         "4",
         "550000",
         "4",
         "2",
         "1940",
         "10500",
         "1",
         "0",
         "4",
         "1140",
         "800",
         "1976",
         "1992",
         "Redmond",
         "0",
         "0",
         "0",
         "0",
         "0",
         "1",
         "0",
         "0",
         "0",
         "0",
         "0"
        ]
       ],
       "shape": {
        "columns": 24,
        "rows": 5
       }
      },
      "text/html": [
       "<div>\n",
       "<style scoped>\n",
       "    .dataframe tbody tr th:only-of-type {\n",
       "        vertical-align: middle;\n",
       "    }\n",
       "\n",
       "    .dataframe tbody tr th {\n",
       "        vertical-align: top;\n",
       "    }\n",
       "\n",
       "    .dataframe thead th {\n",
       "        text-align: right;\n",
       "    }\n",
       "</style>\n",
       "<table border=\"1\" class=\"dataframe\">\n",
       "  <thead>\n",
       "    <tr style=\"text-align: right;\">\n",
       "      <th></th>\n",
       "      <th>price</th>\n",
       "      <th>bedrooms</th>\n",
       "      <th>bathrooms</th>\n",
       "      <th>sqft_living</th>\n",
       "      <th>sqft_lot</th>\n",
       "      <th>floors</th>\n",
       "      <th>view</th>\n",
       "      <th>condition</th>\n",
       "      <th>sqft_above</th>\n",
       "      <th>sqft_basement</th>\n",
       "      <th>...</th>\n",
       "      <th>city_Federal Way</th>\n",
       "      <th>city_Issaquah</th>\n",
       "      <th>city_Kent</th>\n",
       "      <th>city_Kirkland</th>\n",
       "      <th>city_Redmond</th>\n",
       "      <th>city_Renton</th>\n",
       "      <th>city_Sammamish</th>\n",
       "      <th>city_Seattle</th>\n",
       "      <th>city_Shoreline</th>\n",
       "      <th>city_other</th>\n",
       "    </tr>\n",
       "  </thead>\n",
       "  <tbody>\n",
       "    <tr>\n",
       "      <th>0</th>\n",
       "      <td>313000</td>\n",
       "      <td>3</td>\n",
       "      <td>1</td>\n",
       "      <td>1340</td>\n",
       "      <td>7912</td>\n",
       "      <td>1</td>\n",
       "      <td>0</td>\n",
       "      <td>3</td>\n",
       "      <td>1340</td>\n",
       "      <td>0</td>\n",
       "      <td>...</td>\n",
       "      <td>0</td>\n",
       "      <td>0</td>\n",
       "      <td>0</td>\n",
       "      <td>0</td>\n",
       "      <td>0</td>\n",
       "      <td>0</td>\n",
       "      <td>0</td>\n",
       "      <td>0</td>\n",
       "      <td>1</td>\n",
       "      <td>0</td>\n",
       "    </tr>\n",
       "    <tr>\n",
       "      <th>1</th>\n",
       "      <td>2384000</td>\n",
       "      <td>5</td>\n",
       "      <td>2</td>\n",
       "      <td>3650</td>\n",
       "      <td>9050</td>\n",
       "      <td>2</td>\n",
       "      <td>4</td>\n",
       "      <td>5</td>\n",
       "      <td>3370</td>\n",
       "      <td>280</td>\n",
       "      <td>...</td>\n",
       "      <td>0</td>\n",
       "      <td>0</td>\n",
       "      <td>0</td>\n",
       "      <td>0</td>\n",
       "      <td>0</td>\n",
       "      <td>0</td>\n",
       "      <td>0</td>\n",
       "      <td>1</td>\n",
       "      <td>0</td>\n",
       "      <td>0</td>\n",
       "    </tr>\n",
       "    <tr>\n",
       "      <th>2</th>\n",
       "      <td>342000</td>\n",
       "      <td>3</td>\n",
       "      <td>2</td>\n",
       "      <td>1930</td>\n",
       "      <td>11947</td>\n",
       "      <td>1</td>\n",
       "      <td>0</td>\n",
       "      <td>4</td>\n",
       "      <td>1930</td>\n",
       "      <td>0</td>\n",
       "      <td>...</td>\n",
       "      <td>0</td>\n",
       "      <td>0</td>\n",
       "      <td>1</td>\n",
       "      <td>0</td>\n",
       "      <td>0</td>\n",
       "      <td>0</td>\n",
       "      <td>0</td>\n",
       "      <td>0</td>\n",
       "      <td>0</td>\n",
       "      <td>0</td>\n",
       "    </tr>\n",
       "    <tr>\n",
       "      <th>3</th>\n",
       "      <td>420000</td>\n",
       "      <td>3</td>\n",
       "      <td>2</td>\n",
       "      <td>2000</td>\n",
       "      <td>8030</td>\n",
       "      <td>1</td>\n",
       "      <td>0</td>\n",
       "      <td>4</td>\n",
       "      <td>1000</td>\n",
       "      <td>1000</td>\n",
       "      <td>...</td>\n",
       "      <td>0</td>\n",
       "      <td>0</td>\n",
       "      <td>0</td>\n",
       "      <td>0</td>\n",
       "      <td>0</td>\n",
       "      <td>0</td>\n",
       "      <td>0</td>\n",
       "      <td>0</td>\n",
       "      <td>0</td>\n",
       "      <td>0</td>\n",
       "    </tr>\n",
       "    <tr>\n",
       "      <th>4</th>\n",
       "      <td>550000</td>\n",
       "      <td>4</td>\n",
       "      <td>2</td>\n",
       "      <td>1940</td>\n",
       "      <td>10500</td>\n",
       "      <td>1</td>\n",
       "      <td>0</td>\n",
       "      <td>4</td>\n",
       "      <td>1140</td>\n",
       "      <td>800</td>\n",
       "      <td>...</td>\n",
       "      <td>0</td>\n",
       "      <td>0</td>\n",
       "      <td>0</td>\n",
       "      <td>0</td>\n",
       "      <td>1</td>\n",
       "      <td>0</td>\n",
       "      <td>0</td>\n",
       "      <td>0</td>\n",
       "      <td>0</td>\n",
       "      <td>0</td>\n",
       "    </tr>\n",
       "  </tbody>\n",
       "</table>\n",
       "<p>5 rows × 24 columns</p>\n",
       "</div>"
      ],
      "text/plain": [
       "     price  bedrooms  bathrooms  sqft_living  sqft_lot  floors  view  \\\n",
       "0   313000         3          1         1340      7912       1     0   \n",
       "1  2384000         5          2         3650      9050       2     4   \n",
       "2   342000         3          2         1930     11947       1     0   \n",
       "3   420000         3          2         2000      8030       1     0   \n",
       "4   550000         4          2         1940     10500       1     0   \n",
       "\n",
       "   condition  sqft_above  sqft_basement  ...  city_Federal Way  city_Issaquah  \\\n",
       "0          3        1340              0  ...                 0              0   \n",
       "1          5        3370            280  ...                 0              0   \n",
       "2          4        1930              0  ...                 0              0   \n",
       "3          4        1000           1000  ...                 0              0   \n",
       "4          4        1140            800  ...                 0              0   \n",
       "\n",
       "  city_Kent  city_Kirkland  city_Redmond  city_Renton  city_Sammamish  \\\n",
       "0         0              0             0            0               0   \n",
       "1         0              0             0            0               0   \n",
       "2         1              0             0            0               0   \n",
       "3         0              0             0            0               0   \n",
       "4         0              0             1            0               0   \n",
       "\n",
       "   city_Seattle  city_Shoreline  city_other  \n",
       "0             0               1           0  \n",
       "1             1               0           0  \n",
       "2             0               0           0  \n",
       "3             0               0           0  \n",
       "4             0               0           0  \n",
       "\n",
       "[5 rows x 24 columns]"
      ]
     },
     "execution_count": 41,
     "metadata": {},
     "output_type": "execute_result"
    }
   ],
   "source": [
    "from sklearn.preprocessing import OneHotEncoder\n",
    "\n",
    "one_hot = OneHotEncoder(sparse_output=False, drop=\"first\", handle_unknown=\"ignore\", dtype=\"int\")\n",
    "\n",
    "encoded = one_hot.fit_transform(selected_df[cat_features])\n",
    "\n",
    "encoded_df = pd.DataFrame(encoded, columns=one_hot.get_feature_names_out(cat_features))\n",
    "\n",
    "encoded_df = pd.concat([selected_df, encoded_df], axis=1)\n",
    "\n",
    "encoded_df.head()"
   ]
  },
  {
   "cell_type": "code",
   "execution_count": 42,
   "id": "ad6d317c",
   "metadata": {},
   "outputs": [],
   "source": [
    "# Remove City features \n",
    "\n",
    "selected_df = selected_df.drop(\"city\", axis=1)"
   ]
  },
  {
   "cell_type": "code",
   "execution_count": 43,
   "id": "c8bd8037",
   "metadata": {},
   "outputs": [],
   "source": [
    "# Split the dataset into train and test data\n",
    "from sklearn.model_selection import train_test_split\n",
    "X_train, X_test, y_train, y_test = train_test_split(selected_df.drop(\"price\", axis=1), selected_df[\"price\"], test_size=0.2, random_state=42)"
   ]
  },
  {
   "cell_type": "code",
   "execution_count": 70,
   "id": "0cb9399e",
   "metadata": {},
   "outputs": [],
   "source": [
    "from sklearn.preprocessing import StandardScaler\n",
    "\n",
    "scaler = StandardScaler()\n",
    "\n",
    "X_train = scaler.fit_transform(X_train)\n",
    "X_test = scaler.transform(X_test)"
   ]
  },
  {
   "cell_type": "markdown",
   "id": "30364052",
   "metadata": {},
   "source": [
    "## Algorithm to Used\n",
    "\n",
    "- Multiple Linear Regression\n",
    "- Gradient Descent\n",
    "- Ridge Regularization\n",
    "- Random Forest Classifier"
   ]
  },
  {
   "cell_type": "code",
   "execution_count": 71,
   "id": "cd8b607b",
   "metadata": {},
   "outputs": [],
   "source": [
    "class MultipleLinearRegression():\n",
    "\n",
    "    def __init__(self):\n",
    "\n",
    "        self.coef_ = None\n",
    "        self.intercept_ = None\n",
    "    \n",
    "    def fit(self, X_train, y_train):\n",
    "\n",
    "        X_train = np.insert(X_train, 0, 1, axis=1)\n",
    "\n",
    "        betas_ = np.linalg.inv(np.dot(X_train.T, X_train)).dot(X_train.T).dot(y_train)\n",
    "\n",
    "        self.coef_ = betas_[1:]\n",
    "        self.intercept_ = betas_[0]\n",
    "\n",
    "        print(f\"Intercept_: {self.intercept_}, Coef_: {self.coef_}\")\n",
    "    \n",
    "    def predict(self, X_test):\n",
    "\n",
    "        y_pred = np.dot(X_test, self.coef_) + self.intercept_\n",
    "        return y_pred"
   ]
  },
  {
   "cell_type": "code",
   "execution_count": 72,
   "id": "431d7627",
   "metadata": {},
   "outputs": [
    {
     "name": "stdout",
     "output_type": "stream",
     "text": [
      "Intercept_: 544848.2551630432, Coef_: [-91690.29545562  39878.92770977 171179.1532454  -15693.71351034\n",
      "  55992.91539049  41303.27038642  16703.70860727  94036.79793989\n",
      "  77626.64680149 -79564.27290548   7234.19292983]\n"
     ]
    }
   ],
   "source": [
    "mlr_ = MultipleLinearRegression()\n",
    "\n",
    "mlr_.fit(X_train, y_train)"
   ]
  },
  {
   "cell_type": "code",
   "execution_count": 73,
   "id": "68b07bc6",
   "metadata": {},
   "outputs": [],
   "source": [
    "y_pred_mlr = mlr_.predict(X_test)"
   ]
  },
  {
   "cell_type": "code",
   "execution_count": 74,
   "id": "664ffc8a",
   "metadata": {},
   "outputs": [
    {
     "name": "stdout",
     "output_type": "stream",
     "text": [
      "R2 score of MLR : 0.026822198236966077\n",
      "MAE of MLR : 216153.54175799017\n",
      "RMAE of MLR : 464.92315683130926\n"
     ]
    }
   ],
   "source": [
    "from sklearn.metrics import r2_score, mean_absolute_error\n",
    "\n",
    "r2_score_mlr = r2_score(y_test, y_pred_mlr)\n",
    "mae_mlr = mean_absolute_error(y_test, y_pred_mlr)\n",
    "rmae_mlr = np.sqrt(mae_mlr)\n",
    "\n",
    "print(f\"R2 score of MLR : {r2_score_mlr}\")\n",
    "print(f\"MAE of MLR : {mae_mlr}\")\n",
    "print(f\"RMAE of MLR : {rmae_mlr}\")"
   ]
  },
  {
   "cell_type": "code",
   "execution_count": 75,
   "id": "8b994442",
   "metadata": {},
   "outputs": [],
   "source": [
    "# Graident Descent \n",
    "\n",
    "class GraidentDescent():\n",
    "\n",
    "    def __init__(self, learning_rate, epochs):\n",
    "\n",
    "        self.coef_ = None\n",
    "        self.lr = learning_rate\n",
    "        self.epochs = epochs\n",
    "    \n",
    "    def fit(self, X_train, y_train):\n",
    "\n",
    "        X_train = np.insert(X_train, 0, 1, axis=1)\n",
    "        self.coef_ = np.random.randn(X_train.shape[1]) * 0.01\n",
    "\n",
    "        for i in range(self.epochs):\n",
    "            \n",
    "            y_hat = np.dot(X_train, self.coef_)\n",
    "\n",
    "            error = y_hat - y_train\n",
    "\n",
    "            coef_slope = - np.dot(error, X_train) / X_train.shape[0]\n",
    "\n",
    "            self.coef_ = self.coef_ - (self.lr * coef_slope)\n",
    "        \n",
    "        print(f\"Coef_: {self.coef_}\")\n",
    "    \n",
    "    def predict(self, X_test):\n",
    "\n",
    "        X_test = np.insert(X_test, 0, 1, axis=1)\n",
    "        y_pred = np.dot(X_test, self.coef_)\n",
    "        return y_pred"
   ]
  },
  {
   "cell_type": "code",
   "execution_count": 101,
   "id": "74306af8",
   "metadata": {},
   "outputs": [],
   "source": [
    "gradient_ = GraidentDescent(learning_rate=0.001, epochs=5000)"
   ]
  },
  {
   "cell_type": "code",
   "execution_count": 102,
   "id": "117e615a",
   "metadata": {},
   "outputs": [
    {
     "name": "stdout",
     "output_type": "stream",
     "text": [
      "Coef_: [-8.01160306e+07 -3.35893671e+12 -4.43479331e+12 -4.75059023e+12\n",
      " -9.78228427e+11 -3.30182780e+12 -1.44544310e+12  1.19418825e+12\n",
      " -4.65978365e+12 -1.18691576e+12 -3.01699273e+12  1.43519053e+12]\n"
     ]
    }
   ],
   "source": [
    "gradient_.fit(X_train, y_train)"
   ]
  },
  {
   "cell_type": "code",
   "execution_count": 103,
   "id": "e0ce4a0c",
   "metadata": {},
   "outputs": [],
   "source": [
    "y_pred_gradient = gradient_.predict(X_test)"
   ]
  },
  {
   "cell_type": "code",
   "execution_count": 104,
   "id": "2a5f1251",
   "metadata": {},
   "outputs": [
    {
     "name": "stdout",
     "output_type": "stream",
     "text": [
      "R2 Score Gradient : -0.0013467958814084025\n",
      "MAE Gradient : 15272197330525.252\n",
      "RMAE Gradient : 3907965.881443344\n"
     ]
    }
   ],
   "source": [
    "r2_score_gradient = r2_score(y_pred_gradient, y_test)\n",
    "mae_gradient = mean_absolute_error(y_pred_gradient, y_test)\n",
    "rmae_gradient = np.sqrt(mae_gradient)\n",
    "\n",
    "print(f\"R2 Score Gradient : {r2_score_gradient}\")\n",
    "print(f\"MAE Gradient : {mae_gradient}\")\n",
    "print(f\"RMAE Gradient : {rmae_gradient}\")"
   ]
  },
  {
   "cell_type": "code",
   "execution_count": 119,
   "id": "d6732a6c",
   "metadata": {},
   "outputs": [],
   "source": [
    "# Ridge Regularization\n",
    "\n",
    "class RidgeRegression():\n",
    "\n",
    "    def __init__(self, learning_rate, epochs, alpha):\n",
    "\n",
    "        self.coef_ = None\n",
    "        self.lr = learning_rate\n",
    "        self.epochs = epochs\n",
    "        self.alpha = alpha\n",
    "    \n",
    "\n",
    "    def fit(self, X_train, y_train):\n",
    "\n",
    "        X_train = np.insert(X_train, 0, 1, axis=1)\n",
    "\n",
    "        self.coef_ = np.random.randn(X_train.shape[1]) * 0.01\n",
    "\n",
    "        for i in range(self.epochs):\n",
    "\n",
    "            coef_slope = np.dot(X_train.T, X_train).dot(self.coef_) - np.dot(X_train.T, y_train) + np.dot(self.alpha, self.coef_)\n",
    "\n",
    "            self.coef_ = self.coef_ - (self.lr * coef_slope)\n",
    "        \n",
    "        print(f\"Coef_: {self.coef_}\")\n",
    "    \n",
    "    def predict(self, X_test):\n",
    "\n",
    "        X_test = np.insert(X_test, 0, 1, axis=1)\n",
    "\n",
    "        y_pred = np.dot(X_test, self.coef_)\n",
    "\n",
    "        return y_pred"
   ]
  },
  {
   "cell_type": "code",
   "execution_count": 134,
   "id": "c0340010",
   "metadata": {},
   "outputs": [],
   "source": [
    "ridge_ = RidgeRegression(learning_rate=0.0001, epochs=2000, alpha=0.01)"
   ]
  },
  {
   "cell_type": "code",
   "execution_count": 135,
   "id": "ab9882b8",
   "metadata": {},
   "outputs": [
    {
     "name": "stdout",
     "output_type": "stream",
     "text": [
      "Coef_: [544846.77460116 -58673.69441364  24999.71852553 139799.75715155\n",
      " -18203.63052638  38944.41170933  46082.93433247  19112.58569727\n",
      " 122496.09329472  61982.60737546 -79563.80190061   7234.24176052]\n"
     ]
    }
   ],
   "source": [
    "ridge_.fit(X_train, y_train)"
   ]
  },
  {
   "cell_type": "code",
   "execution_count": 136,
   "id": "c6244b20",
   "metadata": {},
   "outputs": [],
   "source": [
    "y_pred_ridge = ridge_.predict(X_test)"
   ]
  },
  {
   "cell_type": "code",
   "execution_count": 137,
   "id": "b8070943",
   "metadata": {},
   "outputs": [
    {
     "name": "stdout",
     "output_type": "stream",
     "text": [
      "R2 Score Ridge : -11.249429238938603\n",
      "MAE Ridge: 211814.5520354029\n",
      "RMAE Ridge: 460.2331496485264\n"
     ]
    }
   ],
   "source": [
    "r2_score_ridge = r2_score(y_pred_ridge, y_test)\n",
    "mae_ridge = mean_absolute_error(y_pred_ridge, y_test)\n",
    "rmae_ridge = np.sqrt(mae_ridge)\n",
    "print(f\"R2 Score Ridge : {r2_score_ridge}\")\n",
    "print(f\"MAE Ridge: {mae_ridge}\")\n",
    "print(f\"RMAE Ridge: {rmae_ridge}\")"
   ]
  },
  {
   "cell_type": "code",
   "execution_count": 138,
   "id": "eb30d26f",
   "metadata": {},
   "outputs": [],
   "source": [
    "from sklearn.ensemble import RandomForestClassifier\n",
    "\n",
    "forest_ = RandomForestClassifier()"
   ]
  },
  {
   "cell_type": "code",
   "execution_count": 139,
   "id": "f0a13189",
   "metadata": {},
   "outputs": [
    {
     "data": {
      "text/html": [
       "<style>#sk-container-id-1 {\n",
       "  /* Definition of color scheme common for light and dark mode */\n",
       "  --sklearn-color-text: black;\n",
       "  --sklearn-color-line: gray;\n",
       "  /* Definition of color scheme for unfitted estimators */\n",
       "  --sklearn-color-unfitted-level-0: #fff5e6;\n",
       "  --sklearn-color-unfitted-level-1: #f6e4d2;\n",
       "  --sklearn-color-unfitted-level-2: #ffe0b3;\n",
       "  --sklearn-color-unfitted-level-3: chocolate;\n",
       "  /* Definition of color scheme for fitted estimators */\n",
       "  --sklearn-color-fitted-level-0: #f0f8ff;\n",
       "  --sklearn-color-fitted-level-1: #d4ebff;\n",
       "  --sklearn-color-fitted-level-2: #b3dbfd;\n",
       "  --sklearn-color-fitted-level-3: cornflowerblue;\n",
       "\n",
       "  /* Specific color for light theme */\n",
       "  --sklearn-color-text-on-default-background: var(--sg-text-color, var(--theme-code-foreground, var(--jp-content-font-color1, black)));\n",
       "  --sklearn-color-background: var(--sg-background-color, var(--theme-background, var(--jp-layout-color0, white)));\n",
       "  --sklearn-color-border-box: var(--sg-text-color, var(--theme-code-foreground, var(--jp-content-font-color1, black)));\n",
       "  --sklearn-color-icon: #696969;\n",
       "\n",
       "  @media (prefers-color-scheme: dark) {\n",
       "    /* Redefinition of color scheme for dark theme */\n",
       "    --sklearn-color-text-on-default-background: var(--sg-text-color, var(--theme-code-foreground, var(--jp-content-font-color1, white)));\n",
       "    --sklearn-color-background: var(--sg-background-color, var(--theme-background, var(--jp-layout-color0, #111)));\n",
       "    --sklearn-color-border-box: var(--sg-text-color, var(--theme-code-foreground, var(--jp-content-font-color1, white)));\n",
       "    --sklearn-color-icon: #878787;\n",
       "  }\n",
       "}\n",
       "\n",
       "#sk-container-id-1 {\n",
       "  color: var(--sklearn-color-text);\n",
       "}\n",
       "\n",
       "#sk-container-id-1 pre {\n",
       "  padding: 0;\n",
       "}\n",
       "\n",
       "#sk-container-id-1 input.sk-hidden--visually {\n",
       "  border: 0;\n",
       "  clip: rect(1px 1px 1px 1px);\n",
       "  clip: rect(1px, 1px, 1px, 1px);\n",
       "  height: 1px;\n",
       "  margin: -1px;\n",
       "  overflow: hidden;\n",
       "  padding: 0;\n",
       "  position: absolute;\n",
       "  width: 1px;\n",
       "}\n",
       "\n",
       "#sk-container-id-1 div.sk-dashed-wrapped {\n",
       "  border: 1px dashed var(--sklearn-color-line);\n",
       "  margin: 0 0.4em 0.5em 0.4em;\n",
       "  box-sizing: border-box;\n",
       "  padding-bottom: 0.4em;\n",
       "  background-color: var(--sklearn-color-background);\n",
       "}\n",
       "\n",
       "#sk-container-id-1 div.sk-container {\n",
       "  /* jupyter's `normalize.less` sets `[hidden] { display: none; }`\n",
       "     but bootstrap.min.css set `[hidden] { display: none !important; }`\n",
       "     so we also need the `!important` here to be able to override the\n",
       "     default hidden behavior on the sphinx rendered scikit-learn.org.\n",
       "     See: https://github.com/scikit-learn/scikit-learn/issues/21755 */\n",
       "  display: inline-block !important;\n",
       "  position: relative;\n",
       "}\n",
       "\n",
       "#sk-container-id-1 div.sk-text-repr-fallback {\n",
       "  display: none;\n",
       "}\n",
       "\n",
       "div.sk-parallel-item,\n",
       "div.sk-serial,\n",
       "div.sk-item {\n",
       "  /* draw centered vertical line to link estimators */\n",
       "  background-image: linear-gradient(var(--sklearn-color-text-on-default-background), var(--sklearn-color-text-on-default-background));\n",
       "  background-size: 2px 100%;\n",
       "  background-repeat: no-repeat;\n",
       "  background-position: center center;\n",
       "}\n",
       "\n",
       "/* Parallel-specific style estimator block */\n",
       "\n",
       "#sk-container-id-1 div.sk-parallel-item::after {\n",
       "  content: \"\";\n",
       "  width: 100%;\n",
       "  border-bottom: 2px solid var(--sklearn-color-text-on-default-background);\n",
       "  flex-grow: 1;\n",
       "}\n",
       "\n",
       "#sk-container-id-1 div.sk-parallel {\n",
       "  display: flex;\n",
       "  align-items: stretch;\n",
       "  justify-content: center;\n",
       "  background-color: var(--sklearn-color-background);\n",
       "  position: relative;\n",
       "}\n",
       "\n",
       "#sk-container-id-1 div.sk-parallel-item {\n",
       "  display: flex;\n",
       "  flex-direction: column;\n",
       "}\n",
       "\n",
       "#sk-container-id-1 div.sk-parallel-item:first-child::after {\n",
       "  align-self: flex-end;\n",
       "  width: 50%;\n",
       "}\n",
       "\n",
       "#sk-container-id-1 div.sk-parallel-item:last-child::after {\n",
       "  align-self: flex-start;\n",
       "  width: 50%;\n",
       "}\n",
       "\n",
       "#sk-container-id-1 div.sk-parallel-item:only-child::after {\n",
       "  width: 0;\n",
       "}\n",
       "\n",
       "/* Serial-specific style estimator block */\n",
       "\n",
       "#sk-container-id-1 div.sk-serial {\n",
       "  display: flex;\n",
       "  flex-direction: column;\n",
       "  align-items: center;\n",
       "  background-color: var(--sklearn-color-background);\n",
       "  padding-right: 1em;\n",
       "  padding-left: 1em;\n",
       "}\n",
       "\n",
       "\n",
       "/* Toggleable style: style used for estimator/Pipeline/ColumnTransformer box that is\n",
       "clickable and can be expanded/collapsed.\n",
       "- Pipeline and ColumnTransformer use this feature and define the default style\n",
       "- Estimators will overwrite some part of the style using the `sk-estimator` class\n",
       "*/\n",
       "\n",
       "/* Pipeline and ColumnTransformer style (default) */\n",
       "\n",
       "#sk-container-id-1 div.sk-toggleable {\n",
       "  /* Default theme specific background. It is overwritten whether we have a\n",
       "  specific estimator or a Pipeline/ColumnTransformer */\n",
       "  background-color: var(--sklearn-color-background);\n",
       "}\n",
       "\n",
       "/* Toggleable label */\n",
       "#sk-container-id-1 label.sk-toggleable__label {\n",
       "  cursor: pointer;\n",
       "  display: block;\n",
       "  width: 100%;\n",
       "  margin-bottom: 0;\n",
       "  padding: 0.5em;\n",
       "  box-sizing: border-box;\n",
       "  text-align: center;\n",
       "}\n",
       "\n",
       "#sk-container-id-1 label.sk-toggleable__label-arrow:before {\n",
       "  /* Arrow on the left of the label */\n",
       "  content: \"▸\";\n",
       "  float: left;\n",
       "  margin-right: 0.25em;\n",
       "  color: var(--sklearn-color-icon);\n",
       "}\n",
       "\n",
       "#sk-container-id-1 label.sk-toggleable__label-arrow:hover:before {\n",
       "  color: var(--sklearn-color-text);\n",
       "}\n",
       "\n",
       "/* Toggleable content - dropdown */\n",
       "\n",
       "#sk-container-id-1 div.sk-toggleable__content {\n",
       "  max-height: 0;\n",
       "  max-width: 0;\n",
       "  overflow: hidden;\n",
       "  text-align: left;\n",
       "  /* unfitted */\n",
       "  background-color: var(--sklearn-color-unfitted-level-0);\n",
       "}\n",
       "\n",
       "#sk-container-id-1 div.sk-toggleable__content.fitted {\n",
       "  /* fitted */\n",
       "  background-color: var(--sklearn-color-fitted-level-0);\n",
       "}\n",
       "\n",
       "#sk-container-id-1 div.sk-toggleable__content pre {\n",
       "  margin: 0.2em;\n",
       "  border-radius: 0.25em;\n",
       "  color: var(--sklearn-color-text);\n",
       "  /* unfitted */\n",
       "  background-color: var(--sklearn-color-unfitted-level-0);\n",
       "}\n",
       "\n",
       "#sk-container-id-1 div.sk-toggleable__content.fitted pre {\n",
       "  /* unfitted */\n",
       "  background-color: var(--sklearn-color-fitted-level-0);\n",
       "}\n",
       "\n",
       "#sk-container-id-1 input.sk-toggleable__control:checked~div.sk-toggleable__content {\n",
       "  /* Expand drop-down */\n",
       "  max-height: 200px;\n",
       "  max-width: 100%;\n",
       "  overflow: auto;\n",
       "}\n",
       "\n",
       "#sk-container-id-1 input.sk-toggleable__control:checked~label.sk-toggleable__label-arrow:before {\n",
       "  content: \"▾\";\n",
       "}\n",
       "\n",
       "/* Pipeline/ColumnTransformer-specific style */\n",
       "\n",
       "#sk-container-id-1 div.sk-label input.sk-toggleable__control:checked~label.sk-toggleable__label {\n",
       "  color: var(--sklearn-color-text);\n",
       "  background-color: var(--sklearn-color-unfitted-level-2);\n",
       "}\n",
       "\n",
       "#sk-container-id-1 div.sk-label.fitted input.sk-toggleable__control:checked~label.sk-toggleable__label {\n",
       "  background-color: var(--sklearn-color-fitted-level-2);\n",
       "}\n",
       "\n",
       "/* Estimator-specific style */\n",
       "\n",
       "/* Colorize estimator box */\n",
       "#sk-container-id-1 div.sk-estimator input.sk-toggleable__control:checked~label.sk-toggleable__label {\n",
       "  /* unfitted */\n",
       "  background-color: var(--sklearn-color-unfitted-level-2);\n",
       "}\n",
       "\n",
       "#sk-container-id-1 div.sk-estimator.fitted input.sk-toggleable__control:checked~label.sk-toggleable__label {\n",
       "  /* fitted */\n",
       "  background-color: var(--sklearn-color-fitted-level-2);\n",
       "}\n",
       "\n",
       "#sk-container-id-1 div.sk-label label.sk-toggleable__label,\n",
       "#sk-container-id-1 div.sk-label label {\n",
       "  /* The background is the default theme color */\n",
       "  color: var(--sklearn-color-text-on-default-background);\n",
       "}\n",
       "\n",
       "/* On hover, darken the color of the background */\n",
       "#sk-container-id-1 div.sk-label:hover label.sk-toggleable__label {\n",
       "  color: var(--sklearn-color-text);\n",
       "  background-color: var(--sklearn-color-unfitted-level-2);\n",
       "}\n",
       "\n",
       "/* Label box, darken color on hover, fitted */\n",
       "#sk-container-id-1 div.sk-label.fitted:hover label.sk-toggleable__label.fitted {\n",
       "  color: var(--sklearn-color-text);\n",
       "  background-color: var(--sklearn-color-fitted-level-2);\n",
       "}\n",
       "\n",
       "/* Estimator label */\n",
       "\n",
       "#sk-container-id-1 div.sk-label label {\n",
       "  font-family: monospace;\n",
       "  font-weight: bold;\n",
       "  display: inline-block;\n",
       "  line-height: 1.2em;\n",
       "}\n",
       "\n",
       "#sk-container-id-1 div.sk-label-container {\n",
       "  text-align: center;\n",
       "}\n",
       "\n",
       "/* Estimator-specific */\n",
       "#sk-container-id-1 div.sk-estimator {\n",
       "  font-family: monospace;\n",
       "  border: 1px dotted var(--sklearn-color-border-box);\n",
       "  border-radius: 0.25em;\n",
       "  box-sizing: border-box;\n",
       "  margin-bottom: 0.5em;\n",
       "  /* unfitted */\n",
       "  background-color: var(--sklearn-color-unfitted-level-0);\n",
       "}\n",
       "\n",
       "#sk-container-id-1 div.sk-estimator.fitted {\n",
       "  /* fitted */\n",
       "  background-color: var(--sklearn-color-fitted-level-0);\n",
       "}\n",
       "\n",
       "/* on hover */\n",
       "#sk-container-id-1 div.sk-estimator:hover {\n",
       "  /* unfitted */\n",
       "  background-color: var(--sklearn-color-unfitted-level-2);\n",
       "}\n",
       "\n",
       "#sk-container-id-1 div.sk-estimator.fitted:hover {\n",
       "  /* fitted */\n",
       "  background-color: var(--sklearn-color-fitted-level-2);\n",
       "}\n",
       "\n",
       "/* Specification for estimator info (e.g. \"i\" and \"?\") */\n",
       "\n",
       "/* Common style for \"i\" and \"?\" */\n",
       "\n",
       ".sk-estimator-doc-link,\n",
       "a:link.sk-estimator-doc-link,\n",
       "a:visited.sk-estimator-doc-link {\n",
       "  float: right;\n",
       "  font-size: smaller;\n",
       "  line-height: 1em;\n",
       "  font-family: monospace;\n",
       "  background-color: var(--sklearn-color-background);\n",
       "  border-radius: 1em;\n",
       "  height: 1em;\n",
       "  width: 1em;\n",
       "  text-decoration: none !important;\n",
       "  margin-left: 1ex;\n",
       "  /* unfitted */\n",
       "  border: var(--sklearn-color-unfitted-level-1) 1pt solid;\n",
       "  color: var(--sklearn-color-unfitted-level-1);\n",
       "}\n",
       "\n",
       ".sk-estimator-doc-link.fitted,\n",
       "a:link.sk-estimator-doc-link.fitted,\n",
       "a:visited.sk-estimator-doc-link.fitted {\n",
       "  /* fitted */\n",
       "  border: var(--sklearn-color-fitted-level-1) 1pt solid;\n",
       "  color: var(--sklearn-color-fitted-level-1);\n",
       "}\n",
       "\n",
       "/* On hover */\n",
       "div.sk-estimator:hover .sk-estimator-doc-link:hover,\n",
       ".sk-estimator-doc-link:hover,\n",
       "div.sk-label-container:hover .sk-estimator-doc-link:hover,\n",
       ".sk-estimator-doc-link:hover {\n",
       "  /* unfitted */\n",
       "  background-color: var(--sklearn-color-unfitted-level-3);\n",
       "  color: var(--sklearn-color-background);\n",
       "  text-decoration: none;\n",
       "}\n",
       "\n",
       "div.sk-estimator.fitted:hover .sk-estimator-doc-link.fitted:hover,\n",
       ".sk-estimator-doc-link.fitted:hover,\n",
       "div.sk-label-container:hover .sk-estimator-doc-link.fitted:hover,\n",
       ".sk-estimator-doc-link.fitted:hover {\n",
       "  /* fitted */\n",
       "  background-color: var(--sklearn-color-fitted-level-3);\n",
       "  color: var(--sklearn-color-background);\n",
       "  text-decoration: none;\n",
       "}\n",
       "\n",
       "/* Span, style for the box shown on hovering the info icon */\n",
       ".sk-estimator-doc-link span {\n",
       "  display: none;\n",
       "  z-index: 9999;\n",
       "  position: relative;\n",
       "  font-weight: normal;\n",
       "  right: .2ex;\n",
       "  padding: .5ex;\n",
       "  margin: .5ex;\n",
       "  width: min-content;\n",
       "  min-width: 20ex;\n",
       "  max-width: 50ex;\n",
       "  color: var(--sklearn-color-text);\n",
       "  box-shadow: 2pt 2pt 4pt #999;\n",
       "  /* unfitted */\n",
       "  background: var(--sklearn-color-unfitted-level-0);\n",
       "  border: .5pt solid var(--sklearn-color-unfitted-level-3);\n",
       "}\n",
       "\n",
       ".sk-estimator-doc-link.fitted span {\n",
       "  /* fitted */\n",
       "  background: var(--sklearn-color-fitted-level-0);\n",
       "  border: var(--sklearn-color-fitted-level-3);\n",
       "}\n",
       "\n",
       ".sk-estimator-doc-link:hover span {\n",
       "  display: block;\n",
       "}\n",
       "\n",
       "/* \"?\"-specific style due to the `<a>` HTML tag */\n",
       "\n",
       "#sk-container-id-1 a.estimator_doc_link {\n",
       "  float: right;\n",
       "  font-size: 1rem;\n",
       "  line-height: 1em;\n",
       "  font-family: monospace;\n",
       "  background-color: var(--sklearn-color-background);\n",
       "  border-radius: 1rem;\n",
       "  height: 1rem;\n",
       "  width: 1rem;\n",
       "  text-decoration: none;\n",
       "  /* unfitted */\n",
       "  color: var(--sklearn-color-unfitted-level-1);\n",
       "  border: var(--sklearn-color-unfitted-level-1) 1pt solid;\n",
       "}\n",
       "\n",
       "#sk-container-id-1 a.estimator_doc_link.fitted {\n",
       "  /* fitted */\n",
       "  border: var(--sklearn-color-fitted-level-1) 1pt solid;\n",
       "  color: var(--sklearn-color-fitted-level-1);\n",
       "}\n",
       "\n",
       "/* On hover */\n",
       "#sk-container-id-1 a.estimator_doc_link:hover {\n",
       "  /* unfitted */\n",
       "  background-color: var(--sklearn-color-unfitted-level-3);\n",
       "  color: var(--sklearn-color-background);\n",
       "  text-decoration: none;\n",
       "}\n",
       "\n",
       "#sk-container-id-1 a.estimator_doc_link.fitted:hover {\n",
       "  /* fitted */\n",
       "  background-color: var(--sklearn-color-fitted-level-3);\n",
       "}\n",
       "</style><div id=\"sk-container-id-1\" class=\"sk-top-container\"><div class=\"sk-text-repr-fallback\"><pre>RandomForestClassifier()</pre><b>In a Jupyter environment, please rerun this cell to show the HTML representation or trust the notebook. <br />On GitHub, the HTML representation is unable to render, please try loading this page with nbviewer.org.</b></div><div class=\"sk-container\" hidden><div class=\"sk-item\"><div class=\"sk-estimator fitted sk-toggleable\"><input class=\"sk-toggleable__control sk-hidden--visually\" id=\"sk-estimator-id-1\" type=\"checkbox\" checked><label for=\"sk-estimator-id-1\" class=\"sk-toggleable__label fitted sk-toggleable__label-arrow fitted\">&nbsp;&nbsp;RandomForestClassifier<a class=\"sk-estimator-doc-link fitted\" rel=\"noreferrer\" target=\"_blank\" href=\"https://scikit-learn.org/1.5/modules/generated/sklearn.ensemble.RandomForestClassifier.html\">?<span>Documentation for RandomForestClassifier</span></a><span class=\"sk-estimator-doc-link fitted\">i<span>Fitted</span></span></label><div class=\"sk-toggleable__content fitted\"><pre>RandomForestClassifier()</pre></div> </div></div></div></div>"
      ],
      "text/plain": [
       "RandomForestClassifier()"
      ]
     },
     "execution_count": 139,
     "metadata": {},
     "output_type": "execute_result"
    }
   ],
   "source": [
    "forest_.fit(X_train, y_train)"
   ]
  },
  {
   "cell_type": "code",
   "execution_count": 140,
   "id": "25775b2a",
   "metadata": {},
   "outputs": [],
   "source": [
    "y_pred_forest = forest_.predict(X_test)"
   ]
  },
  {
   "cell_type": "code",
   "execution_count": 141,
   "id": "0ddae6cf",
   "metadata": {},
   "outputs": [
    {
     "name": "stdout",
     "output_type": "stream",
     "text": [
      "R2 Score Forest: -9.155991619819284\n",
      "MAE Forest: 247409.46630434782\n",
      "RMAE Forest: 497.4027204432519\n"
     ]
    }
   ],
   "source": [
    "r2_score_forest = r2_score(y_pred_forest, y_test)\n",
    "mae_forest = mean_absolute_error(y_pred_forest, y_test)\n",
    "rmae_forest = np.sqrt(mae_forest)\n",
    "print(f\"R2 Score Forest: {r2_score_forest}\")\n",
    "print(f\"MAE Forest: {mae_forest}\")\n",
    "print(f\"RMAE Forest: {rmae_forest}\")"
   ]
  },
  {
   "cell_type": "code",
   "execution_count": 142,
   "id": "4affbc90",
   "metadata": {},
   "outputs": [
    {
     "data": {
      "text/plain": [
       "['multiple_linear_regression.pkl']"
      ]
     },
     "execution_count": 142,
     "metadata": {},
     "output_type": "execute_result"
    }
   ],
   "source": [
    "import joblib\n",
    "\n",
    "joblib.dump(mlr_, \"multiple_linear_regression.pkl\")"
   ]
  },
  {
   "cell_type": "code",
   "execution_count": null,
   "id": "3a5b4ddb",
   "metadata": {},
   "outputs": [],
   "source": []
  }
 ],
 "metadata": {
  "kernelspec": {
   "display_name": "machinelearning",
   "language": "python",
   "name": "python3"
  },
  "language_info": {
   "codemirror_mode": {
    "name": "ipython",
    "version": 3
   },
   "file_extension": ".py",
   "mimetype": "text/x-python",
   "name": "python",
   "nbconvert_exporter": "python",
   "pygments_lexer": "ipython3",
   "version": "3.12.3"
  }
 },
 "nbformat": 4,
 "nbformat_minor": 5
}
