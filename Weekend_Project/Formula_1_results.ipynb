{
 "cells": [
  {
   "cell_type": "markdown",
   "id": "3c6856df",
   "metadata": {},
   "source": [
    "### Exploratory Data Analysis Portfolio Project\n",
    "\n",
    "- To qualify this Project you must meet following criteria\n",
    "    - 10 charts (minimum)\n",
    "    - 1 to 3 charts must be interactive\n",
    "    - What you see in that chart? Results\n",
    "    - Data Preprocessing \n",
    "        - Missing values\n",
    "        - duplicates values \n",
    "        - Outliers - (identify the outliers)\n",
    "        - Handle outliers "
   ]
  },
  {
   "cell_type": "code",
   "execution_count": 1,
   "id": "7da6d0b4",
   "metadata": {},
   "outputs": [],
   "source": [
    "import pandas as pd\n",
    "import numpy as np\n",
    "import matplotlib.pyplot as plt\n",
    "import seaborn as sns"
   ]
  },
  {
   "cell_type": "code",
   "execution_count": 2,
   "id": "a5db684f",
   "metadata": {},
   "outputs": [],
   "source": [
    "df = pd.read_csv(\"/home/inventor/Datasets/Formula 1/formula_1/results.csv\")"
   ]
  },
  {
   "cell_type": "code",
   "execution_count": 3,
   "id": "30e05709",
   "metadata": {},
   "outputs": [
    {
     "data": {
      "application/vnd.microsoft.datawrangler.viewer.v0+json": {
       "columns": [
        {
         "name": "index",
         "rawType": "int64",
         "type": "integer"
        },
        {
         "name": "resultId",
         "rawType": "int64",
         "type": "integer"
        },
        {
         "name": "raceId",
         "rawType": "int64",
         "type": "integer"
        },
        {
         "name": "driverId",
         "rawType": "int64",
         "type": "integer"
        },
        {
         "name": "constructorId",
         "rawType": "int64",
         "type": "integer"
        },
        {
         "name": "number",
         "rawType": "object",
         "type": "string"
        },
        {
         "name": "grid",
         "rawType": "int64",
         "type": "integer"
        },
        {
         "name": "position",
         "rawType": "object",
         "type": "string"
        },
        {
         "name": "positionText",
         "rawType": "object",
         "type": "string"
        },
        {
         "name": "positionOrder",
         "rawType": "int64",
         "type": "integer"
        },
        {
         "name": "points",
         "rawType": "float64",
         "type": "float"
        },
        {
         "name": "laps",
         "rawType": "int64",
         "type": "integer"
        },
        {
         "name": "time",
         "rawType": "object",
         "type": "string"
        },
        {
         "name": "milliseconds",
         "rawType": "object",
         "type": "string"
        },
        {
         "name": "fastestLap",
         "rawType": "object",
         "type": "string"
        },
        {
         "name": "rank",
         "rawType": "object",
         "type": "string"
        },
        {
         "name": "fastestLapTime",
         "rawType": "object",
         "type": "string"
        },
        {
         "name": "fastestLapSpeed",
         "rawType": "object",
         "type": "string"
        },
        {
         "name": "statusId",
         "rawType": "int64",
         "type": "integer"
        }
       ],
       "ref": "fdfbfe88-843c-4e8c-b1a7-c04a1726edff",
       "rows": [
        [
         "0",
         "1",
         "18",
         "1",
         "1",
         "22",
         "1",
         "1",
         "1",
         "1",
         "10.0",
         "58",
         "1:34:50.616",
         "5690616",
         "39",
         "2",
         "1:27.452",
         "218.300",
         "1"
        ],
        [
         "1",
         "2",
         "18",
         "2",
         "2",
         "3",
         "5",
         "2",
         "2",
         "2",
         "8.0",
         "58",
         "+5.478",
         "5696094",
         "41",
         "3",
         "1:27.739",
         "217.586",
         "1"
        ],
        [
         "2",
         "3",
         "18",
         "3",
         "3",
         "7",
         "7",
         "3",
         "3",
         "3",
         "6.0",
         "58",
         "+8.163",
         "5698779",
         "41",
         "5",
         "1:28.090",
         "216.719",
         "1"
        ],
        [
         "3",
         "4",
         "18",
         "4",
         "4",
         "5",
         "11",
         "4",
         "4",
         "4",
         "5.0",
         "58",
         "+17.181",
         "5707797",
         "58",
         "7",
         "1:28.603",
         "215.464",
         "1"
        ],
        [
         "4",
         "5",
         "18",
         "5",
         "1",
         "23",
         "3",
         "5",
         "5",
         "5",
         "4.0",
         "58",
         "+18.014",
         "5708630",
         "43",
         "1",
         "1:27.418",
         "218.385",
         "1"
        ]
       ],
       "shape": {
        "columns": 18,
        "rows": 5
       }
      },
      "text/html": [
       "<div>\n",
       "<style scoped>\n",
       "    .dataframe tbody tr th:only-of-type {\n",
       "        vertical-align: middle;\n",
       "    }\n",
       "\n",
       "    .dataframe tbody tr th {\n",
       "        vertical-align: top;\n",
       "    }\n",
       "\n",
       "    .dataframe thead th {\n",
       "        text-align: right;\n",
       "    }\n",
       "</style>\n",
       "<table border=\"1\" class=\"dataframe\">\n",
       "  <thead>\n",
       "    <tr style=\"text-align: right;\">\n",
       "      <th></th>\n",
       "      <th>resultId</th>\n",
       "      <th>raceId</th>\n",
       "      <th>driverId</th>\n",
       "      <th>constructorId</th>\n",
       "      <th>number</th>\n",
       "      <th>grid</th>\n",
       "      <th>position</th>\n",
       "      <th>positionText</th>\n",
       "      <th>positionOrder</th>\n",
       "      <th>points</th>\n",
       "      <th>laps</th>\n",
       "      <th>time</th>\n",
       "      <th>milliseconds</th>\n",
       "      <th>fastestLap</th>\n",
       "      <th>rank</th>\n",
       "      <th>fastestLapTime</th>\n",
       "      <th>fastestLapSpeed</th>\n",
       "      <th>statusId</th>\n",
       "    </tr>\n",
       "  </thead>\n",
       "  <tbody>\n",
       "    <tr>\n",
       "      <th>0</th>\n",
       "      <td>1</td>\n",
       "      <td>18</td>\n",
       "      <td>1</td>\n",
       "      <td>1</td>\n",
       "      <td>22</td>\n",
       "      <td>1</td>\n",
       "      <td>1</td>\n",
       "      <td>1</td>\n",
       "      <td>1</td>\n",
       "      <td>10.0</td>\n",
       "      <td>58</td>\n",
       "      <td>1:34:50.616</td>\n",
       "      <td>5690616</td>\n",
       "      <td>39</td>\n",
       "      <td>2</td>\n",
       "      <td>1:27.452</td>\n",
       "      <td>218.300</td>\n",
       "      <td>1</td>\n",
       "    </tr>\n",
       "    <tr>\n",
       "      <th>1</th>\n",
       "      <td>2</td>\n",
       "      <td>18</td>\n",
       "      <td>2</td>\n",
       "      <td>2</td>\n",
       "      <td>3</td>\n",
       "      <td>5</td>\n",
       "      <td>2</td>\n",
       "      <td>2</td>\n",
       "      <td>2</td>\n",
       "      <td>8.0</td>\n",
       "      <td>58</td>\n",
       "      <td>+5.478</td>\n",
       "      <td>5696094</td>\n",
       "      <td>41</td>\n",
       "      <td>3</td>\n",
       "      <td>1:27.739</td>\n",
       "      <td>217.586</td>\n",
       "      <td>1</td>\n",
       "    </tr>\n",
       "    <tr>\n",
       "      <th>2</th>\n",
       "      <td>3</td>\n",
       "      <td>18</td>\n",
       "      <td>3</td>\n",
       "      <td>3</td>\n",
       "      <td>7</td>\n",
       "      <td>7</td>\n",
       "      <td>3</td>\n",
       "      <td>3</td>\n",
       "      <td>3</td>\n",
       "      <td>6.0</td>\n",
       "      <td>58</td>\n",
       "      <td>+8.163</td>\n",
       "      <td>5698779</td>\n",
       "      <td>41</td>\n",
       "      <td>5</td>\n",
       "      <td>1:28.090</td>\n",
       "      <td>216.719</td>\n",
       "      <td>1</td>\n",
       "    </tr>\n",
       "    <tr>\n",
       "      <th>3</th>\n",
       "      <td>4</td>\n",
       "      <td>18</td>\n",
       "      <td>4</td>\n",
       "      <td>4</td>\n",
       "      <td>5</td>\n",
       "      <td>11</td>\n",
       "      <td>4</td>\n",
       "      <td>4</td>\n",
       "      <td>4</td>\n",
       "      <td>5.0</td>\n",
       "      <td>58</td>\n",
       "      <td>+17.181</td>\n",
       "      <td>5707797</td>\n",
       "      <td>58</td>\n",
       "      <td>7</td>\n",
       "      <td>1:28.603</td>\n",
       "      <td>215.464</td>\n",
       "      <td>1</td>\n",
       "    </tr>\n",
       "    <tr>\n",
       "      <th>4</th>\n",
       "      <td>5</td>\n",
       "      <td>18</td>\n",
       "      <td>5</td>\n",
       "      <td>1</td>\n",
       "      <td>23</td>\n",
       "      <td>3</td>\n",
       "      <td>5</td>\n",
       "      <td>5</td>\n",
       "      <td>5</td>\n",
       "      <td>4.0</td>\n",
       "      <td>58</td>\n",
       "      <td>+18.014</td>\n",
       "      <td>5708630</td>\n",
       "      <td>43</td>\n",
       "      <td>1</td>\n",
       "      <td>1:27.418</td>\n",
       "      <td>218.385</td>\n",
       "      <td>1</td>\n",
       "    </tr>\n",
       "  </tbody>\n",
       "</table>\n",
       "</div>"
      ],
      "text/plain": [
       "   resultId  raceId  driverId  constructorId number  grid position  \\\n",
       "0         1      18         1              1     22     1        1   \n",
       "1         2      18         2              2      3     5        2   \n",
       "2         3      18         3              3      7     7        3   \n",
       "3         4      18         4              4      5    11        4   \n",
       "4         5      18         5              1     23     3        5   \n",
       "\n",
       "  positionText  positionOrder  points  laps         time milliseconds  \\\n",
       "0            1              1    10.0    58  1:34:50.616      5690616   \n",
       "1            2              2     8.0    58       +5.478      5696094   \n",
       "2            3              3     6.0    58       +8.163      5698779   \n",
       "3            4              4     5.0    58      +17.181      5707797   \n",
       "4            5              5     4.0    58      +18.014      5708630   \n",
       "\n",
       "  fastestLap rank fastestLapTime fastestLapSpeed  statusId  \n",
       "0         39    2       1:27.452         218.300         1  \n",
       "1         41    3       1:27.739         217.586         1  \n",
       "2         41    5       1:28.090         216.719         1  \n",
       "3         58    7       1:28.603         215.464         1  \n",
       "4         43    1       1:27.418         218.385         1  "
      ]
     },
     "execution_count": 3,
     "metadata": {},
     "output_type": "execute_result"
    }
   ],
   "source": [
    "df.head()"
   ]
  },
  {
   "cell_type": "code",
   "execution_count": 4,
   "id": "cf2c1746",
   "metadata": {},
   "outputs": [
    {
     "data": {
      "text/plain": [
       "(26759, 18)"
      ]
     },
     "execution_count": 4,
     "metadata": {},
     "output_type": "execute_result"
    }
   ],
   "source": [
    "df.shape"
   ]
  },
  {
   "cell_type": "code",
   "execution_count": 5,
   "id": "4613c3b2",
   "metadata": {},
   "outputs": [
    {
     "name": "stdout",
     "output_type": "stream",
     "text": [
      "<class 'pandas.core.frame.DataFrame'>\n",
      "RangeIndex: 26759 entries, 0 to 26758\n",
      "Data columns (total 18 columns):\n",
      " #   Column           Non-Null Count  Dtype  \n",
      "---  ------           --------------  -----  \n",
      " 0   resultId         26759 non-null  int64  \n",
      " 1   raceId           26759 non-null  int64  \n",
      " 2   driverId         26759 non-null  int64  \n",
      " 3   constructorId    26759 non-null  int64  \n",
      " 4   number           26759 non-null  object \n",
      " 5   grid             26759 non-null  int64  \n",
      " 6   position         26759 non-null  object \n",
      " 7   positionText     26759 non-null  object \n",
      " 8   positionOrder    26759 non-null  int64  \n",
      " 9   points           26759 non-null  float64\n",
      " 10  laps             26759 non-null  int64  \n",
      " 11  time             26759 non-null  object \n",
      " 12  milliseconds     26759 non-null  object \n",
      " 13  fastestLap       26759 non-null  object \n",
      " 14  rank             26759 non-null  object \n",
      " 15  fastestLapTime   26759 non-null  object \n",
      " 16  fastestLapSpeed  26759 non-null  object \n",
      " 17  statusId         26759 non-null  int64  \n",
      "dtypes: float64(1), int64(8), object(9)\n",
      "memory usage: 3.7+ MB\n"
     ]
    }
   ],
   "source": [
    "# Information about the dataset\n",
    "df.info()"
   ]
  },
  {
   "cell_type": "code",
   "execution_count": 6,
   "id": "12d1e0cb",
   "metadata": {},
   "outputs": [
    {
     "data": {
      "application/vnd.microsoft.datawrangler.viewer.v0+json": {
       "columns": [
        {
         "name": "index",
         "rawType": "object",
         "type": "string"
        },
        {
         "name": "resultId",
         "rawType": "float64",
         "type": "float"
        },
        {
         "name": "raceId",
         "rawType": "float64",
         "type": "float"
        },
        {
         "name": "driverId",
         "rawType": "float64",
         "type": "float"
        },
        {
         "name": "constructorId",
         "rawType": "float64",
         "type": "float"
        },
        {
         "name": "grid",
         "rawType": "float64",
         "type": "float"
        },
        {
         "name": "positionOrder",
         "rawType": "float64",
         "type": "float"
        },
        {
         "name": "points",
         "rawType": "float64",
         "type": "float"
        },
        {
         "name": "laps",
         "rawType": "float64",
         "type": "float"
        },
        {
         "name": "statusId",
         "rawType": "float64",
         "type": "float"
        }
       ],
       "ref": "df14f58d-6c5b-42c2-9223-645dbfce7534",
       "rows": [
        [
         "count",
         "26759.0",
         "26759.0",
         "26759.0",
         "26759.0",
         "26759.0",
         "26759.0",
         "26759.0",
         "26759.0",
         "26759.0"
        ],
        [
         "mean",
         "13380.977390784408",
         "551.6872827833627",
         "278.6735304009866",
         "50.18053738928958",
         "11.134795769647596",
         "12.794050599798199",
         "1.9876321985126502",
         "46.30176762958257",
         "17.224971037781682"
        ],
        [
         "std",
         "7726.134641858303",
         "313.2650358778931",
         "282.7030394590417",
         "61.551498118988484",
         "7.202859614279887",
         "7.665950638690447",
         "4.351208910645774",
         "29.496556967717673",
         "26.026103940899368"
        ],
        [
         "min",
         "1.0",
         "1.0",
         "1.0",
         "1.0",
         "0.0",
         "1.0",
         "0.0",
         "0.0",
         "1.0"
        ],
        [
         "25%",
         "6690.5",
         "300.0",
         "57.0",
         "6.0",
         "5.0",
         "6.0",
         "0.0",
         "23.0",
         "1.0"
        ],
        [
         "50%",
         "13380.0",
         "531.0",
         "172.0",
         "25.0",
         "11.0",
         "12.0",
         "0.0",
         "53.0",
         "10.0"
        ],
        [
         "75%",
         "20069.5",
         "811.0",
         "399.5",
         "63.0",
         "17.0",
         "18.0",
         "2.0",
         "66.0",
         "14.0"
        ],
        [
         "max",
         "26764.0",
         "1144.0",
         "862.0",
         "215.0",
         "34.0",
         "39.0",
         "50.0",
         "200.0",
         "141.0"
        ]
       ],
       "shape": {
        "columns": 9,
        "rows": 8
       }
      },
      "text/html": [
       "<div>\n",
       "<style scoped>\n",
       "    .dataframe tbody tr th:only-of-type {\n",
       "        vertical-align: middle;\n",
       "    }\n",
       "\n",
       "    .dataframe tbody tr th {\n",
       "        vertical-align: top;\n",
       "    }\n",
       "\n",
       "    .dataframe thead th {\n",
       "        text-align: right;\n",
       "    }\n",
       "</style>\n",
       "<table border=\"1\" class=\"dataframe\">\n",
       "  <thead>\n",
       "    <tr style=\"text-align: right;\">\n",
       "      <th></th>\n",
       "      <th>resultId</th>\n",
       "      <th>raceId</th>\n",
       "      <th>driverId</th>\n",
       "      <th>constructorId</th>\n",
       "      <th>grid</th>\n",
       "      <th>positionOrder</th>\n",
       "      <th>points</th>\n",
       "      <th>laps</th>\n",
       "      <th>statusId</th>\n",
       "    </tr>\n",
       "  </thead>\n",
       "  <tbody>\n",
       "    <tr>\n",
       "      <th>count</th>\n",
       "      <td>26759.000000</td>\n",
       "      <td>26759.000000</td>\n",
       "      <td>26759.000000</td>\n",
       "      <td>26759.000000</td>\n",
       "      <td>26759.000000</td>\n",
       "      <td>26759.000000</td>\n",
       "      <td>26759.000000</td>\n",
       "      <td>26759.000000</td>\n",
       "      <td>26759.000000</td>\n",
       "    </tr>\n",
       "    <tr>\n",
       "      <th>mean</th>\n",
       "      <td>13380.977391</td>\n",
       "      <td>551.687283</td>\n",
       "      <td>278.673530</td>\n",
       "      <td>50.180537</td>\n",
       "      <td>11.134796</td>\n",
       "      <td>12.794051</td>\n",
       "      <td>1.987632</td>\n",
       "      <td>46.301768</td>\n",
       "      <td>17.224971</td>\n",
       "    </tr>\n",
       "    <tr>\n",
       "      <th>std</th>\n",
       "      <td>7726.134642</td>\n",
       "      <td>313.265036</td>\n",
       "      <td>282.703039</td>\n",
       "      <td>61.551498</td>\n",
       "      <td>7.202860</td>\n",
       "      <td>7.665951</td>\n",
       "      <td>4.351209</td>\n",
       "      <td>29.496557</td>\n",
       "      <td>26.026104</td>\n",
       "    </tr>\n",
       "    <tr>\n",
       "      <th>min</th>\n",
       "      <td>1.000000</td>\n",
       "      <td>1.000000</td>\n",
       "      <td>1.000000</td>\n",
       "      <td>1.000000</td>\n",
       "      <td>0.000000</td>\n",
       "      <td>1.000000</td>\n",
       "      <td>0.000000</td>\n",
       "      <td>0.000000</td>\n",
       "      <td>1.000000</td>\n",
       "    </tr>\n",
       "    <tr>\n",
       "      <th>25%</th>\n",
       "      <td>6690.500000</td>\n",
       "      <td>300.000000</td>\n",
       "      <td>57.000000</td>\n",
       "      <td>6.000000</td>\n",
       "      <td>5.000000</td>\n",
       "      <td>6.000000</td>\n",
       "      <td>0.000000</td>\n",
       "      <td>23.000000</td>\n",
       "      <td>1.000000</td>\n",
       "    </tr>\n",
       "    <tr>\n",
       "      <th>50%</th>\n",
       "      <td>13380.000000</td>\n",
       "      <td>531.000000</td>\n",
       "      <td>172.000000</td>\n",
       "      <td>25.000000</td>\n",
       "      <td>11.000000</td>\n",
       "      <td>12.000000</td>\n",
       "      <td>0.000000</td>\n",
       "      <td>53.000000</td>\n",
       "      <td>10.000000</td>\n",
       "    </tr>\n",
       "    <tr>\n",
       "      <th>75%</th>\n",
       "      <td>20069.500000</td>\n",
       "      <td>811.000000</td>\n",
       "      <td>399.500000</td>\n",
       "      <td>63.000000</td>\n",
       "      <td>17.000000</td>\n",
       "      <td>18.000000</td>\n",
       "      <td>2.000000</td>\n",
       "      <td>66.000000</td>\n",
       "      <td>14.000000</td>\n",
       "    </tr>\n",
       "    <tr>\n",
       "      <th>max</th>\n",
       "      <td>26764.000000</td>\n",
       "      <td>1144.000000</td>\n",
       "      <td>862.000000</td>\n",
       "      <td>215.000000</td>\n",
       "      <td>34.000000</td>\n",
       "      <td>39.000000</td>\n",
       "      <td>50.000000</td>\n",
       "      <td>200.000000</td>\n",
       "      <td>141.000000</td>\n",
       "    </tr>\n",
       "  </tbody>\n",
       "</table>\n",
       "</div>"
      ],
      "text/plain": [
       "           resultId        raceId      driverId  constructorId          grid  \\\n",
       "count  26759.000000  26759.000000  26759.000000   26759.000000  26759.000000   \n",
       "mean   13380.977391    551.687283    278.673530      50.180537     11.134796   \n",
       "std     7726.134642    313.265036    282.703039      61.551498      7.202860   \n",
       "min        1.000000      1.000000      1.000000       1.000000      0.000000   \n",
       "25%     6690.500000    300.000000     57.000000       6.000000      5.000000   \n",
       "50%    13380.000000    531.000000    172.000000      25.000000     11.000000   \n",
       "75%    20069.500000    811.000000    399.500000      63.000000     17.000000   \n",
       "max    26764.000000   1144.000000    862.000000     215.000000     34.000000   \n",
       "\n",
       "       positionOrder        points          laps      statusId  \n",
       "count   26759.000000  26759.000000  26759.000000  26759.000000  \n",
       "mean       12.794051      1.987632     46.301768     17.224971  \n",
       "std         7.665951      4.351209     29.496557     26.026104  \n",
       "min         1.000000      0.000000      0.000000      1.000000  \n",
       "25%         6.000000      0.000000     23.000000      1.000000  \n",
       "50%        12.000000      0.000000     53.000000     10.000000  \n",
       "75%        18.000000      2.000000     66.000000     14.000000  \n",
       "max        39.000000     50.000000    200.000000    141.000000  "
      ]
     },
     "execution_count": 6,
     "metadata": {},
     "output_type": "execute_result"
    }
   ],
   "source": [
    "# Discription about the dataset\n",
    "df.describe()"
   ]
  },
  {
   "cell_type": "code",
   "execution_count": 7,
   "id": "1e320cca",
   "metadata": {},
   "outputs": [],
   "source": [
    "# Value counts of the \"Objext\" features\n",
    "def explore_value_counts(df, feature_name):\n",
    "\n",
    "    if df[feature_name].dtype == \"object\":\n",
    "        value_counts = df[feature_name].value_counts()\n",
    "        print(f\"Value Counts for {feature_name}:\\n {value_counts}\\n\")"
   ]
  },
  {
   "cell_type": "code",
   "execution_count": 8,
   "id": "e0c44258",
   "metadata": {},
   "outputs": [
    {
     "name": "stdout",
     "output_type": "stream",
     "text": [
      "Value Counts for number:\n",
      " number\n",
      "4     1019\n",
      "16    1005\n",
      "11    1001\n",
      "3      994\n",
      "6      994\n",
      "      ... \n",
      "84       1\n",
      "78       1\n",
      "86       1\n",
      "85       1\n",
      "79       1\n",
      "Name: count, Length: 130, dtype: int64\n",
      "\n"
     ]
    }
   ],
   "source": [
    "explore_value_counts(df, \"number\")"
   ]
  },
  {
   "cell_type": "code",
   "execution_count": 9,
   "id": "877869dd",
   "metadata": {},
   "outputs": [
    {
     "name": "stdout",
     "output_type": "stream",
     "text": [
      "Value Counts for number:\n",
      " number\n",
      "4     1019\n",
      "16    1005\n",
      "11    1001\n",
      "3      994\n",
      "6      994\n",
      "      ... \n",
      "84       1\n",
      "78       1\n",
      "86       1\n",
      "85       1\n",
      "79       1\n",
      "Name: count, Length: 130, dtype: int64\n",
      "\n",
      "Value Counts for position:\n",
      " position\n",
      "\\N    10953\n",
      "3      1135\n",
      "4      1135\n",
      "2      1133\n",
      "5      1131\n",
      "1      1128\n",
      "6      1124\n",
      "7      1104\n",
      "8      1076\n",
      "9      1038\n",
      "10      978\n",
      "11      901\n",
      "12      800\n",
      "13      713\n",
      "14      605\n",
      "15      528\n",
      "16      432\n",
      "17      336\n",
      "18      223\n",
      "19      141\n",
      "20       72\n",
      "21       34\n",
      "22       19\n",
      "23        8\n",
      "24        3\n",
      "25        1\n",
      "26        1\n",
      "27        1\n",
      "28        1\n",
      "29        1\n",
      "30        1\n",
      "31        1\n",
      "32        1\n",
      "33        1\n",
      "Name: count, dtype: int64\n",
      "\n"
     ]
    },
    {
     "name": "stdout",
     "output_type": "stream",
     "text": [
      "Value Counts for positionText:\n",
      " positionText\n",
      "R     8897\n",
      "F     1368\n",
      "3     1135\n",
      "4     1135\n",
      "2     1133\n",
      "5     1131\n",
      "1     1128\n",
      "6     1124\n",
      "7     1104\n",
      "8     1076\n",
      "9     1038\n",
      "10     978\n",
      "11     902\n",
      "12     800\n",
      "13     713\n",
      "14     606\n",
      "15     528\n",
      "16     432\n",
      "17     336\n",
      "W      336\n",
      "18     223\n",
      "N      190\n",
      "D      151\n",
      "19     141\n",
      "20      72\n",
      "21      34\n",
      "22      19\n",
      "E        9\n",
      "23       8\n",
      "24       3\n",
      "25       1\n",
      "26       1\n",
      "27       1\n",
      "28       1\n",
      "29       1\n",
      "30       1\n",
      "31       1\n",
      "32       1\n",
      "33       1\n",
      "Name: count, dtype: int64\n",
      "\n",
      "Value Counts for time:\n",
      " time\n",
      "\\N             19079\n",
      "+8:22.19           5\n",
      "+46.2              4\n",
      "+1:29.6            4\n",
      "+5.7               4\n",
      "               ...  \n",
      "+40.514            1\n",
      "1:42:34.492        1\n",
      "+1:28.536          1\n",
      "+43.130            1\n",
      "+1:06.125          1\n",
      "Name: count, Length: 7411, dtype: int64\n",
      "\n",
      "Value Counts for milliseconds:\n",
      " milliseconds\n",
      "\\N          19079\n",
      "14259460        5\n",
      "10928200        3\n",
      "4988777         2\n",
      "14260930        2\n",
      "            ...  \n",
      "5471951         1\n",
      "5827095         1\n",
      "5813679         1\n",
      "5861851         1\n",
      "6386360         1\n",
      "Name: count, Length: 7639, dtype: int64\n",
      "\n",
      "Value Counts for fastestLap:\n",
      " fastestLap\n",
      "\\N    18507\n",
      "50      309\n",
      "52      289\n",
      "53      287\n",
      "51      275\n",
      "      ...  \n",
      "1        10\n",
      "78        6\n",
      "73        5\n",
      "80        3\n",
      "85        2\n",
      "Name: count, Length: 81, dtype: int64\n",
      "\n",
      "Value Counts for rank:\n",
      " rank\n",
      "\\N    18249\n",
      "2       410\n",
      "5       410\n",
      "1       410\n",
      "4       410\n",
      "3       410\n",
      "6       410\n",
      "8       409\n",
      "9       409\n",
      "7       409\n",
      "10      409\n",
      "11      409\n",
      "13      408\n",
      "14      408\n",
      "12      408\n",
      "15      407\n",
      "16      406\n",
      "17      400\n",
      "18      390\n",
      "19      348\n",
      "20      288\n",
      "0       258\n",
      "21      122\n",
      "22       91\n",
      "23       43\n",
      "24       28\n",
      "Name: count, dtype: int64\n",
      "\n",
      "Value Counts for fastestLapTime:\n",
      " fastestLapTime\n",
      "\\N          18507\n",
      "1:18.262        4\n",
      "1:18.904        4\n",
      "1:43.026        4\n",
      "1:14.117        4\n",
      "            ...  \n",
      "1:28.202        1\n",
      "1:26.895        1\n",
      "1:28.054        1\n",
      "1:28.357        1\n",
      "1:48.454        1\n",
      "Name: count, Length: 7474, dtype: int64\n",
      "\n",
      "Value Counts for fastestLapSpeed:\n",
      " fastestLapSpeed\n",
      "\\N         18507\n",
      "207.069        4\n",
      "201.330        3\n",
      "202.871        3\n",
      "200.091        3\n",
      "           ...  \n",
      "209.033        1\n",
      "206.366        1\n",
      "207.240        1\n",
      "214.212        1\n",
      "212.462        1\n",
      "Name: count, Length: 7725, dtype: int64\n",
      "\n"
     ]
    }
   ],
   "source": [
    "for feature in df.columns:\n",
    "\n",
    "    if df[feature].dtype == \"object\":\n",
    "        explore_value_counts(df, feature)"
   ]
  },
  {
   "cell_type": "code",
   "execution_count": 10,
   "id": "8c6b1833",
   "metadata": {},
   "outputs": [
    {
     "data": {
      "application/vnd.microsoft.datawrangler.viewer.v0+json": {
       "columns": [
        {
         "name": "index",
         "rawType": "object",
         "type": "string"
        },
        {
         "name": "0",
         "rawType": "int64",
         "type": "integer"
        }
       ],
       "ref": "a449887e-888d-48f3-a51b-41de9645e80a",
       "rows": [
        [
         "resultId",
         "0"
        ],
        [
         "raceId",
         "0"
        ],
        [
         "driverId",
         "0"
        ],
        [
         "constructorId",
         "0"
        ],
        [
         "number",
         "0"
        ],
        [
         "grid",
         "0"
        ],
        [
         "position",
         "0"
        ],
        [
         "positionText",
         "0"
        ],
        [
         "positionOrder",
         "0"
        ],
        [
         "points",
         "0"
        ],
        [
         "laps",
         "0"
        ],
        [
         "time",
         "0"
        ],
        [
         "milliseconds",
         "0"
        ],
        [
         "fastestLap",
         "0"
        ],
        [
         "rank",
         "0"
        ],
        [
         "fastestLapTime",
         "0"
        ],
        [
         "fastestLapSpeed",
         "0"
        ],
        [
         "statusId",
         "0"
        ]
       ],
       "shape": {
        "columns": 1,
        "rows": 18
       }
      },
      "text/plain": [
       "resultId           0\n",
       "raceId             0\n",
       "driverId           0\n",
       "constructorId      0\n",
       "number             0\n",
       "grid               0\n",
       "position           0\n",
       "positionText       0\n",
       "positionOrder      0\n",
       "points             0\n",
       "laps               0\n",
       "time               0\n",
       "milliseconds       0\n",
       "fastestLap         0\n",
       "rank               0\n",
       "fastestLapTime     0\n",
       "fastestLapSpeed    0\n",
       "statusId           0\n",
       "dtype: int64"
      ]
     },
     "execution_count": 10,
     "metadata": {},
     "output_type": "execute_result"
    }
   ],
   "source": [
    "# Missing value in the dataset\n",
    "df.isnull().sum()"
   ]
  },
  {
   "cell_type": "code",
   "execution_count": 11,
   "id": "169cdc5c",
   "metadata": {},
   "outputs": [
    {
     "data": {
      "text/plain": [
       "np.int64(0)"
      ]
     },
     "execution_count": 11,
     "metadata": {},
     "output_type": "execute_result"
    }
   ],
   "source": [
    "# Duplicate value int he dataset\n",
    "df.duplicated().sum()"
   ]
  },
  {
   "cell_type": "code",
   "execution_count": 12,
   "id": "204c2686",
   "metadata": {},
   "outputs": [
    {
     "data": {
      "application/vnd.microsoft.datawrangler.viewer.v0+json": {
       "columns": [
        {
         "name": "index",
         "rawType": "int64",
         "type": "integer"
        },
        {
         "name": "resultId",
         "rawType": "int64",
         "type": "integer"
        },
        {
         "name": "raceId",
         "rawType": "int64",
         "type": "integer"
        },
        {
         "name": "driverId",
         "rawType": "int64",
         "type": "integer"
        },
        {
         "name": "constructorId",
         "rawType": "int64",
         "type": "integer"
        },
        {
         "name": "number",
         "rawType": "object",
         "type": "string"
        },
        {
         "name": "grid",
         "rawType": "int64",
         "type": "integer"
        },
        {
         "name": "position",
         "rawType": "object",
         "type": "string"
        },
        {
         "name": "positionText",
         "rawType": "object",
         "type": "string"
        },
        {
         "name": "positionOrder",
         "rawType": "int64",
         "type": "integer"
        },
        {
         "name": "points",
         "rawType": "float64",
         "type": "float"
        },
        {
         "name": "laps",
         "rawType": "int64",
         "type": "integer"
        },
        {
         "name": "time",
         "rawType": "object",
         "type": "string"
        },
        {
         "name": "milliseconds",
         "rawType": "object",
         "type": "string"
        },
        {
         "name": "fastestLap",
         "rawType": "object",
         "type": "string"
        },
        {
         "name": "rank",
         "rawType": "object",
         "type": "string"
        },
        {
         "name": "fastestLapTime",
         "rawType": "object",
         "type": "string"
        },
        {
         "name": "fastestLapSpeed",
         "rawType": "object",
         "type": "string"
        },
        {
         "name": "statusId",
         "rawType": "int64",
         "type": "integer"
        }
       ],
       "ref": "4544df73-ba10-4865-9566-4c4dd5fe7e10",
       "rows": [
        [
         "0",
         "1",
         "18",
         "1",
         "1",
         "22",
         "1",
         "1",
         "1",
         "1",
         "10.0",
         "58",
         "1:34:50.616",
         "5690616",
         "39",
         "2",
         "1:27.452",
         "218.300",
         "1"
        ],
        [
         "1",
         "2",
         "18",
         "2",
         "2",
         "3",
         "5",
         "2",
         "2",
         "2",
         "8.0",
         "58",
         "+5.478",
         "5696094",
         "41",
         "3",
         "1:27.739",
         "217.586",
         "1"
        ],
        [
         "2",
         "3",
         "18",
         "3",
         "3",
         "7",
         "7",
         "3",
         "3",
         "3",
         "6.0",
         "58",
         "+8.163",
         "5698779",
         "41",
         "5",
         "1:28.090",
         "216.719",
         "1"
        ],
        [
         "3",
         "4",
         "18",
         "4",
         "4",
         "5",
         "11",
         "4",
         "4",
         "4",
         "5.0",
         "58",
         "+17.181",
         "5707797",
         "58",
         "7",
         "1:28.603",
         "215.464",
         "1"
        ],
        [
         "4",
         "5",
         "18",
         "5",
         "1",
         "23",
         "3",
         "5",
         "5",
         "5",
         "4.0",
         "58",
         "+18.014",
         "5708630",
         "43",
         "1",
         "1:27.418",
         "218.385",
         "1"
        ]
       ],
       "shape": {
        "columns": 18,
        "rows": 5
       }
      },
      "text/html": [
       "<div>\n",
       "<style scoped>\n",
       "    .dataframe tbody tr th:only-of-type {\n",
       "        vertical-align: middle;\n",
       "    }\n",
       "\n",
       "    .dataframe tbody tr th {\n",
       "        vertical-align: top;\n",
       "    }\n",
       "\n",
       "    .dataframe thead th {\n",
       "        text-align: right;\n",
       "    }\n",
       "</style>\n",
       "<table border=\"1\" class=\"dataframe\">\n",
       "  <thead>\n",
       "    <tr style=\"text-align: right;\">\n",
       "      <th></th>\n",
       "      <th>resultId</th>\n",
       "      <th>raceId</th>\n",
       "      <th>driverId</th>\n",
       "      <th>constructorId</th>\n",
       "      <th>number</th>\n",
       "      <th>grid</th>\n",
       "      <th>position</th>\n",
       "      <th>positionText</th>\n",
       "      <th>positionOrder</th>\n",
       "      <th>points</th>\n",
       "      <th>laps</th>\n",
       "      <th>time</th>\n",
       "      <th>milliseconds</th>\n",
       "      <th>fastestLap</th>\n",
       "      <th>rank</th>\n",
       "      <th>fastestLapTime</th>\n",
       "      <th>fastestLapSpeed</th>\n",
       "      <th>statusId</th>\n",
       "    </tr>\n",
       "  </thead>\n",
       "  <tbody>\n",
       "    <tr>\n",
       "      <th>0</th>\n",
       "      <td>1</td>\n",
       "      <td>18</td>\n",
       "      <td>1</td>\n",
       "      <td>1</td>\n",
       "      <td>22</td>\n",
       "      <td>1</td>\n",
       "      <td>1</td>\n",
       "      <td>1</td>\n",
       "      <td>1</td>\n",
       "      <td>10.0</td>\n",
       "      <td>58</td>\n",
       "      <td>1:34:50.616</td>\n",
       "      <td>5690616</td>\n",
       "      <td>39</td>\n",
       "      <td>2</td>\n",
       "      <td>1:27.452</td>\n",
       "      <td>218.300</td>\n",
       "      <td>1</td>\n",
       "    </tr>\n",
       "    <tr>\n",
       "      <th>1</th>\n",
       "      <td>2</td>\n",
       "      <td>18</td>\n",
       "      <td>2</td>\n",
       "      <td>2</td>\n",
       "      <td>3</td>\n",
       "      <td>5</td>\n",
       "      <td>2</td>\n",
       "      <td>2</td>\n",
       "      <td>2</td>\n",
       "      <td>8.0</td>\n",
       "      <td>58</td>\n",
       "      <td>+5.478</td>\n",
       "      <td>5696094</td>\n",
       "      <td>41</td>\n",
       "      <td>3</td>\n",
       "      <td>1:27.739</td>\n",
       "      <td>217.586</td>\n",
       "      <td>1</td>\n",
       "    </tr>\n",
       "    <tr>\n",
       "      <th>2</th>\n",
       "      <td>3</td>\n",
       "      <td>18</td>\n",
       "      <td>3</td>\n",
       "      <td>3</td>\n",
       "      <td>7</td>\n",
       "      <td>7</td>\n",
       "      <td>3</td>\n",
       "      <td>3</td>\n",
       "      <td>3</td>\n",
       "      <td>6.0</td>\n",
       "      <td>58</td>\n",
       "      <td>+8.163</td>\n",
       "      <td>5698779</td>\n",
       "      <td>41</td>\n",
       "      <td>5</td>\n",
       "      <td>1:28.090</td>\n",
       "      <td>216.719</td>\n",
       "      <td>1</td>\n",
       "    </tr>\n",
       "    <tr>\n",
       "      <th>3</th>\n",
       "      <td>4</td>\n",
       "      <td>18</td>\n",
       "      <td>4</td>\n",
       "      <td>4</td>\n",
       "      <td>5</td>\n",
       "      <td>11</td>\n",
       "      <td>4</td>\n",
       "      <td>4</td>\n",
       "      <td>4</td>\n",
       "      <td>5.0</td>\n",
       "      <td>58</td>\n",
       "      <td>+17.181</td>\n",
       "      <td>5707797</td>\n",
       "      <td>58</td>\n",
       "      <td>7</td>\n",
       "      <td>1:28.603</td>\n",
       "      <td>215.464</td>\n",
       "      <td>1</td>\n",
       "    </tr>\n",
       "    <tr>\n",
       "      <th>4</th>\n",
       "      <td>5</td>\n",
       "      <td>18</td>\n",
       "      <td>5</td>\n",
       "      <td>1</td>\n",
       "      <td>23</td>\n",
       "      <td>3</td>\n",
       "      <td>5</td>\n",
       "      <td>5</td>\n",
       "      <td>5</td>\n",
       "      <td>4.0</td>\n",
       "      <td>58</td>\n",
       "      <td>+18.014</td>\n",
       "      <td>5708630</td>\n",
       "      <td>43</td>\n",
       "      <td>1</td>\n",
       "      <td>1:27.418</td>\n",
       "      <td>218.385</td>\n",
       "      <td>1</td>\n",
       "    </tr>\n",
       "  </tbody>\n",
       "</table>\n",
       "</div>"
      ],
      "text/plain": [
       "   resultId  raceId  driverId  constructorId number  grid position  \\\n",
       "0         1      18         1              1     22     1        1   \n",
       "1         2      18         2              2      3     5        2   \n",
       "2         3      18         3              3      7     7        3   \n",
       "3         4      18         4              4      5    11        4   \n",
       "4         5      18         5              1     23     3        5   \n",
       "\n",
       "  positionText  positionOrder  points  laps         time milliseconds  \\\n",
       "0            1              1    10.0    58  1:34:50.616      5690616   \n",
       "1            2              2     8.0    58       +5.478      5696094   \n",
       "2            3              3     6.0    58       +8.163      5698779   \n",
       "3            4              4     5.0    58      +17.181      5707797   \n",
       "4            5              5     4.0    58      +18.014      5708630   \n",
       "\n",
       "  fastestLap rank fastestLapTime fastestLapSpeed  statusId  \n",
       "0         39    2       1:27.452         218.300         1  \n",
       "1         41    3       1:27.739         217.586         1  \n",
       "2         41    5       1:28.090         216.719         1  \n",
       "3         58    7       1:28.603         215.464         1  \n",
       "4         43    1       1:27.418         218.385         1  "
      ]
     },
     "execution_count": 12,
     "metadata": {},
     "output_type": "execute_result"
    }
   ],
   "source": [
    "df.head()"
   ]
  },
  {
   "cell_type": "code",
   "execution_count": 13,
   "id": "21b9ec6d",
   "metadata": {},
   "outputs": [
    {
     "data": {
      "application/vnd.microsoft.datawrangler.viewer.v0+json": {
       "columns": [
        {
         "name": "index",
         "rawType": "object",
         "type": "string"
        },
        {
         "name": "0",
         "rawType": "object",
         "type": "unknown"
        }
       ],
       "ref": "009777d4-2176-49ef-9dc8-3835df18dc53",
       "rows": [
        [
         "resultId",
         "int64"
        ],
        [
         "raceId",
         "int64"
        ],
        [
         "driverId",
         "int64"
        ],
        [
         "constructorId",
         "int64"
        ],
        [
         "number",
         "object"
        ],
        [
         "grid",
         "int64"
        ],
        [
         "position",
         "object"
        ],
        [
         "positionText",
         "object"
        ],
        [
         "positionOrder",
         "int64"
        ],
        [
         "points",
         "float64"
        ],
        [
         "laps",
         "int64"
        ],
        [
         "time",
         "object"
        ],
        [
         "milliseconds",
         "object"
        ],
        [
         "fastestLap",
         "object"
        ],
        [
         "rank",
         "object"
        ],
        [
         "fastestLapTime",
         "object"
        ],
        [
         "fastestLapSpeed",
         "object"
        ],
        [
         "statusId",
         "int64"
        ]
       ],
       "shape": {
        "columns": 1,
        "rows": 18
       }
      },
      "text/plain": [
       "resultId             int64\n",
       "raceId               int64\n",
       "driverId             int64\n",
       "constructorId        int64\n",
       "number              object\n",
       "grid                 int64\n",
       "position            object\n",
       "positionText        object\n",
       "positionOrder        int64\n",
       "points             float64\n",
       "laps                 int64\n",
       "time                object\n",
       "milliseconds        object\n",
       "fastestLap          object\n",
       "rank                object\n",
       "fastestLapTime      object\n",
       "fastestLapSpeed     object\n",
       "statusId             int64\n",
       "dtype: object"
      ]
     },
     "execution_count": 13,
     "metadata": {},
     "output_type": "execute_result"
    }
   ],
   "source": [
    "# Replace the datatypes of the columns\n",
    "df.dtypes"
   ]
  },
  {
   "cell_type": "code",
   "execution_count": 14,
   "id": "14282ff3",
   "metadata": {},
   "outputs": [
    {
     "data": {
      "text/plain": [
       "(position\n",
       " \\N    10953\n",
       " 3      1135\n",
       " 4      1135\n",
       " 2      1133\n",
       " 5      1131\n",
       " 1      1128\n",
       " 6      1124\n",
       " 7      1104\n",
       " 8      1076\n",
       " 9      1038\n",
       " 10      978\n",
       " 11      901\n",
       " 12      800\n",
       " 13      713\n",
       " 14      605\n",
       " 15      528\n",
       " 16      432\n",
       " 17      336\n",
       " 18      223\n",
       " 19      141\n",
       " 20       72\n",
       " 21       34\n",
       " 22       19\n",
       " 23        8\n",
       " 24        3\n",
       " 25        1\n",
       " 26        1\n",
       " 27        1\n",
       " 28        1\n",
       " 29        1\n",
       " 30        1\n",
       " 31        1\n",
       " 32        1\n",
       " 33        1\n",
       " Name: count, dtype: int64,\n",
       " positionText\n",
       " R     8897\n",
       " F     1368\n",
       " 3     1135\n",
       " 4     1135\n",
       " 2     1133\n",
       " 5     1131\n",
       " 1     1128\n",
       " 6     1124\n",
       " 7     1104\n",
       " 8     1076\n",
       " 9     1038\n",
       " 10     978\n",
       " 11     902\n",
       " 12     800\n",
       " 13     713\n",
       " 14     606\n",
       " 15     528\n",
       " 16     432\n",
       " 17     336\n",
       " W      336\n",
       " 18     223\n",
       " N      190\n",
       " D      151\n",
       " 19     141\n",
       " 20      72\n",
       " 21      34\n",
       " 22      19\n",
       " E        9\n",
       " 23       8\n",
       " 24       3\n",
       " 25       1\n",
       " 26       1\n",
       " 27       1\n",
       " 28       1\n",
       " 29       1\n",
       " 30       1\n",
       " 31       1\n",
       " 32       1\n",
       " 33       1\n",
       " Name: count, dtype: int64,\n",
       " positionOrder\n",
       " 3     1135\n",
       " 4     1135\n",
       " 2     1134\n",
       " 11    1133\n",
       " 6     1132\n",
       " 7     1132\n",
       " 5     1132\n",
       " 8     1132\n",
       " 9     1131\n",
       " 12    1130\n",
       " 10    1130\n",
       " 1     1128\n",
       " 13    1126\n",
       " 14    1122\n",
       " 15    1120\n",
       " 16    1107\n",
       " 17    1100\n",
       " 18    1085\n",
       " 19    1062\n",
       " 20    1046\n",
       " 21     745\n",
       " 22     716\n",
       " 23     505\n",
       " 24     478\n",
       " 25     386\n",
       " 26     349\n",
       " 27     270\n",
       " 28     221\n",
       " 29     180\n",
       " 30     156\n",
       " 31     117\n",
       " 32      79\n",
       " 33      65\n",
       " 34      46\n",
       " 35      29\n",
       " 36      18\n",
       " 37      17\n",
       " 38      17\n",
       " 39      13\n",
       " Name: count, dtype: int64)"
      ]
     },
     "execution_count": 14,
     "metadata": {},
     "output_type": "execute_result"
    }
   ],
   "source": [
    "df[\"position\"].value_counts(), df[\"positionText\"].value_counts(), df[\"positionOrder\"].value_counts()"
   ]
  },
  {
   "cell_type": "code",
   "execution_count": 15,
   "id": "8445109d",
   "metadata": {},
   "outputs": [],
   "source": [
    "df[\"position\"] = df[\"position\"].replace(r'\\\\N', 0, regex=True)\n",
    "df['fastestLapTime'] = df[\"fastestLapTime\"].replace(r'\\\\N', \"00:00.0\", regex=True)\n",
    "df[\"fastestLapSpeed\"] = df[\"fastestLapSpeed\"].replace(r'\\\\N', 0.0, regex=True)\n",
    "df[\"fastestLap\"] = df[\"fastestLap\"].replace(r'\\\\N', 0, regex=True)\n",
    "df[\"rank\"] = df[\"rank\"].replace(r'\\\\N', 0, regex=True)"
   ]
  },
  {
   "cell_type": "code",
   "execution_count": 16,
   "id": "d0997fd0",
   "metadata": {},
   "outputs": [
    {
     "data": {
      "application/vnd.microsoft.datawrangler.viewer.v0+json": {
       "columns": [
        {
         "name": "rank",
         "rawType": "object",
         "type": "unknown"
        },
        {
         "name": "count",
         "rawType": "int64",
         "type": "integer"
        }
       ],
       "ref": "c1d3dd36-8e7b-47ce-9c1e-824788fd93be",
       "rows": [
        [
         "0",
         "18249"
        ],
        [
         "2",
         "410"
        ],
        [
         "5",
         "410"
        ],
        [
         "1",
         "410"
        ],
        [
         "4",
         "410"
        ],
        [
         "3",
         "410"
        ],
        [
         "6",
         "410"
        ],
        [
         "8",
         "409"
        ],
        [
         "9",
         "409"
        ],
        [
         "7",
         "409"
        ],
        [
         "10",
         "409"
        ],
        [
         "11",
         "409"
        ],
        [
         "13",
         "408"
        ],
        [
         "14",
         "408"
        ],
        [
         "12",
         "408"
        ],
        [
         "15",
         "407"
        ],
        [
         "16",
         "406"
        ],
        [
         "17",
         "400"
        ],
        [
         "18",
         "390"
        ],
        [
         "19",
         "348"
        ],
        [
         "20",
         "288"
        ],
        [
         "0",
         "258"
        ],
        [
         "21",
         "122"
        ],
        [
         "22",
         "91"
        ],
        [
         "23",
         "43"
        ],
        [
         "24",
         "28"
        ]
       ],
       "shape": {
        "columns": 1,
        "rows": 26
       }
      },
      "text/plain": [
       "rank\n",
       "0     18249\n",
       "2       410\n",
       "5       410\n",
       "1       410\n",
       "4       410\n",
       "3       410\n",
       "6       410\n",
       "8       409\n",
       "9       409\n",
       "7       409\n",
       "10      409\n",
       "11      409\n",
       "13      408\n",
       "14      408\n",
       "12      408\n",
       "15      407\n",
       "16      406\n",
       "17      400\n",
       "18      390\n",
       "19      348\n",
       "20      288\n",
       "0       258\n",
       "21      122\n",
       "22       91\n",
       "23       43\n",
       "24       28\n",
       "Name: count, dtype: int64"
      ]
     },
     "execution_count": 16,
     "metadata": {},
     "output_type": "execute_result"
    }
   ],
   "source": [
    "\n",
    "df[\"rank\"].value_counts()"
   ]
  },
  {
   "cell_type": "code",
   "execution_count": null,
   "id": "588f2081",
   "metadata": {},
   "outputs": [],
   "source": []
  },
  {
   "cell_type": "code",
   "execution_count": 17,
   "id": "71e154d9",
   "metadata": {},
   "outputs": [],
   "source": [
    "# Replace the columns \n",
    "# Number\n",
    "# fastspeed\n",
    "# fasttimelap\n",
    "# rank\n",
    "df[\"number\"] = df[\"number\"].replace(r'\\\\N', 0, regex=True)\n",
    "df[\"number\"] = df[\"number\"].astype(int)\n",
    "df[\"position\"] = df[\"position\"].astype(int)\n",
    "df[\"fastestLapTime\"] = pd.to_datetime(df[\"fastestLapTime\"], format=\"%M:%S.%f\")\n",
    "df[\"fastestLapSpeed\"] = df[\"fastestLapSpeed\"].astype(float)\n",
    "df[\"fastestLap\"] = df['fastestLap'].astype(int)\n",
    "df[\"rank\"] = df[\"rank\"].astype(int)"
   ]
  },
  {
   "cell_type": "code",
   "execution_count": 18,
   "id": "fd969715",
   "metadata": {},
   "outputs": [],
   "source": [
    "df[\"lapminutes\"] = df[\"fastestLapTime\"].dt.minute\n",
    "df[\"lapseconds\"] = df[\"fastestLapTime\"].dt.second"
   ]
  },
  {
   "cell_type": "code",
   "execution_count": 19,
   "id": "a78121cf",
   "metadata": {},
   "outputs": [],
   "source": [
    "df = df.drop([\"fastestLapTime\", \"resultId\"], axis=1)"
   ]
  },
  {
   "cell_type": "markdown",
   "id": "22f2a225",
   "metadata": {},
   "source": [
    "### Data Visulization"
   ]
  },
  {
   "cell_type": "code",
   "execution_count": 20,
   "id": "dbcd37b6",
   "metadata": {},
   "outputs": [
    {
     "data": {
      "text/plain": [
       "Index(['raceId', 'driverId', 'constructorId', 'number', 'grid', 'position',\n",
       "       'positionText', 'positionOrder', 'points', 'laps', 'time',\n",
       "       'milliseconds', 'fastestLap', 'rank', 'fastestLapSpeed', 'statusId',\n",
       "       'lapminutes', 'lapseconds'],\n",
       "      dtype='object')"
      ]
     },
     "execution_count": 20,
     "metadata": {},
     "output_type": "execute_result"
    }
   ],
   "source": [
    "df.columns"
   ]
  },
  {
   "cell_type": "code",
   "execution_count": 21,
   "id": "88cbf375",
   "metadata": {},
   "outputs": [
    {
     "data": {
      "text/plain": [
       "<Axes: ylabel='Density'>"
      ]
     },
     "execution_count": 21,
     "metadata": {},
     "output_type": "execute_result"
    },
    {
     "data": {
      "image/png": "[encoded data removed]",
      "text/plain": [
       "<Figure size 640x480 with 1 Axes>"
      ]
     },
     "metadata": {},
     "output_type": "display_data"
    }
   ],
   "source": [
    "# How much races occured\n",
    "\n",
    "df[\"raceId\"].plot(kind=\"kde\")"
   ]
  },
  {
   "cell_type": "code",
   "execution_count": 22,
   "id": "af2454b3",
   "metadata": {},
   "outputs": [],
   "source": [
    "# Driver perfomance \n",
    "\n",
    "driver_df = pd.read_csv(\"/home/inventor/Datasets/Formula 1/formula_1/drivers.csv\")"
   ]
  },
  {
   "cell_type": "code",
   "execution_count": 23,
   "id": "b0a2896b",
   "metadata": {},
   "outputs": [
    {
     "data": {
      "application/vnd.microsoft.datawrangler.viewer.v0+json": {
       "columns": [
        {
         "name": "index",
         "rawType": "int64",
         "type": "integer"
        },
        {
         "name": "driverId",
         "rawType": "int64",
         "type": "integer"
        },
        {
         "name": "driverRef",
         "rawType": "object",
         "type": "string"
        },
        {
         "name": "number",
         "rawType": "object",
         "type": "string"
        },
        {
         "name": "code",
         "rawType": "object",
         "type": "string"
        },
        {
         "name": "forename",
         "rawType": "object",
         "type": "string"
        },
        {
         "name": "surname",
         "rawType": "object",
         "type": "string"
        },
        {
         "name": "dob",
         "rawType": "object",
         "type": "string"
        },
        {
         "name": "nationality",
         "rawType": "object",
         "type": "string"
        },
        {
         "name": "url",
         "rawType": "object",
         "type": "string"
        }
       ],
       "ref": "715f1221-72dd-4446-837b-7d314921156b",
       "rows": [
        [
         "0",
         "1",
         "hamilton",
         "44",
         "HAM",
         "Lewis",
         "Hamilton",
         "1985-01-07",
         "British",
         "http://en.wikipedia.org/wiki/Lewis_Hamilton"
        ],
        [
         "1",
         "2",
         "heidfeld",
         "\\N",
         "HEI",
         "Nick",
         "Heidfeld",
         "1977-05-10",
         "German",
         "http://en.wikipedia.org/wiki/Nick_Heidfeld"
        ],
        [
         "2",
         "3",
         "rosberg",
         "6",
         "ROS",
         "Nico",
         "Rosberg",
         "1985-06-27",
         "German",
         "http://en.wikipedia.org/wiki/Nico_Rosberg"
        ],
        [
         "3",
         "4",
         "alonso",
         "14",
         "ALO",
         "Fernando",
         "Alonso",
         "1981-07-29",
         "Spanish",
         "http://en.wikipedia.org/wiki/Fernando_Alonso"
        ],
        [
         "4",
         "5",
         "kovalainen",
         "\\N",
         "KOV",
         "Heikki",
         "Kovalainen",
         "1981-10-19",
         "Finnish",
         "http://en.wikipedia.org/wiki/Heikki_Kovalainen"
        ]
       ],
       "shape": {
        "columns": 9,
        "rows": 5
       }
      },
      "text/html": [
       "<div>\n",
       "<style scoped>\n",
       "    .dataframe tbody tr th:only-of-type {\n",
       "        vertical-align: middle;\n",
       "    }\n",
       "\n",
       "    .dataframe tbody tr th {\n",
       "        vertical-align: top;\n",
       "    }\n",
       "\n",
       "    .dataframe thead th {\n",
       "        text-align: right;\n",
       "    }\n",
       "</style>\n",
       "<table border=\"1\" class=\"dataframe\">\n",
       "  <thead>\n",
       "    <tr style=\"text-align: right;\">\n",
       "      <th></th>\n",
       "      <th>driverId</th>\n",
       "      <th>driverRef</th>\n",
       "      <th>number</th>\n",
       "      <th>code</th>\n",
       "      <th>forename</th>\n",
       "      <th>surname</th>\n",
       "      <th>dob</th>\n",
       "      <th>nationality</th>\n",
       "      <th>url</th>\n",
       "    </tr>\n",
       "  </thead>\n",
       "  <tbody>\n",
       "    <tr>\n",
       "      <th>0</th>\n",
       "      <td>1</td>\n",
       "      <td>hamilton</td>\n",
       "      <td>44</td>\n",
       "      <td>HAM</td>\n",
       "      <td>Lewis</td>\n",
       "      <td>Hamilton</td>\n",
       "      <td>1985-01-07</td>\n",
       "      <td>British</td>\n",
       "      <td>http://en.wikipedia.org/wiki/Lewis_Hamilton</td>\n",
       "    </tr>\n",
       "    <tr>\n",
       "      <th>1</th>\n",
       "      <td>2</td>\n",
       "      <td>heidfeld</td>\n",
       "      <td>\\N</td>\n",
       "      <td>HEI</td>\n",
       "      <td>Nick</td>\n",
       "      <td>Heidfeld</td>\n",
       "      <td>1977-05-10</td>\n",
       "      <td>German</td>\n",
       "      <td>http://en.wikipedia.org/wiki/Nick_Heidfeld</td>\n",
       "    </tr>\n",
       "    <tr>\n",
       "      <th>2</th>\n",
       "      <td>3</td>\n",
       "      <td>rosberg</td>\n",
       "      <td>6</td>\n",
       "      <td>ROS</td>\n",
       "      <td>Nico</td>\n",
       "      <td>Rosberg</td>\n",
       "      <td>1985-06-27</td>\n",
       "      <td>German</td>\n",
       "      <td>http://en.wikipedia.org/wiki/Nico_Rosberg</td>\n",
       "    </tr>\n",
       "    <tr>\n",
       "      <th>3</th>\n",
       "      <td>4</td>\n",
       "      <td>alonso</td>\n",
       "      <td>14</td>\n",
       "      <td>ALO</td>\n",
       "      <td>Fernando</td>\n",
       "      <td>Alonso</td>\n",
       "      <td>1981-07-29</td>\n",
       "      <td>Spanish</td>\n",
       "      <td>http://en.wikipedia.org/wiki/Fernando_Alonso</td>\n",
       "    </tr>\n",
       "    <tr>\n",
       "      <th>4</th>\n",
       "      <td>5</td>\n",
       "      <td>kovalainen</td>\n",
       "      <td>\\N</td>\n",
       "      <td>KOV</td>\n",
       "      <td>Heikki</td>\n",
       "      <td>Kovalainen</td>\n",
       "      <td>1981-10-19</td>\n",
       "      <td>Finnish</td>\n",
       "      <td>http://en.wikipedia.org/wiki/Heikki_Kovalainen</td>\n",
       "    </tr>\n",
       "  </tbody>\n",
       "</table>\n",
       "</div>"
      ],
      "text/plain": [
       "   driverId   driverRef number code  forename     surname         dob  \\\n",
       "0         1    hamilton     44  HAM     Lewis    Hamilton  1985-01-07   \n",
       "1         2    heidfeld     \\N  HEI      Nick    Heidfeld  1977-05-10   \n",
       "2         3     rosberg      6  ROS      Nico     Rosberg  1985-06-27   \n",
       "3         4      alonso     14  ALO  Fernando      Alonso  1981-07-29   \n",
       "4         5  kovalainen     \\N  KOV    Heikki  Kovalainen  1981-10-19   \n",
       "\n",
       "  nationality                                             url  \n",
       "0     British     http://en.wikipedia.org/wiki/Lewis_Hamilton  \n",
       "1      German      http://en.wikipedia.org/wiki/Nick_Heidfeld  \n",
       "2      German       http://en.wikipedia.org/wiki/Nico_Rosberg  \n",
       "3     Spanish    http://en.wikipedia.org/wiki/Fernando_Alonso  \n",
       "4     Finnish  http://en.wikipedia.org/wiki/Heikki_Kovalainen  "
      ]
     },
     "execution_count": 23,
     "metadata": {},
     "output_type": "execute_result"
    }
   ],
   "source": [
    "driver_df.head()"
   ]
  },
  {
   "cell_type": "code",
   "execution_count": 24,
   "id": "17d1231b",
   "metadata": {},
   "outputs": [
    {
     "data": {
      "text/plain": [
       "<Axes: xlabel='forename'>"
      ]
     },
     "execution_count": 24,
     "metadata": {},
     "output_type": "execute_result"
    },
    {
     "data": {
      "image/png": "[encoded data removed]",
      "text/plain": [
       "<Figure size 640x480 with 1 Axes>"
      ]
     },
     "metadata": {},
     "output_type": "display_data"
    }
   ],
   "source": [
    "# Driver by position\n",
    "df.groupby(driver_df[\"forename\"])[\"position\"].mean().sort_values(ascending=False).head(10).plot(kind=\"bar\")"
   ]
  },
  {
   "cell_type": "code",
   "execution_count": 25,
   "id": "ccc58641",
   "metadata": {},
   "outputs": [
    {
     "data": {
      "text/plain": [
       "<Axes: xlabel='forename'>"
      ]
     },
     "execution_count": 25,
     "metadata": {},
     "output_type": "execute_result"
    },
    {
     "data": {
      "image/png": "[encoded data removed]",
      "text/plain": [
       "<Figure size 640x480 with 1 Axes>"
      ]
     },
     "metadata": {},
     "output_type": "display_data"
    }
   ],
   "source": [
    "df.groupby(driver_df[\"forename\"])[\"fastestLapSpeed\"].max().sort_values(ascending=False).head(10).plot(kind=\"bar\")"
   ]
  },
  {
   "cell_type": "code",
   "execution_count": null,
   "id": "6416da30",
   "metadata": {},
   "outputs": [],
   "source": []
  },
  {
   "cell_type": "code",
   "execution_count": 26,
   "id": "3e8bb7e3",
   "metadata": {},
   "outputs": [],
   "source": [
    "top_speed = df.groupby(\"driverId\")[\"fastestLapSpeed\"].max().reset_index()"
   ]
  },
  {
   "cell_type": "code",
   "execution_count": 27,
   "id": "2d9e2695",
   "metadata": {},
   "outputs": [
    {
     "data": {
      "application/vnd.microsoft.datawrangler.viewer.v0+json": {
       "columns": [
        {
         "name": "index",
         "rawType": "int64",
         "type": "integer"
        },
        {
         "name": "driverId",
         "rawType": "int64",
         "type": "integer"
        },
        {
         "name": "fastestLapSpeed",
         "rawType": "float64",
         "type": "float"
        }
       ],
       "ref": "3690d709-e138-4452-a034-57bd8447f43a",
       "rows": [
        [
         "0",
         "1",
         "255.849"
        ],
        [
         "1",
         "2",
         "250.375"
        ],
        [
         "2",
         "3",
         "246.884"
        ],
        [
         "3",
         "4",
         "253.874"
        ],
        [
         "4",
         "5",
         "247.605"
        ],
        [
         "5",
         "6",
         "242.565"
        ],
        [
         "6",
         "7",
         "233.646"
        ],
        [
         "7",
         "8",
         "255.874"
        ],
        [
         "8",
         "9",
         "250.927"
        ],
        [
         "9",
         "10",
         "243.201"
        ],
        [
         "10",
         "11",
         "252.296"
        ],
        [
         "11",
         "12",
         "229.38"
        ],
        [
         "12",
         "13",
         "251.441"
        ],
        [
         "13",
         "14",
         "251.599"
        ],
        [
         "14",
         "15",
         "251.775"
        ],
        [
         "15",
         "16",
         "246.106"
        ],
        [
         "16",
         "17",
         "251.459"
        ],
        [
         "17",
         "18",
         "252.262"
        ],
        [
         "18",
         "19",
         "245.016"
        ],
        [
         "19",
         "20",
         "252.77"
        ],
        [
         "20",
         "21",
         "252.519"
        ],
        [
         "21",
         "22",
         "257.32"
        ],
        [
         "22",
         "23",
         "251.032"
        ],
        [
         "23",
         "24",
         "246.033"
        ],
        [
         "24",
         "25",
         "245.35"
        ],
        [
         "25",
         "26",
         "245.079"
        ],
        [
         "26",
         "27",
         "245.448"
        ],
        [
         "27",
         "28",
         "180.309"
        ],
        [
         "28",
         "29",
         "243.978"
        ],
        [
         "29",
         "30",
         "256.324"
        ],
        [
         "30",
         "31",
         "254.861"
        ],
        [
         "31",
         "32",
         "249.961"
        ],
        [
         "32",
         "33",
         "245.9"
        ],
        [
         "33",
         "34",
         "203.663"
        ],
        [
         "34",
         "35",
         "248.591"
        ],
        [
         "35",
         "36",
         "212.323"
        ],
        [
         "36",
         "37",
         "249.155"
        ],
        [
         "37",
         "38",
         "244.794"
        ],
        [
         "38",
         "39",
         "244.929"
        ],
        [
         "39",
         "40",
         "213.987"
        ],
        [
         "40",
         "41",
         "250.027"
        ],
        [
         "41",
         "42",
         "253.566"
        ],
        [
         "42",
         "43",
         "229.145"
        ],
        [
         "43",
         "44",
         "233.04"
        ],
        [
         "44",
         "45",
         "248.091"
        ],
        [
         "45",
         "46",
         "241.456"
        ],
        [
         "46",
         "47",
         "241.497"
        ],
        [
         "47",
         "48",
         "230.096"
        ],
        [
         "48",
         "49",
         "0.0"
        ],
        [
         "49",
         "50",
         "0.0"
        ]
       ],
       "shape": {
        "columns": 2,
        "rows": 861
       }
      },
      "text/html": [
       "<div>\n",
       "<style scoped>\n",
       "    .dataframe tbody tr th:only-of-type {\n",
       "        vertical-align: middle;\n",
       "    }\n",
       "\n",
       "    .dataframe tbody tr th {\n",
       "        vertical-align: top;\n",
       "    }\n",
       "\n",
       "    .dataframe thead th {\n",
       "        text-align: right;\n",
       "    }\n",
       "</style>\n",
       "<table border=\"1\" class=\"dataframe\">\n",
       "  <thead>\n",
       "    <tr style=\"text-align: right;\">\n",
       "      <th></th>\n",
       "      <th>driverId</th>\n",
       "      <th>fastestLapSpeed</th>\n",
       "    </tr>\n",
       "  </thead>\n",
       "  <tbody>\n",
       "    <tr>\n",
       "      <th>0</th>\n",
       "      <td>1</td>\n",
       "      <td>255.849</td>\n",
       "    </tr>\n",
       "    <tr>\n",
       "      <th>1</th>\n",
       "      <td>2</td>\n",
       "      <td>250.375</td>\n",
       "    </tr>\n",
       "    <tr>\n",
       "      <th>2</th>\n",
       "      <td>3</td>\n",
       "      <td>246.884</td>\n",
       "    </tr>\n",
       "    <tr>\n",
       "      <th>3</th>\n",
       "      <td>4</td>\n",
       "      <td>253.874</td>\n",
       "    </tr>\n",
       "    <tr>\n",
       "      <th>4</th>\n",
       "      <td>5</td>\n",
       "      <td>247.605</td>\n",
       "    </tr>\n",
       "    <tr>\n",
       "      <th>...</th>\n",
       "      <td>...</td>\n",
       "      <td>...</td>\n",
       "    </tr>\n",
       "    <tr>\n",
       "      <th>856</th>\n",
       "      <td>858</td>\n",
       "      <td>240.152</td>\n",
       "    </tr>\n",
       "    <tr>\n",
       "      <th>857</th>\n",
       "      <td>859</td>\n",
       "      <td>242.944</td>\n",
       "    </tr>\n",
       "    <tr>\n",
       "      <th>858</th>\n",
       "      <td>860</td>\n",
       "      <td>241.103</td>\n",
       "    </tr>\n",
       "    <tr>\n",
       "      <th>859</th>\n",
       "      <td>861</td>\n",
       "      <td>249.077</td>\n",
       "    </tr>\n",
       "    <tr>\n",
       "      <th>860</th>\n",
       "      <td>862</td>\n",
       "      <td>213.323</td>\n",
       "    </tr>\n",
       "  </tbody>\n",
       "</table>\n",
       "<p>861 rows × 2 columns</p>\n",
       "</div>"
      ],
      "text/plain": [
       "     driverId  fastestLapSpeed\n",
       "0           1          255.849\n",
       "1           2          250.375\n",
       "2           3          246.884\n",
       "3           4          253.874\n",
       "4           5          247.605\n",
       "..        ...              ...\n",
       "856       858          240.152\n",
       "857       859          242.944\n",
       "858       860          241.103\n",
       "859       861          249.077\n",
       "860       862          213.323\n",
       "\n",
       "[861 rows x 2 columns]"
      ]
     },
     "execution_count": 27,
     "metadata": {},
     "output_type": "execute_result"
    }
   ],
   "source": [
    "top_speed"
   ]
  },
  {
   "cell_type": "code",
   "execution_count": 28,
   "id": "b08cef8e",
   "metadata": {},
   "outputs": [],
   "source": [
    "top_10 = top_speed.sort_values(by=\"fastestLapSpeed\", ascending=False).head(10)"
   ]
  },
  {
   "cell_type": "code",
   "execution_count": 29,
   "id": "e7af09c1",
   "metadata": {},
   "outputs": [
    {
     "data": {
      "application/vnd.microsoft.datawrangler.viewer.v0+json": {
       "columns": [
        {
         "name": "index",
         "rawType": "int64",
         "type": "integer"
        },
        {
         "name": "driverId",
         "rawType": "int64",
         "type": "integer"
        },
        {
         "name": "fastestLapSpeed",
         "rawType": "float64",
         "type": "float"
        }
       ],
       "ref": "b01b7336-e769-4d43-b03f-97c9bd65fd18",
       "rows": [
        [
         "21",
         "22",
         "257.32"
        ],
        [
         "29",
         "30",
         "256.324"
        ],
        [
         "844",
         "846",
         "256.1"
        ],
        [
         "7",
         "8",
         "255.874"
        ],
        [
         "0",
         "1",
         "255.849"
        ],
        [
         "828",
         "830",
         "255.12"
        ],
        [
         "30",
         "31",
         "254.861"
        ],
        [
         "855",
         "857",
         "254.503"
        ],
        [
         "845",
         "847",
         "254.215"
        ],
        [
         "3",
         "4",
         "253.874"
        ]
       ],
       "shape": {
        "columns": 2,
        "rows": 10
       }
      },
      "text/html": [
       "<div>\n",
       "<style scoped>\n",
       "    .dataframe tbody tr th:only-of-type {\n",
       "        vertical-align: middle;\n",
       "    }\n",
       "\n",
       "    .dataframe tbody tr th {\n",
       "        vertical-align: top;\n",
       "    }\n",
       "\n",
       "    .dataframe thead th {\n",
       "        text-align: right;\n",
       "    }\n",
       "</style>\n",
       "<table border=\"1\" class=\"dataframe\">\n",
       "  <thead>\n",
       "    <tr style=\"text-align: right;\">\n",
       "      <th></th>\n",
       "      <th>driverId</th>\n",
       "      <th>fastestLapSpeed</th>\n",
       "    </tr>\n",
       "  </thead>\n",
       "  <tbody>\n",
       "    <tr>\n",
       "      <th>21</th>\n",
       "      <td>22</td>\n",
       "      <td>257.320</td>\n",
       "    </tr>\n",
       "    <tr>\n",
       "      <th>29</th>\n",
       "      <td>30</td>\n",
       "      <td>256.324</td>\n",
       "    </tr>\n",
       "    <tr>\n",
       "      <th>844</th>\n",
       "      <td>846</td>\n",
       "      <td>256.100</td>\n",
       "    </tr>\n",
       "    <tr>\n",
       "      <th>7</th>\n",
       "      <td>8</td>\n",
       "      <td>255.874</td>\n",
       "    </tr>\n",
       "    <tr>\n",
       "      <th>0</th>\n",
       "      <td>1</td>\n",
       "      <td>255.849</td>\n",
       "    </tr>\n",
       "    <tr>\n",
       "      <th>828</th>\n",
       "      <td>830</td>\n",
       "      <td>255.120</td>\n",
       "    </tr>\n",
       "    <tr>\n",
       "      <th>30</th>\n",
       "      <td>31</td>\n",
       "      <td>254.861</td>\n",
       "    </tr>\n",
       "    <tr>\n",
       "      <th>855</th>\n",
       "      <td>857</td>\n",
       "      <td>254.503</td>\n",
       "    </tr>\n",
       "    <tr>\n",
       "      <th>845</th>\n",
       "      <td>847</td>\n",
       "      <td>254.215</td>\n",
       "    </tr>\n",
       "    <tr>\n",
       "      <th>3</th>\n",
       "      <td>4</td>\n",
       "      <td>253.874</td>\n",
       "    </tr>\n",
       "  </tbody>\n",
       "</table>\n",
       "</div>"
      ],
      "text/plain": [
       "     driverId  fastestLapSpeed\n",
       "21         22          257.320\n",
       "29         30          256.324\n",
       "844       846          256.100\n",
       "7           8          255.874\n",
       "0           1          255.849\n",
       "828       830          255.120\n",
       "30         31          254.861\n",
       "855       857          254.503\n",
       "845       847          254.215\n",
       "3           4          253.874"
      ]
     },
     "execution_count": 29,
     "metadata": {},
     "output_type": "execute_result"
    }
   ],
   "source": [
    "top_10"
   ]
  },
  {
   "cell_type": "code",
   "execution_count": 30,
   "id": "778ce3cb",
   "metadata": {},
   "outputs": [],
   "source": [
    "top_10 = top_10.merge(driver_df, on=\"driverId\")"
   ]
  },
  {
   "cell_type": "code",
   "execution_count": 31,
   "id": "165cf4e4",
   "metadata": {},
   "outputs": [
    {
     "data": {
      "application/vnd.microsoft.datawrangler.viewer.v0+json": {
       "columns": [
        {
         "name": "index",
         "rawType": "int64",
         "type": "integer"
        },
        {
         "name": "driverId",
         "rawType": "int64",
         "type": "integer"
        },
        {
         "name": "fastestLapSpeed",
         "rawType": "float64",
         "type": "float"
        },
        {
         "name": "driverRef",
         "rawType": "object",
         "type": "string"
        },
        {
         "name": "number",
         "rawType": "object",
         "type": "string"
        },
        {
         "name": "code",
         "rawType": "object",
         "type": "string"
        },
        {
         "name": "forename",
         "rawType": "object",
         "type": "string"
        },
        {
         "name": "surname",
         "rawType": "object",
         "type": "string"
        },
        {
         "name": "dob",
         "rawType": "object",
         "type": "string"
        },
        {
         "name": "nationality",
         "rawType": "object",
         "type": "string"
        },
        {
         "name": "url",
         "rawType": "object",
         "type": "string"
        }
       ],
       "ref": "a045caab-ba90-42ec-a2c1-cb845a79c376",
       "rows": [
        [
         "0",
         "22",
         "257.32",
         "barrichello",
         "\\N",
         "BAR",
         "Rubens",
         "Barrichello",
         "1972-05-23",
         "Brazilian",
         "http://en.wikipedia.org/wiki/Rubens_Barrichello"
        ],
        [
         "1",
         "30",
         "256.324",
         "michael_schumacher",
         "\\N",
         "MSC",
         "Michael",
         "Schumacher",
         "1969-01-03",
         "German",
         "http://en.wikipedia.org/wiki/Michael_Schumacher"
        ],
        [
         "2",
         "846",
         "256.1",
         "norris",
         "4",
         "NOR",
         "Lando",
         "Norris",
         "1999-11-13",
         "British",
         "http://en.wikipedia.org/wiki/Lando_Norris"
        ],
        [
         "3",
         "8",
         "255.874",
         "raikkonen",
         "7",
         "RAI",
         "Kimi",
         "Räikkönen",
         "1979-10-17",
         "Finnish",
         "http://en.wikipedia.org/wiki/Kimi_R%C3%A4ikk%C3%B6nen"
        ],
        [
         "4",
         "1",
         "255.849",
         "hamilton",
         "44",
         "HAM",
         "Lewis",
         "Hamilton",
         "1985-01-07",
         "British",
         "http://en.wikipedia.org/wiki/Lewis_Hamilton"
        ],
        [
         "5",
         "830",
         "255.12",
         "max_verstappen",
         "33",
         "VER",
         "Max",
         "Verstappen",
         "1997-09-30",
         "Dutch",
         "http://en.wikipedia.org/wiki/Max_Verstappen"
        ],
        [
         "6",
         "31",
         "254.861",
         "montoya",
         "\\N",
         "MON",
         "Juan",
         "Pablo Montoya",
         "1975-09-20",
         "Colombian",
         "http://en.wikipedia.org/wiki/Juan_Pablo_Montoya"
        ],
        [
         "7",
         "857",
         "254.503",
         "piastri",
         "81",
         "PIA",
         "Oscar",
         "Piastri",
         "2001-04-06",
         "Australian",
         "http://en.wikipedia.org/wiki/Oscar_Piastri"
        ],
        [
         "8",
         "847",
         "254.215",
         "russell",
         "63",
         "RUS",
         "George",
         "Russell",
         "1998-02-15",
         "British",
         "http://en.wikipedia.org/wiki/George_Russell_(racing_driver)"
        ],
        [
         "9",
         "4",
         "253.874",
         "alonso",
         "14",
         "ALO",
         "Fernando",
         "Alonso",
         "1981-07-29",
         "Spanish",
         "http://en.wikipedia.org/wiki/Fernando_Alonso"
        ]
       ],
       "shape": {
        "columns": 10,
        "rows": 10
       }
      },
      "text/html": [
       "<div>\n",
       "<style scoped>\n",
       "    .dataframe tbody tr th:only-of-type {\n",
       "        vertical-align: middle;\n",
       "    }\n",
       "\n",
       "    .dataframe tbody tr th {\n",
       "        vertical-align: top;\n",
       "    }\n",
       "\n",
       "    .dataframe thead th {\n",
       "        text-align: right;\n",
       "    }\n",
       "</style>\n",
       "<table border=\"1\" class=\"dataframe\">\n",
       "  <thead>\n",
       "    <tr style=\"text-align: right;\">\n",
       "      <th></th>\n",
       "      <th>driverId</th>\n",
       "      <th>fastestLapSpeed</th>\n",
       "      <th>driverRef</th>\n",
       "      <th>number</th>\n",
       "      <th>code</th>\n",
       "      <th>forename</th>\n",
       "      <th>surname</th>\n",
       "      <th>dob</th>\n",
       "      <th>nationality</th>\n",
       "      <th>url</th>\n",
       "    </tr>\n",
       "  </thead>\n",
       "  <tbody>\n",
       "    <tr>\n",
       "      <th>0</th>\n",
       "      <td>22</td>\n",
       "      <td>257.320</td>\n",
       "      <td>barrichello</td>\n",
       "      <td>\\N</td>\n",
       "      <td>BAR</td>\n",
       "      <td>Rubens</td>\n",
       "      <td>Barrichello</td>\n",
       "      <td>1972-05-23</td>\n",
       "      <td>Brazilian</td>\n",
       "      <td>http://en.wikipedia.org/wiki/Rubens_Barrichello</td>\n",
       "    </tr>\n",
       "    <tr>\n",
       "      <th>1</th>\n",
       "      <td>30</td>\n",
       "      <td>256.324</td>\n",
       "      <td>michael_schumacher</td>\n",
       "      <td>\\N</td>\n",
       "      <td>MSC</td>\n",
       "      <td>Michael</td>\n",
       "      <td>Schumacher</td>\n",
       "      <td>1969-01-03</td>\n",
       "      <td>German</td>\n",
       "      <td>http://en.wikipedia.org/wiki/Michael_Schumacher</td>\n",
       "    </tr>\n",
       "    <tr>\n",
       "      <th>2</th>\n",
       "      <td>846</td>\n",
       "      <td>256.100</td>\n",
       "      <td>norris</td>\n",
       "      <td>4</td>\n",
       "      <td>NOR</td>\n",
       "      <td>Lando</td>\n",
       "      <td>Norris</td>\n",
       "      <td>1999-11-13</td>\n",
       "      <td>British</td>\n",
       "      <td>http://en.wikipedia.org/wiki/Lando_Norris</td>\n",
       "    </tr>\n",
       "    <tr>\n",
       "      <th>3</th>\n",
       "      <td>8</td>\n",
       "      <td>255.874</td>\n",
       "      <td>raikkonen</td>\n",
       "      <td>7</td>\n",
       "      <td>RAI</td>\n",
       "      <td>Kimi</td>\n",
       "      <td>Räikkönen</td>\n",
       "      <td>1979-10-17</td>\n",
       "      <td>Finnish</td>\n",
       "      <td>http://en.wikipedia.org/wiki/Kimi_R%C3%A4ikk%C...</td>\n",
       "    </tr>\n",
       "    <tr>\n",
       "      <th>4</th>\n",
       "      <td>1</td>\n",
       "      <td>255.849</td>\n",
       "      <td>hamilton</td>\n",
       "      <td>44</td>\n",
       "      <td>HAM</td>\n",
       "      <td>Lewis</td>\n",
       "      <td>Hamilton</td>\n",
       "      <td>1985-01-07</td>\n",
       "      <td>British</td>\n",
       "      <td>http://en.wikipedia.org/wiki/Lewis_Hamilton</td>\n",
       "    </tr>\n",
       "    <tr>\n",
       "      <th>5</th>\n",
       "      <td>830</td>\n",
       "      <td>255.120</td>\n",
       "      <td>max_verstappen</td>\n",
       "      <td>33</td>\n",
       "      <td>VER</td>\n",
       "      <td>Max</td>\n",
       "      <td>Verstappen</td>\n",
       "      <td>1997-09-30</td>\n",
       "      <td>Dutch</td>\n",
       "      <td>http://en.wikipedia.org/wiki/Max_Verstappen</td>\n",
       "    </tr>\n",
       "    <tr>\n",
       "      <th>6</th>\n",
       "      <td>31</td>\n",
       "      <td>254.861</td>\n",
       "      <td>montoya</td>\n",
       "      <td>\\N</td>\n",
       "      <td>MON</td>\n",
       "      <td>Juan</td>\n",
       "      <td>Pablo Montoya</td>\n",
       "      <td>1975-09-20</td>\n",
       "      <td>Colombian</td>\n",
       "      <td>http://en.wikipedia.org/wiki/Juan_Pablo_Montoya</td>\n",
       "    </tr>\n",
       "    <tr>\n",
       "      <th>7</th>\n",
       "      <td>857</td>\n",
       "      <td>254.503</td>\n",
       "      <td>piastri</td>\n",
       "      <td>81</td>\n",
       "      <td>PIA</td>\n",
       "      <td>Oscar</td>\n",
       "      <td>Piastri</td>\n",
       "      <td>2001-04-06</td>\n",
       "      <td>Australian</td>\n",
       "      <td>http://en.wikipedia.org/wiki/Oscar_Piastri</td>\n",
       "    </tr>\n",
       "    <tr>\n",
       "      <th>8</th>\n",
       "      <td>847</td>\n",
       "      <td>254.215</td>\n",
       "      <td>russell</td>\n",
       "      <td>63</td>\n",
       "      <td>RUS</td>\n",
       "      <td>George</td>\n",
       "      <td>Russell</td>\n",
       "      <td>1998-02-15</td>\n",
       "      <td>British</td>\n",
       "      <td>http://en.wikipedia.org/wiki/George_Russell_(r...</td>\n",
       "    </tr>\n",
       "    <tr>\n",
       "      <th>9</th>\n",
       "      <td>4</td>\n",
       "      <td>253.874</td>\n",
       "      <td>alonso</td>\n",
       "      <td>14</td>\n",
       "      <td>ALO</td>\n",
       "      <td>Fernando</td>\n",
       "      <td>Alonso</td>\n",
       "      <td>1981-07-29</td>\n",
       "      <td>Spanish</td>\n",
       "      <td>http://en.wikipedia.org/wiki/Fernando_Alonso</td>\n",
       "    </tr>\n",
       "  </tbody>\n",
       "</table>\n",
       "</div>"
      ],
      "text/plain": [
       "   driverId  fastestLapSpeed           driverRef number code  forename  \\\n",
       "0        22          257.320         barrichello     \\N  BAR    Rubens   \n",
       "1        30          256.324  michael_schumacher     \\N  MSC   Michael   \n",
       "2       846          256.100              norris      4  NOR     Lando   \n",
       "3         8          255.874           raikkonen      7  RAI      Kimi   \n",
       "4         1          255.849            hamilton     44  HAM     Lewis   \n",
       "5       830          255.120      max_verstappen     33  VER       Max   \n",
       "6        31          254.861             montoya     \\N  MON      Juan   \n",
       "7       857          254.503             piastri     81  PIA     Oscar   \n",
       "8       847          254.215             russell     63  RUS    George   \n",
       "9         4          253.874              alonso     14  ALO  Fernando   \n",
       "\n",
       "         surname         dob nationality  \\\n",
       "0    Barrichello  1972-05-23   Brazilian   \n",
       "1     Schumacher  1969-01-03      German   \n",
       "2         Norris  1999-11-13     British   \n",
       "3      Räikkönen  1979-10-17     Finnish   \n",
       "4       Hamilton  1985-01-07     British   \n",
       "5     Verstappen  1997-09-30       Dutch   \n",
       "6  Pablo Montoya  1975-09-20   Colombian   \n",
       "7        Piastri  2001-04-06  Australian   \n",
       "8        Russell  1998-02-15     British   \n",
       "9         Alonso  1981-07-29     Spanish   \n",
       "\n",
       "                                                 url  \n",
       "0    http://en.wikipedia.org/wiki/Rubens_Barrichello  \n",
       "1    http://en.wikipedia.org/wiki/Michael_Schumacher  \n",
       "2          http://en.wikipedia.org/wiki/Lando_Norris  \n",
       "3  http://en.wikipedia.org/wiki/Kimi_R%C3%A4ikk%C...  \n",
       "4        http://en.wikipedia.org/wiki/Lewis_Hamilton  \n",
       "5        http://en.wikipedia.org/wiki/Max_Verstappen  \n",
       "6    http://en.wikipedia.org/wiki/Juan_Pablo_Montoya  \n",
       "7         http://en.wikipedia.org/wiki/Oscar_Piastri  \n",
       "8  http://en.wikipedia.org/wiki/George_Russell_(r...  \n",
       "9       http://en.wikipedia.org/wiki/Fernando_Alonso  "
      ]
     },
     "execution_count": 31,
     "metadata": {},
     "output_type": "execute_result"
    }
   ],
   "source": [
    "top_10"
   ]
  },
  {
   "cell_type": "code",
   "execution_count": 32,
   "id": "574e2e50",
   "metadata": {},
   "outputs": [
    {
     "data": {
      "image/png": "[encoded data removed]",
      "text/plain": [
       "<Figure size 1000x600 with 1 Axes>"
      ]
     },
     "metadata": {},
     "output_type": "display_data"
    }
   ],
   "source": [
    "# Fastest spped by drivers\n",
    "plt.figure(figsize=(10, 6))\n",
    "sns.histplot(x=top_10[\"forename\"], y=top_10[\"fastestLapSpeed\"])\n",
    "plt.xticks(rotation=90)\n",
    "plt.title(\"Top 10 Fastest Lap Speed by Drivers\")\n",
    "plt.xlabel(\"Driver First Name\")\n",
    "plt.ylabel(\"Fastest Lap Speed (km/h)\")\n",
    "plt.show()"
   ]
  },
  {
   "cell_type": "code",
   "execution_count": 33,
   "id": "11b78746",
   "metadata": {},
   "outputs": [],
   "source": [
    "indices_to_drop_ = df[df[\"rank\"] == 0].index\n",
    "df[\"rank\"] = df[\"rank\"].drop(indices_to_drop_)"
   ]
  },
  {
   "cell_type": "code",
   "execution_count": 34,
   "id": "98b0a2e7",
   "metadata": {},
   "outputs": [],
   "source": [
    "# Rank of drivers\n",
    "top_rank = df.groupby(\"driverId\")[\"rank\"].max().reset_index()"
   ]
  },
  {
   "cell_type": "code",
   "execution_count": 35,
   "id": "11fd5700",
   "metadata": {},
   "outputs": [],
   "source": [
    "top_rank_driver = top_rank.sort_values(by=\"rank\", ascending=True).head(10)"
   ]
  },
  {
   "cell_type": "code",
   "execution_count": 36,
   "id": "9162b2fa",
   "metadata": {},
   "outputs": [
    {
     "data": {
      "application/vnd.microsoft.datawrangler.viewer.v0+json": {
       "columns": [
        {
         "name": "index",
         "rawType": "int64",
         "type": "integer"
        },
        {
         "name": "driverId",
         "rawType": "int64",
         "type": "integer"
        },
        {
         "name": "rank",
         "rawType": "float64",
         "type": "float"
        }
       ],
       "ref": "f94b8bd4-192b-42f6-9e9c-c2d8f144d268",
       "rows": [
        [
         "47",
         "48",
         "7.0"
        ],
        [
         "858",
         "860",
         "13.0"
        ],
        [
         "860",
         "862",
         "13.0"
        ],
        [
         "42",
         "43",
         "15.0"
        ],
        [
         "849",
         "851",
         "15.0"
        ],
        [
         "40",
         "41",
         "16.0"
        ],
        [
         "848",
         "850",
         "17.0"
        ],
        [
         "27",
         "28",
         "17.0"
        ],
        [
         "857",
         "859",
         "17.0"
        ],
        [
         "68",
         "69",
         "18.0"
        ]
       ],
       "shape": {
        "columns": 2,
        "rows": 10
       }
      },
      "text/html": [
       "<div>\n",
       "<style scoped>\n",
       "    .dataframe tbody tr th:only-of-type {\n",
       "        vertical-align: middle;\n",
       "    }\n",
       "\n",
       "    .dataframe tbody tr th {\n",
       "        vertical-align: top;\n",
       "    }\n",
       "\n",
       "    .dataframe thead th {\n",
       "        text-align: right;\n",
       "    }\n",
       "</style>\n",
       "<table border=\"1\" class=\"dataframe\">\n",
       "  <thead>\n",
       "    <tr style=\"text-align: right;\">\n",
       "      <th></th>\n",
       "      <th>driverId</th>\n",
       "      <th>rank</th>\n",
       "    </tr>\n",
       "  </thead>\n",
       "  <tbody>\n",
       "    <tr>\n",
       "      <th>47</th>\n",
       "      <td>48</td>\n",
       "      <td>7.0</td>\n",
       "    </tr>\n",
       "    <tr>\n",
       "      <th>858</th>\n",
       "      <td>860</td>\n",
       "      <td>13.0</td>\n",
       "    </tr>\n",
       "    <tr>\n",
       "      <th>860</th>\n",
       "      <td>862</td>\n",
       "      <td>13.0</td>\n",
       "    </tr>\n",
       "    <tr>\n",
       "      <th>42</th>\n",
       "      <td>43</td>\n",
       "      <td>15.0</td>\n",
       "    </tr>\n",
       "    <tr>\n",
       "      <th>849</th>\n",
       "      <td>851</td>\n",
       "      <td>15.0</td>\n",
       "    </tr>\n",
       "    <tr>\n",
       "      <th>40</th>\n",
       "      <td>41</td>\n",
       "      <td>16.0</td>\n",
       "    </tr>\n",
       "    <tr>\n",
       "      <th>848</th>\n",
       "      <td>850</td>\n",
       "      <td>17.0</td>\n",
       "    </tr>\n",
       "    <tr>\n",
       "      <th>27</th>\n",
       "      <td>28</td>\n",
       "      <td>17.0</td>\n",
       "    </tr>\n",
       "    <tr>\n",
       "      <th>857</th>\n",
       "      <td>859</td>\n",
       "      <td>17.0</td>\n",
       "    </tr>\n",
       "    <tr>\n",
       "      <th>68</th>\n",
       "      <td>69</td>\n",
       "      <td>18.0</td>\n",
       "    </tr>\n",
       "  </tbody>\n",
       "</table>\n",
       "</div>"
      ],
      "text/plain": [
       "     driverId  rank\n",
       "47         48   7.0\n",
       "858       860  13.0\n",
       "860       862  13.0\n",
       "42         43  15.0\n",
       "849       851  15.0\n",
       "40         41  16.0\n",
       "848       850  17.0\n",
       "27         28  17.0\n",
       "857       859  17.0\n",
       "68         69  18.0"
      ]
     },
     "execution_count": 36,
     "metadata": {},
     "output_type": "execute_result"
    }
   ],
   "source": [
    "top_rank_driver"
   ]
  },
  {
   "cell_type": "code",
   "execution_count": 37,
   "id": "fdfdbf38",
   "metadata": {},
   "outputs": [],
   "source": [
    "top_rank_driver = top_rank_driver.merge(driver_df, on=\"driverId\")"
   ]
  },
  {
   "cell_type": "code",
   "execution_count": 38,
   "id": "6f1a0e2b",
   "metadata": {},
   "outputs": [
    {
     "data": {
      "application/vnd.microsoft.datawrangler.viewer.v0+json": {
       "columns": [
        {
         "name": "rank",
         "rawType": "float64",
         "type": "float"
        },
        {
         "name": "count",
         "rawType": "int64",
         "type": "integer"
        }
       ],
       "ref": "aeff7e66-ad21-4f28-b0dc-837e8959b935",
       "rows": [
        [
         "2.0",
         "410"
        ],
        [
         "3.0",
         "410"
        ],
        [
         "5.0",
         "410"
        ],
        [
         "1.0",
         "410"
        ],
        [
         "4.0",
         "410"
        ],
        [
         "6.0",
         "410"
        ],
        [
         "8.0",
         "409"
        ],
        [
         "7.0",
         "409"
        ],
        [
         "11.0",
         "409"
        ],
        [
         "9.0",
         "409"
        ],
        [
         "10.0",
         "409"
        ],
        [
         "14.0",
         "408"
        ],
        [
         "13.0",
         "408"
        ],
        [
         "12.0",
         "408"
        ],
        [
         "15.0",
         "407"
        ],
        [
         "16.0",
         "406"
        ],
        [
         "17.0",
         "400"
        ],
        [
         "18.0",
         "390"
        ],
        [
         "19.0",
         "348"
        ],
        [
         "20.0",
         "288"
        ],
        [
         "21.0",
         "122"
        ],
        [
         "22.0",
         "91"
        ],
        [
         "23.0",
         "43"
        ],
        [
         "24.0",
         "28"
        ]
       ],
       "shape": {
        "columns": 1,
        "rows": 24
       }
      },
      "text/plain": [
       "rank\n",
       "2.0     410\n",
       "3.0     410\n",
       "5.0     410\n",
       "1.0     410\n",
       "4.0     410\n",
       "6.0     410\n",
       "8.0     409\n",
       "7.0     409\n",
       "11.0    409\n",
       "9.0     409\n",
       "10.0    409\n",
       "14.0    408\n",
       "13.0    408\n",
       "12.0    408\n",
       "15.0    407\n",
       "16.0    406\n",
       "17.0    400\n",
       "18.0    390\n",
       "19.0    348\n",
       "20.0    288\n",
       "21.0    122\n",
       "22.0     91\n",
       "23.0     43\n",
       "24.0     28\n",
       "Name: count, dtype: int64"
      ]
     },
     "execution_count": 38,
     "metadata": {},
     "output_type": "execute_result"
    }
   ],
   "source": [
    "df[\"rank\"].value_counts()"
   ]
  },
  {
   "cell_type": "code",
   "execution_count": 39,
   "id": "4e82c065",
   "metadata": {},
   "outputs": [
    {
     "data": {
      "application/vnd.microsoft.datawrangler.viewer.v0+json": {
       "columns": [
        {
         "name": "index",
         "rawType": "int64",
         "type": "integer"
        },
        {
         "name": "driverId",
         "rawType": "int64",
         "type": "integer"
        },
        {
         "name": "rank",
         "rawType": "float64",
         "type": "float"
        },
        {
         "name": "driverRef",
         "rawType": "object",
         "type": "string"
        },
        {
         "name": "number",
         "rawType": "object",
         "type": "string"
        },
        {
         "name": "code",
         "rawType": "object",
         "type": "string"
        },
        {
         "name": "forename",
         "rawType": "object",
         "type": "string"
        },
        {
         "name": "surname",
         "rawType": "object",
         "type": "string"
        },
        {
         "name": "dob",
         "rawType": "object",
         "type": "string"
        },
        {
         "name": "nationality",
         "rawType": "object",
         "type": "string"
        },
        {
         "name": "url",
         "rawType": "object",
         "type": "string"
        }
       ],
       "ref": "728d1c27-f259-4889-9cb2-a4de9a8292a6",
       "rows": [
        [
         "0",
         "48",
         "7.0",
         "gene",
         "\\N",
         "\\N",
         "Marc",
         "Gené",
         "1974-03-29",
         "Spanish",
         "http://en.wikipedia.org/wiki/Marc_Gen%C3%A9"
        ],
        [
         "1",
         "860",
         "13.0",
         "bearman",
         "38",
         "BEA",
         "Oliver",
         "Bearman",
         "2005-05-08",
         "British",
         "http://en.wikipedia.org/wiki/Oliver_Bearman"
        ],
        [
         "2",
         "862",
         "13.0",
         "doohan",
         "61",
         "DOO",
         "Jack",
         "Doohan",
         "2003-01-20",
         "Australian",
         "http://en.wikipedia.org/wiki/Jack_Doohan"
        ],
        [
         "3",
         "43",
         "15.0",
         "matta",
         "\\N",
         "\\N",
         "Cristiano",
         "da Matta",
         "1973-09-19",
         "Brazilian",
         "http://en.wikipedia.org/wiki/Cristiano_da_Matta"
        ],
        [
         "4",
         "851",
         "15.0",
         "aitken",
         "89",
         "AIT",
         "Jack",
         "Aitken",
         "1995-09-23",
         "British",
         "http://en.wikipedia.org/wiki/Jack_Aitken"
        ],
        [
         "5",
         "41",
         "16.0",
         "zonta",
         "\\N",
         "ZON",
         "Ricardo",
         "Zonta",
         "1976-03-23",
         "Brazilian",
         "http://en.wikipedia.org/wiki/Ricardo_Zonta"
        ],
        [
         "6",
         "850",
         "17.0",
         "pietro_fittipaldi",
         "51",
         "FIT",
         "Pietro",
         "Fittipaldi",
         "1996-06-25",
         "Brazilian",
         "http://en.wikipedia.org/wiki/Pietro_Fittipaldi"
        ],
        [
         "7",
         "28",
         "17.0",
         "markus_winkelhock",
         "\\N",
         "WIN",
         "Markus",
         "Winkelhock",
         "1980-06-13",
         "German",
         "http://en.wikipedia.org/wiki/Markus_Winkelhock"
        ],
        [
         "8",
         "859",
         "17.0",
         "lawson",
         "30",
         "LAW",
         "Liam",
         "Lawson",
         "2002-02-11",
         "New Zealander",
         "http://en.wikipedia.org/wiki/Liam_Lawson"
        ],
        [
         "9",
         "69",
         "18.0",
         "badoer",
         "\\N",
         "BAD",
         "Luca",
         "Badoer",
         "1971-01-25",
         "Italian",
         "http://en.wikipedia.org/wiki/Luca_Badoer"
        ]
       ],
       "shape": {
        "columns": 10,
        "rows": 10
       }
      },
      "text/html": [
       "<div>\n",
       "<style scoped>\n",
       "    .dataframe tbody tr th:only-of-type {\n",
       "        vertical-align: middle;\n",
       "    }\n",
       "\n",
       "    .dataframe tbody tr th {\n",
       "        vertical-align: top;\n",
       "    }\n",
       "\n",
       "    .dataframe thead th {\n",
       "        text-align: right;\n",
       "    }\n",
       "</style>\n",
       "<table border=\"1\" class=\"dataframe\">\n",
       "  <thead>\n",
       "    <tr style=\"text-align: right;\">\n",
       "      <th></th>\n",
       "      <th>driverId</th>\n",
       "      <th>rank</th>\n",
       "      <th>driverRef</th>\n",
       "      <th>number</th>\n",
       "      <th>code</th>\n",
       "      <th>forename</th>\n",
       "      <th>surname</th>\n",
       "      <th>dob</th>\n",
       "      <th>nationality</th>\n",
       "      <th>url</th>\n",
       "    </tr>\n",
       "  </thead>\n",
       "  <tbody>\n",
       "    <tr>\n",
       "      <th>0</th>\n",
       "      <td>48</td>\n",
       "      <td>7.0</td>\n",
       "      <td>gene</td>\n",
       "      <td>\\N</td>\n",
       "      <td>\\N</td>\n",
       "      <td>Marc</td>\n",
       "      <td>Gené</td>\n",
       "      <td>1974-03-29</td>\n",
       "      <td>Spanish</td>\n",
       "      <td>http://en.wikipedia.org/wiki/Marc_Gen%C3%A9</td>\n",
       "    </tr>\n",
       "    <tr>\n",
       "      <th>1</th>\n",
       "      <td>860</td>\n",
       "      <td>13.0</td>\n",
       "      <td>bearman</td>\n",
       "      <td>38</td>\n",
       "      <td>BEA</td>\n",
       "      <td>Oliver</td>\n",
       "      <td>Bearman</td>\n",
       "      <td>2005-05-08</td>\n",
       "      <td>British</td>\n",
       "      <td>http://en.wikipedia.org/wiki/Oliver_Bearman</td>\n",
       "    </tr>\n",
       "    <tr>\n",
       "      <th>2</th>\n",
       "      <td>862</td>\n",
       "      <td>13.0</td>\n",
       "      <td>doohan</td>\n",
       "      <td>61</td>\n",
       "      <td>DOO</td>\n",
       "      <td>Jack</td>\n",
       "      <td>Doohan</td>\n",
       "      <td>2003-01-20</td>\n",
       "      <td>Australian</td>\n",
       "      <td>http://en.wikipedia.org/wiki/Jack_Doohan</td>\n",
       "    </tr>\n",
       "    <tr>\n",
       "      <th>3</th>\n",
       "      <td>43</td>\n",
       "      <td>15.0</td>\n",
       "      <td>matta</td>\n",
       "      <td>\\N</td>\n",
       "      <td>\\N</td>\n",
       "      <td>Cristiano</td>\n",
       "      <td>da Matta</td>\n",
       "      <td>1973-09-19</td>\n",
       "      <td>Brazilian</td>\n",
       "      <td>http://en.wikipedia.org/wiki/Cristiano_da_Matta</td>\n",
       "    </tr>\n",
       "    <tr>\n",
       "      <th>4</th>\n",
       "      <td>851</td>\n",
       "      <td>15.0</td>\n",
       "      <td>aitken</td>\n",
       "      <td>89</td>\n",
       "      <td>AIT</td>\n",
       "      <td>Jack</td>\n",
       "      <td>Aitken</td>\n",
       "      <td>1995-09-23</td>\n",
       "      <td>British</td>\n",
       "      <td>http://en.wikipedia.org/wiki/Jack_Aitken</td>\n",
       "    </tr>\n",
       "    <tr>\n",
       "      <th>5</th>\n",
       "      <td>41</td>\n",
       "      <td>16.0</td>\n",
       "      <td>zonta</td>\n",
       "      <td>\\N</td>\n",
       "      <td>ZON</td>\n",
       "      <td>Ricardo</td>\n",
       "      <td>Zonta</td>\n",
       "      <td>1976-03-23</td>\n",
       "      <td>Brazilian</td>\n",
       "      <td>http://en.wikipedia.org/wiki/Ricardo_Zonta</td>\n",
       "    </tr>\n",
       "    <tr>\n",
       "      <th>6</th>\n",
       "      <td>850</td>\n",
       "      <td>17.0</td>\n",
       "      <td>pietro_fittipaldi</td>\n",
       "      <td>51</td>\n",
       "      <td>FIT</td>\n",
       "      <td>Pietro</td>\n",
       "      <td>Fittipaldi</td>\n",
       "      <td>1996-06-25</td>\n",
       "      <td>Brazilian</td>\n",
       "      <td>http://en.wikipedia.org/wiki/Pietro_Fittipaldi</td>\n",
       "    </tr>\n",
       "    <tr>\n",
       "      <th>7</th>\n",
       "      <td>28</td>\n",
       "      <td>17.0</td>\n",
       "      <td>markus_winkelhock</td>\n",
       "      <td>\\N</td>\n",
       "      <td>WIN</td>\n",
       "      <td>Markus</td>\n",
       "      <td>Winkelhock</td>\n",
       "      <td>1980-06-13</td>\n",
       "      <td>German</td>\n",
       "      <td>http://en.wikipedia.org/wiki/Markus_Winkelhock</td>\n",
       "    </tr>\n",
       "    <tr>\n",
       "      <th>8</th>\n",
       "      <td>859</td>\n",
       "      <td>17.0</td>\n",
       "      <td>lawson</td>\n",
       "      <td>30</td>\n",
       "      <td>LAW</td>\n",
       "      <td>Liam</td>\n",
       "      <td>Lawson</td>\n",
       "      <td>2002-02-11</td>\n",
       "      <td>New Zealander</td>\n",
       "      <td>http://en.wikipedia.org/wiki/Liam_Lawson</td>\n",
       "    </tr>\n",
       "    <tr>\n",
       "      <th>9</th>\n",
       "      <td>69</td>\n",
       "      <td>18.0</td>\n",
       "      <td>badoer</td>\n",
       "      <td>\\N</td>\n",
       "      <td>BAD</td>\n",
       "      <td>Luca</td>\n",
       "      <td>Badoer</td>\n",
       "      <td>1971-01-25</td>\n",
       "      <td>Italian</td>\n",
       "      <td>http://en.wikipedia.org/wiki/Luca_Badoer</td>\n",
       "    </tr>\n",
       "  </tbody>\n",
       "</table>\n",
       "</div>"
      ],
      "text/plain": [
       "   driverId  rank          driverRef number code   forename     surname  \\\n",
       "0        48   7.0               gene     \\N   \\N       Marc        Gené   \n",
       "1       860  13.0            bearman     38  BEA     Oliver     Bearman   \n",
       "2       862  13.0             doohan     61  DOO       Jack      Doohan   \n",
       "3        43  15.0              matta     \\N   \\N  Cristiano    da Matta   \n",
       "4       851  15.0             aitken     89  AIT       Jack      Aitken   \n",
       "5        41  16.0              zonta     \\N  ZON    Ricardo       Zonta   \n",
       "6       850  17.0  pietro_fittipaldi     51  FIT     Pietro  Fittipaldi   \n",
       "7        28  17.0  markus_winkelhock     \\N  WIN     Markus  Winkelhock   \n",
       "8       859  17.0             lawson     30  LAW       Liam      Lawson   \n",
       "9        69  18.0             badoer     \\N  BAD       Luca      Badoer   \n",
       "\n",
       "          dob    nationality                                              url  \n",
       "0  1974-03-29        Spanish      http://en.wikipedia.org/wiki/Marc_Gen%C3%A9  \n",
       "1  2005-05-08        British      http://en.wikipedia.org/wiki/Oliver_Bearman  \n",
       "2  2003-01-20     Australian         http://en.wikipedia.org/wiki/Jack_Doohan  \n",
       "3  1973-09-19      Brazilian  http://en.wikipedia.org/wiki/Cristiano_da_Matta  \n",
       "4  1995-09-23        British         http://en.wikipedia.org/wiki/Jack_Aitken  \n",
       "5  1976-03-23      Brazilian       http://en.wikipedia.org/wiki/Ricardo_Zonta  \n",
       "6  1996-06-25      Brazilian   http://en.wikipedia.org/wiki/Pietro_Fittipaldi  \n",
       "7  1980-06-13         German   http://en.wikipedia.org/wiki/Markus_Winkelhock  \n",
       "8  2002-02-11  New Zealander         http://en.wikipedia.org/wiki/Liam_Lawson  \n",
       "9  1971-01-25        Italian         http://en.wikipedia.org/wiki/Luca_Badoer  "
      ]
     },
     "execution_count": 39,
     "metadata": {},
     "output_type": "execute_result"
    }
   ],
   "source": [
    "top_rank_driver"
   ]
  },
  {
   "cell_type": "code",
   "execution_count": 40,
   "id": "818102cf",
   "metadata": {},
   "outputs": [
    {
     "data": {
      "image/png": "[encoded data removed]",
      "text/plain": [
       "<Figure size 1000x600 with 1 Axes>"
      ]
     },
     "metadata": {},
     "output_type": "display_data"
    }
   ],
   "source": [
    "plt.figure(figsize=(10, 6))\n",
    "\n",
    "sns.histplot(x=top_rank_driver[\"forename\"], y=top_rank_driver[\"rank\"])\n",
    "plt.xticks(rotation=90)\n",
    "plt.xlabel(\"Driver First Name\")\n",
    "plt.ylabel(\"Rank\")\n",
    "plt.title(\"Top 10 Drivers by Rank\")\n",
    "plt.show()"
   ]
  },
  {
   "cell_type": "code",
   "execution_count": 41,
   "id": "a89df809",
   "metadata": {},
   "outputs": [
    {
     "data": {
      "text/plain": [
       "Index(['raceId', 'driverId', 'constructorId', 'number', 'grid', 'position',\n",
       "       'positionText', 'positionOrder', 'points', 'laps', 'time',\n",
       "       'milliseconds', 'fastestLap', 'rank', 'fastestLapSpeed', 'statusId',\n",
       "       'lapminutes', 'lapseconds'],\n",
       "      dtype='object')"
      ]
     },
     "execution_count": 41,
     "metadata": {},
     "output_type": "execute_result"
    }
   ],
   "source": [
    "df.columns"
   ]
  },
  {
   "cell_type": "code",
   "execution_count": 42,
   "id": "dcbd2b4a",
   "metadata": {},
   "outputs": [],
   "source": [
    "sns.set_theme(\"paper\")"
   ]
  },
  {
   "cell_type": "code",
   "execution_count": 43,
   "id": "83304d0d",
   "metadata": {},
   "outputs": [
    {
     "data": {
      "text/plain": [
       "<seaborn.axisgrid.JointGrid at 0x7a3d9a730140>"
      ]
     },
     "execution_count": 43,
     "metadata": {},
     "output_type": "execute_result"
    },
    {
     "data": {
      "text/plain": [
       "<Figure size 1000x600 with 0 Axes>"
      ]
     },
     "metadata": {},
     "output_type": "display_data"
    },
    {
     "data": {
      "image/png": "[encoded data removed]",
      "text/plain": [
       "<Figure size 600x600 with 3 Axes>"
      ]
     },
     "metadata": {},
     "output_type": "display_data"
    }
   ],
   "source": [
    "plt.figure(figsize=(10, 6))\n",
    "sns.jointplot(x=df[\"rank\"], y=df[\"fastestLapSpeed\"])"
   ]
  },
  {
   "cell_type": "code",
   "execution_count": 44,
   "id": "44d4091a",
   "metadata": {},
   "outputs": [
    {
     "data": {
      "text/plain": [
       "<Figure size 1000x600 with 0 Axes>"
      ]
     },
     "metadata": {},
     "output_type": "display_data"
    },
    {
     "data": {
      "image/png": "[encoded data removed]",
      "text/plain": [
       "<Figure size 500x500 with 1 Axes>"
      ]
     },
     "metadata": {},
     "output_type": "display_data"
    }
   ],
   "source": [
    "# Relationship between lap minutes and speed\n",
    "plt.figure(figsize=(10, 6))\n",
    "sns.relplot(x=df[\"lapminutes\"], y=df[\"fastestLapSpeed\"], kind=\"line\")\n",
    "plt.title(\"Lap Minutes vs Speed\")\n",
    "plt.show()"
   ]
  },
  {
   "cell_type": "code",
   "execution_count": 45,
   "id": "10bab7fc",
   "metadata": {},
   "outputs": [
    {
     "data": {
      "text/plain": [
       "<seaborn.axisgrid.FacetGrid at 0x7a3d9a3207a0>"
      ]
     },
     "execution_count": 45,
     "metadata": {},
     "output_type": "execute_result"
    },
    {
     "data": {
      "text/plain": [
       "<Figure size 1000x600 with 0 Axes>"
      ]
     },
     "metadata": {},
     "output_type": "display_data"
    },
    {
     "data": {
      "image/png": "[encoded data removed]",
      "text/plain": [
       "<Figure size 500x500 with 1 Axes>"
      ]
     },
     "metadata": {},
     "output_type": "display_data"
    }
   ],
   "source": [
    "plt.figure(figsize=(10, 6))\n",
    "sns.lmplot(data=df, x=\"rank\", y=\"fastestLapSpeed\")"
   ]
  },
  {
   "cell_type": "code",
   "execution_count": 46,
   "id": "1a32d465",
   "metadata": {},
   "outputs": [
    {
     "data": {
      "text/plain": [
       "<seaborn.axisgrid.FacetGrid at 0x7a3d9a6eb080>"
      ]
     },
     "execution_count": 46,
     "metadata": {},
     "output_type": "execute_result"
    },
    {
     "data": {
      "image/png": "[encoded data removed]",
      "text/plain": [
       "<Figure size 2000x500 with 4 Axes>"
      ]
     },
     "metadata": {},
     "output_type": "display_data"
    }
   ],
   "source": [
    "sns.displot(data=df, x=\"rank\", col=\"lapminutes\", kde=True)"
   ]
  },
  {
   "cell_type": "code",
   "execution_count": null,
   "id": "70e11b13",
   "metadata": {},
   "outputs": [],
   "source": []
  }
 ],
 "metadata": {
  "kernelspec": {
   "display_name": "machinelearning",
   "language": "python",
   "name": "python3"
  },
  "language_info": {
   "codemirror_mode": {
    "name": "ipython",
    "version": 3
   },
   "file_extension": ".py",
   "mimetype": "text/x-python",
   "name": "python",
   "nbconvert_exporter": "python",
   "pygments_lexer": "ipython3",
   "version": "3.12.3"
  }
 },
 "nbformat": 4,
 "nbformat_minor": 5
}
