{
 "cells": [
  {
   "cell_type": "code",
   "execution_count": 4,
   "id": "f0aae665",
   "metadata": {},
   "outputs": [],
   "source": [
    "import pandas as pd\n",
    "import numpy as np\n",
    "from sklearn.datasets import load_breast_cancer\n",
    "from collections import Counter"
   ]
  },
  {
   "cell_type": "code",
   "execution_count": 2,
   "id": "fe9825e6",
   "metadata": {},
   "outputs": [],
   "source": [
    "# Load the dataset\n",
    "X, y = load_breast_cancer(return_X_y=True)"
   ]
  },
  {
   "cell_type": "code",
   "execution_count": 3,
   "id": "d9858ea6",
   "metadata": {},
   "outputs": [],
   "source": [
    "from sklearn.model_selection import train_test_split\n",
    "X_train, X_test, y_train, y_test = train_test_split(X,y, test_size=0.2, random_state=42)"
   ]
  },
  {
   "cell_type": "code",
   "execution_count": 10,
   "id": "7a2f0349",
   "metadata": {},
   "outputs": [],
   "source": [
    "class CustomKNN:\n",
    "\n",
    "    def __init__(self, k):\n",
    "        self.n_neighbors = k\n",
    "        self.X_train = None\n",
    "        self.y_train = None\n",
    "    \n",
    "    def fit(self, X_train, y_train):\n",
    "\n",
    "        self.X_train = X_train\n",
    "        self.y_train = y_train\n",
    "    \n",
    "    def predict(self, X_test):\n",
    "        y_pred = []\n",
    "        for i in X_test:\n",
    "            distance = []\n",
    "            for j in X_train:\n",
    "                distance.append(self.calculate_distance(i, j))\n",
    "                n_neighbors = sorted(list(enumerate(distance)), key=lambda x:x[1])[0:self.n_neighbors]\n",
    "        \n",
    "            label = self.major_count(n_neighbors)\n",
    "            y_pred.append(label)\n",
    "\n",
    "        return np.array(y_pred)\n",
    "\n",
    "            \n",
    "    \n",
    "    def calculate_distance(self, point_A, point_B):\n",
    "\n",
    "        return np.linalg.norm(point_A - point_B)\n",
    "    \n",
    "    def major_count(self, n_neighbors):\n",
    "\n",
    "        votes = []\n",
    "\n",
    "        for i in n_neighbors:\n",
    "            votes.append(self.y_train[i[0]])\n",
    "        \n",
    "        votes = Counter(votes)\n",
    "        return votes.most_common()[0][0]\n"
   ]
  },
  {
   "cell_type": "code",
   "execution_count": 11,
   "id": "c5cc71f1",
   "metadata": {},
   "outputs": [],
   "source": [
    "knn_ = CustomKNN(k=5)"
   ]
  },
  {
   "cell_type": "code",
   "execution_count": 12,
   "id": "be50f2fc",
   "metadata": {},
   "outputs": [],
   "source": [
    "knn_.fit(X_train, y_train)"
   ]
  },
  {
   "cell_type": "code",
   "execution_count": 13,
   "id": "a686f08e",
   "metadata": {},
   "outputs": [],
   "source": [
    "y_pred = knn_.predict(X_test)"
   ]
  },
  {
   "cell_type": "code",
   "execution_count": 15,
   "id": "e4d7c054",
   "metadata": {},
   "outputs": [
    {
     "name": "stdout",
     "output_type": "stream",
     "text": [
      "Accuracy Score : 0.96%\n"
     ]
    }
   ],
   "source": [
    "from sklearn.metrics import accuracy_score\n",
    "\n",
    "acc_score = accuracy_score(y_test, y_pred)\n",
    "\n",
    "print(f'Accuracy Score : {acc_score:.2f}%')"
   ]
  },
  {
   "cell_type": "code",
   "execution_count": null,
   "id": "4f51f982",
   "metadata": {},
   "outputs": [],
   "source": []
  }
 ],
 "metadata": {
  "kernelspec": {
   "display_name": "machinelearning",
   "language": "python",
   "name": "python3"
  },
  "language_info": {
   "codemirror_mode": {
    "name": "ipython",
    "version": 3
   },
   "file_extension": ".py",
   "mimetype": "text/x-python",
   "name": "python",
   "nbconvert_exporter": "python",
   "pygments_lexer": "ipython3",
   "version": "3.12.3"
  }
 },
 "nbformat": 4,
 "nbformat_minor": 5
}
