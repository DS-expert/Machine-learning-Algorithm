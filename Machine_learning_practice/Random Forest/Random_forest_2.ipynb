{
 "cells": [
  {
   "cell_type": "code",
   "execution_count": 1,
   "id": "eb18d632",
   "metadata": {},
   "outputs": [],
   "source": [
    "import pandas as pd\n",
    "import numpy as np\n",
    "from sklearn.datasets import load_iris"
   ]
  },
  {
   "cell_type": "code",
   "execution_count": 2,
   "id": "4a4a936e",
   "metadata": {},
   "outputs": [],
   "source": [
    "# Load the data\n",
    "X, y = load_iris(return_X_y=True)"
   ]
  },
  {
   "cell_type": "code",
   "execution_count": 3,
   "id": "ce587d6a",
   "metadata": {},
   "outputs": [],
   "source": [
    "from sklearn.model_selection import train_test_split\n",
    "X_train, X_test, y_train, y_test = train_test_split(X, y, test_size=0.2, random_state=42)"
   ]
  },
  {
   "cell_type": "code",
   "execution_count": 4,
   "id": "7795e075",
   "metadata": {},
   "outputs": [],
   "source": [
    "from sklearn.tree import DecisionTreeClassifier\n",
    "\n",
    "decision_ = DecisionTreeClassifier()"
   ]
  },
  {
   "cell_type": "code",
   "execution_count": 6,
   "id": "06806b80",
   "metadata": {},
   "outputs": [],
   "source": [
    "class RandomForestClassifier():\n",
    "\n",
    "    def __init__(self, n_estimators, max_depth):\n",
    "\n",
    "        self.n_estimators = n_estimators\n",
    "        self.max_depth = max_depth\n",
    "        self.trees = []\n",
    "    \n",
    "    def bootstrap(self, X_train, y_train):\n",
    "\n",
    "        n_samples, n_features = X_train.shape\n",
    "\n",
    "        indicies = np.random.choice(n_samples, n_samples, replace=True)\n",
    "\n",
    "        return X_train[indicies], y_train[indicies]\n",
    "\n",
    "    def fit(self, X_train, y_train):\n",
    "\n",
    "        for i in range(self.n_estimators):\n",
    "\n",
    "            X_sample, y_sample = self.bootstrap(X_train, y_train)\n",
    "\n",
    "            tree = DecisionTreeClassifier(max_depth=self.max_depth)\n",
    "            tree.fit(X_sample, y_sample)\n",
    "\n",
    "            self.trees.append(tree)\n",
    "\n",
    "    def predict(self, X_test):\n",
    "\n",
    "        tree_preds = np.array([tree.predict(X_test) for tree in self.trees])\n",
    "\n",
    "        tree_preds = tree_preds.T\n",
    "\n",
    "        final_preds = np.array([np.bincount(tree_pred).argmax() for tree_pred in tree_preds])\n",
    "\n",
    "        return final_preds\n",
    "\n"
   ]
  },
  {
   "cell_type": "code",
   "execution_count": 7,
   "id": "3a99802b",
   "metadata": {},
   "outputs": [],
   "source": [
    "forest_ = RandomForestClassifier(n_estimators=10, max_depth=5)"
   ]
  },
  {
   "cell_type": "code",
   "execution_count": 8,
   "id": "0fdf0e8e",
   "metadata": {},
   "outputs": [],
   "source": [
    "forest_.fit(X_train, y_train)"
   ]
  },
  {
   "cell_type": "code",
   "execution_count": 9,
   "id": "4332c852",
   "metadata": {},
   "outputs": [],
   "source": [
    "y_pred = forest_.predict(X_test)"
   ]
  },
  {
   "cell_type": "code",
   "execution_count": 10,
   "id": "bdfd2e2f",
   "metadata": {},
   "outputs": [
    {
     "data": {
      "text/plain": [
       "1.0"
      ]
     },
     "execution_count": 10,
     "metadata": {},
     "output_type": "execute_result"
    }
   ],
   "source": [
    "from sklearn.metrics import accuracy_score\n",
    "\n",
    "accuracy_score(y_pred, y_test)"
   ]
  },
  {
   "cell_type": "code",
   "execution_count": null,
   "id": "99743567",
   "metadata": {},
   "outputs": [],
   "source": [
    " "
   ]
  }
 ],
 "metadata": {
  "kernelspec": {
   "display_name": "machinelearning",
   "language": "python",
   "name": "python3"
  },
  "language_info": {
   "codemirror_mode": {
    "name": "ipython",
    "version": 3
   },
   "file_extension": ".py",
   "mimetype": "text/x-python",
   "name": "python",
   "nbconvert_exporter": "python",
   "pygments_lexer": "ipython3",
   "version": "3.12.3"
  }
 },
 "nbformat": 4,
 "nbformat_minor": 5
}
