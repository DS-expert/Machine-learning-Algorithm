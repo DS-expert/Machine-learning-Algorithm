{
 "cells": [
  {
   "cell_type": "code",
   "execution_count": 1,
   "id": "c45012e1",
   "metadata": {},
   "outputs": [],
   "source": [
    "import pandas as pd\n",
    "import numpy as np\n",
    "from sklearn.datasets import load_iris"
   ]
  },
  {
   "cell_type": "code",
   "execution_count": 2,
   "id": "a49071d6",
   "metadata": {},
   "outputs": [],
   "source": [
    "# Load the data\n",
    "\n",
    "X, y = load_iris(return_X_y=True)"
   ]
  },
  {
   "cell_type": "code",
   "execution_count": 4,
   "id": "94b1ea55",
   "metadata": {},
   "outputs": [],
   "source": [
    "from sklearn.model_selection import train_test_split\n",
    "X_train, X_test, y_train, y_test = train_test_split(X, y, test_size=0.2, random_state=42)"
   ]
  },
  {
   "cell_type": "code",
   "execution_count": 41,
   "id": "1a8b27f9",
   "metadata": {},
   "outputs": [],
   "source": [
    "class DecisionTree_():\n",
    "\n",
    "    def __init__(self, max_depth=None):\n",
    "\n",
    "        self.max_depth = max_depth\n",
    "        self.tree = None\n",
    "    \n",
    "    def gini(self, y):\n",
    "\n",
    "        counts = np.bincount(y)\n",
    "\n",
    "        p = counts / counts.sum()\n",
    "\n",
    "        return 1 - np.sum(p ** 2)\n",
    "    \n",
    "    def best_split(self, X_train, y_train):\n",
    "\n",
    "        best_gini = float(\"inf\")\n",
    "        best_features = None\n",
    "        best_values = None\n",
    "\n",
    "        n_samples, n_features = X_train.shape\n",
    "\n",
    "        for feature in range(n_features):\n",
    "\n",
    "            values = np.unique(X_train[:, feature])\n",
    "\n",
    "            for value in values:\n",
    "\n",
    "                left_mask = X_train[:, feature] <= value\n",
    "                right_mask = X_train[:, feature] > value\n",
    "\n",
    "                y_left = y_train[left_mask]\n",
    "                y_right = y_train[right_mask]\n",
    "\n",
    "                gini_left = self.gini(y_left)\n",
    "                gini_right = self.gini(y_right)\n",
    "\n",
    "                weighted_gini = (len(y_left) * gini_left + len(y_right) * gini_right) / n_samples\n",
    "\n",
    "                if weighted_gini < best_gini:\n",
    "\n",
    "                    best_gini = weighted_gini\n",
    "                    best_features = feature\n",
    "                    best_values = value\n",
    "        \n",
    "        return best_features, best_values\n",
    "\n",
    "    def build_tree(self, X_train, y_train, depth=0):\n",
    "\n",
    "        count_classes = np.bincount(y_train)\n",
    "        majority_classes = np.argmax(count_classes)\n",
    "\n",
    "        if len(set(y_train)) == 1 or len(y_train) == 0 or (self.max_depth is not None and depth >= self.max_depth):\n",
    "\n",
    "            return {\"leaf\" : True, \"class\" : majority_classes}\n",
    "\n",
    "        best_features, best_values = self.best_split(X_train, y_train)\n",
    "\n",
    "        if best_features is None:\n",
    "\n",
    "            return {\"leaf\" : True, \"class\" : majority_classes}\n",
    "        \n",
    "        left_mask = X_train[:, best_features] <= best_values\n",
    "        right_mask = X_train[:, best_features] > best_values\n",
    "\n",
    "        left_tree = self.build_tree(X_train[left_mask], y_train[left_mask], depth + 1)\n",
    "        right_tree = self.build_tree(X_train[right_mask], y_train[right_mask], depth + 1)\n",
    "\n",
    "        return {\n",
    "            \"leaf\" : False,\n",
    "            \"feature\" : best_features,\n",
    "            \"value\" : best_values,\n",
    "            \"left\" : left_tree,\n",
    "            \"right\" : right_tree\n",
    "        }\n",
    "\n",
    "    def fit(self, X_train, y_train):\n",
    "\n",
    "        self.tree = self.build_tree(X_train, y_train)\n",
    "\n",
    "    def predict_one(self, X_test):\n",
    "\n",
    "        node = self.tree\n",
    "\n",
    "        while isinstance(node, dict) and not node[\"leaf\"]:\n",
    "\n",
    "            feature_ = node[\"feature\"]\n",
    "            value_ = node[\"value\"]\n",
    "\n",
    "            if X_test[feature_] <= value_:\n",
    "\n",
    "                node = node[\"left\"]\n",
    "            \n",
    "            else:\n",
    "\n",
    "                node = node[\"right\"]\n",
    "            \n",
    "            \n",
    "        return node[\"class\"]    \n",
    "    \n",
    "    def predict(self, X_test):\n",
    "\n",
    "        return np.array([self.predict_one(x) for x in X_test])"
   ]
  },
  {
   "cell_type": "code",
   "execution_count": 42,
   "id": "7bc9b35c",
   "metadata": {},
   "outputs": [],
   "source": [
    "class RandomForest_():\n",
    "\n",
    "    def __init__(self, n_estimators, max_depth = None):\n",
    "\n",
    "        self.n_estimators = n_estimators\n",
    "        self.max_depth = max_depth\n",
    "        self.trees = []\n",
    "    \n",
    "    def bootstrap(self, X_train, y_train):\n",
    "\n",
    "        n_samples = X_train.shape[0]\n",
    "\n",
    "        indices = np.random.choice(n_samples, n_samples, replace=True)\n",
    "\n",
    "        return X_train[indices], y_train[indices]\n",
    "    \n",
    "    def fit(self, X_train, y_train):\n",
    "\n",
    "        for i in range(self.n_estimators):\n",
    "\n",
    "            X_sample, y_sample = self.bootstrap(X_train, y_train)\n",
    "\n",
    "            tree = DecisionTree_(max_depth=self.max_depth)\n",
    "            tree.fit(X_sample, y_sample)\n",
    "\n",
    "            self.trees.append(tree)\n",
    "    \n",
    "    def predict(self, X_test):\n",
    "\n",
    "        tree_preds = np.array([tree.predict(X_test) for tree in self.trees])\n",
    "\n",
    "        tree_preds = tree_preds.T\n",
    "\n",
    "        final_preds = np.array([np.bincount(tree_pred).argmax() for tree_pred in tree_preds])\n",
    "\n",
    "        return final_preds\n",
    "\n"
   ]
  },
  {
   "cell_type": "code",
   "execution_count": 43,
   "id": "84fcc51e",
   "metadata": {},
   "outputs": [],
   "source": [
    "forest_ = RandomForest_(n_estimators=10, max_depth=5)"
   ]
  },
  {
   "cell_type": "code",
   "execution_count": 44,
   "id": "535f4469",
   "metadata": {},
   "outputs": [],
   "source": [
    "forest_.fit(X_train, y_train)"
   ]
  },
  {
   "cell_type": "code",
   "execution_count": 45,
   "id": "bea1881e",
   "metadata": {},
   "outputs": [],
   "source": [
    "y_pred = forest_.predict(X_test)"
   ]
  },
  {
   "cell_type": "code",
   "execution_count": 46,
   "id": "9942e00a",
   "metadata": {},
   "outputs": [
    {
     "name": "stdout",
     "output_type": "stream",
     "text": [
      "Accuracy : 100.00%\n"
     ]
    }
   ],
   "source": [
    "from sklearn.metrics import accuracy_score\n",
    "\n",
    "accuracy = accuracy_score(y_test, y_pred)\n",
    "\n",
    "print(f\"Accuracy : {accuracy * 100:.2f}%\")"
   ]
  },
  {
   "cell_type": "code",
   "execution_count": 47,
   "id": "10d62876",
   "metadata": {},
   "outputs": [
    {
     "data": {
      "text/plain": [
       "1.0"
      ]
     },
     "execution_count": 47,
     "metadata": {},
     "output_type": "execute_result"
    }
   ],
   "source": [
    "accuracy"
   ]
  },
  {
   "cell_type": "code",
   "execution_count": null,
   "id": "51b9af99",
   "metadata": {},
   "outputs": [],
   "source": []
  }
 ],
 "metadata": {
  "kernelspec": {
   "display_name": "machinelearning",
   "language": "python",
   "name": "python3"
  },
  "language_info": {
   "codemirror_mode": {
    "name": "ipython",
    "version": 3
   },
   "file_extension": ".py",
   "mimetype": "text/x-python",
   "name": "python",
   "nbconvert_exporter": "python",
   "pygments_lexer": "ipython3",
   "version": "3.12.3"
  }
 },
 "nbformat": 4,
 "nbformat_minor": 5
}
