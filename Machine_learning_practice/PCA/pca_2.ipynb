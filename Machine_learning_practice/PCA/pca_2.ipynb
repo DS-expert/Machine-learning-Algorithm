{
 "cells": [
  {
   "cell_type": "code",
   "execution_count": 1,
   "metadata": {},
   "outputs": [],
   "source": [
    "import pandas as pd\n",
    "import numpy as np\n",
    "import matplotlib.pyplot as plt\n",
    "from sklearn.datasets import load_diabetes\n"
   ]
  },
  {
   "cell_type": "code",
   "execution_count": 50,
   "metadata": {},
   "outputs": [],
   "source": [
    "# Load the dataset\n",
    "\n",
    "X,y = load_diabetes(return_X_y=True)"
   ]
  },
  {
   "cell_type": "code",
   "execution_count": 51,
   "metadata": {},
   "outputs": [],
   "source": [
    "from sklearn.model_selection import train_test_split\n",
    "\n",
    "X_train, X_test, y_train, y_test = train_test_split(X, y, test_size=0.2, random_state=42)"
   ]
  },
  {
   "cell_type": "code",
   "execution_count": 52,
   "metadata": {},
   "outputs": [],
   "source": [
    "from sklearn.preprocessing import StandardScaler\n",
    "\n",
    "scaler = StandardScaler()\n",
    "\n",
    "X_train = scaler.fit_transform(X_train)\n",
    "\n",
    "X_test = scaler.transform(X_test)"
   ]
  },
  {
   "cell_type": "code",
   "execution_count": 67,
   "metadata": {},
   "outputs": [],
   "source": [
    "class PCA_Custom():\n",
    "\n",
    "    def __init__(self, n_components):\n",
    "\n",
    "        self.n_components = n_components\n",
    "        self.variance = None\n",
    "        self.components = None\n",
    "        self.explained_variance_ratio = None\n",
    "    \n",
    "    def fit(self, X):\n",
    "\n",
    "        # Center the data\n",
    "\n",
    "        X_centered = X  - X.mean()\n",
    "\n",
    "        # Calculate the Covariance Matrix\n",
    "\n",
    "        cov_matrix = np.cov(X_centered, rowvar=False)\n",
    "\n",
    "        # Find the eigenvalues and eigenvectors\n",
    "\n",
    "        eigenvalues, eigenvectors = np.linalg.eigh(cov_matrix)\n",
    "\n",
    "        # Sort the Eigenvalues and Eigenvectors\n",
    "\n",
    "        sort_indices = np.argsort(eigenvalues)[::-1]\n",
    "        eigenvalues = eigenvalues[sort_indices]\n",
    "        eigenvectors = eigenvectors[:, sort_indices]\n",
    "\n",
    "        # Top components\n",
    "\n",
    "        self.variance = eigenvalues[:self.n_components]\n",
    "        self.components = eigenvectors[:, :self.n_components]\n",
    "\n",
    "        total_variance = np.sum(self.variance)\n",
    "\n",
    "        self.explained_variance_ratio = eigenvalues / total_variance\n",
    "    \n",
    "    def trasform(self, X):\n",
    "\n",
    "        X_mean = X.mean()\n",
    "\n",
    "        X_centered = X - X_mean\n",
    "\n",
    "        return np.dot(X_centered, self.components)\n",
    "    \n",
    "\n",
    "    def fit_transform(self, X):\n",
    "\n",
    "        self.fit(X)\n",
    "\n",
    "        return self.trasform(X)\n",
    "        "
   ]
  },
  {
   "cell_type": "code",
   "execution_count": 68,
   "metadata": {},
   "outputs": [],
   "source": [
    "pca_c = PCA_Custom(n_components=6)"
   ]
  },
  {
   "cell_type": "code",
   "execution_count": 69,
   "metadata": {},
   "outputs": [],
   "source": [
    "X_train = pca_c.fit_transform(X_train)\n",
    "\n",
    "X_test = pca_c.trasform(X_test)"
   ]
  },
  {
   "cell_type": "code",
   "execution_count": 172,
   "metadata": {},
   "outputs": [],
   "source": [
    "class Batch_Gradient_Descent():\n",
    "\n",
    "    def __init__(self, learning_rate, epochs):\n",
    "\n",
    "\n",
    "        self.coef_ = None\n",
    "        self.lr = learning_rate\n",
    "        self.epochs = epochs\n",
    "    \n",
    "    def fit(self, X_train, y_train):\n",
    "\n",
    "        X_train = np.insert(X_train, 0, 1, axis=1)\n",
    "\n",
    "        self.coef_ = np.random.randn(X_train.shape[1]) * 0.01\n",
    "\n",
    "        for i in range(self.epochs):\n",
    "\n",
    "            y_hat = np.dot(X_train, self.coef_)\n",
    "\n",
    "            error = y_train - y_hat\n",
    "\n",
    "            coef_slope = np.dot(error, X_train)\n",
    "            self.coef_ = self.coef_ + (self.lr * coef_slope)\n",
    "\n",
    "        print(f\"Coef_: {self.coef_}\")\n",
    "    \n",
    "    def predict(self, X_test):\n",
    "\n",
    "        X_test = np.insert(X_test, 0, 1, axis=1)\n",
    "        y_pred = np.dot(X_test, self.coef_)\n",
    "        return y_pred"
   ]
  },
  {
   "cell_type": "code",
   "execution_count": 178,
   "metadata": {},
   "outputs": [],
   "source": [
    "batch = Batch_Gradient_Descent(learning_rate=0.001, epochs=2000)"
   ]
  },
  {
   "cell_type": "code",
   "execution_count": 179,
   "metadata": {},
   "outputs": [
    {
     "name": "stdout",
     "output_type": "stream",
     "text": [
      "Coef_: [153.73654391 -21.57690805  11.57717432 -17.8748975   24.86195804\n",
      "  -1.24006554 -11.90611684]\n"
     ]
    }
   ],
   "source": [
    "batch.fit(X_train, y_train)"
   ]
  },
  {
   "cell_type": "code",
   "execution_count": 180,
   "metadata": {},
   "outputs": [],
   "source": [
    "y_pred = batch.predict(X_test)"
   ]
  },
  {
   "cell_type": "code",
   "execution_count": 181,
   "metadata": {},
   "outputs": [
    {
     "data": {
      "text/plain": [
       "0.44091505446613755"
      ]
     },
     "execution_count": 181,
     "metadata": {},
     "output_type": "execute_result"
    }
   ],
   "source": [
    "from sklearn.metrics import r2_score\n",
    "\n",
    "r2_score(y_test, y_pred)"
   ]
  },
  {
   "cell_type": "code",
   "execution_count": 182,
   "metadata": {},
   "outputs": [
    {
     "data": {
      "text/plain": [
       "(353, 6)"
      ]
     },
     "execution_count": 182,
     "metadata": {},
     "output_type": "execute_result"
    }
   ],
   "source": [
    "X_train.shape"
   ]
  },
  {
   "cell_type": "code",
   "execution_count": null,
   "metadata": {},
   "outputs": [],
   "source": []
  }
 ],
 "metadata": {
  "kernelspec": {
   "display_name": "machinelearning",
   "language": "python",
   "name": "python3"
  },
  "language_info": {
   "codemirror_mode": {
    "name": "ipython",
    "version": 3
   },
   "file_extension": ".py",
   "mimetype": "text/x-python",
   "name": "python",
   "nbconvert_exporter": "python",
   "pygments_lexer": "ipython3",
   "version": "3.12.3"
  }
 },
 "nbformat": 4,
 "nbformat_minor": 2
}
