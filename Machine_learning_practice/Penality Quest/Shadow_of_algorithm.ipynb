{
 "cells": [
  {
   "cell_type": "code",
   "execution_count": 1,
   "metadata": {},
   "outputs": [],
   "source": [
    "import pandas as pd\n",
    "import numpy as np\n",
    "import matplotlib.pyplot as plt\n",
    "import seaborn as sns\n",
    "from sklearn.datasets import load_wine"
   ]
  },
  {
   "cell_type": "code",
   "execution_count": 2,
   "metadata": {},
   "outputs": [],
   "source": [
    "X, y = load_wine(return_X_y=True)"
   ]
  },
  {
   "cell_type": "code",
   "execution_count": 3,
   "metadata": {},
   "outputs": [
    {
     "data": {
      "text/plain": [
       "((178, 13), (178,))"
      ]
     },
     "execution_count": 3,
     "metadata": {},
     "output_type": "execute_result"
    }
   ],
   "source": [
    "X.shape, y.shape"
   ]
  },
  {
   "cell_type": "code",
   "execution_count": 4,
   "metadata": {},
   "outputs": [
    {
     "data": {
      "text/plain": [
       "(array([[1.423e+01, 1.710e+00, 2.430e+00, ..., 1.040e+00, 3.920e+00,\n",
       "         1.065e+03],\n",
       "        [1.320e+01, 1.780e+00, 2.140e+00, ..., 1.050e+00, 3.400e+00,\n",
       "         1.050e+03],\n",
       "        [1.316e+01, 2.360e+00, 2.670e+00, ..., 1.030e+00, 3.170e+00,\n",
       "         1.185e+03],\n",
       "        ...,\n",
       "        [1.327e+01, 4.280e+00, 2.260e+00, ..., 5.900e-01, 1.560e+00,\n",
       "         8.350e+02],\n",
       "        [1.317e+01, 2.590e+00, 2.370e+00, ..., 6.000e-01, 1.620e+00,\n",
       "         8.400e+02],\n",
       "        [1.413e+01, 4.100e+00, 2.740e+00, ..., 6.100e-01, 1.600e+00,\n",
       "         5.600e+02]]),\n",
       " array([0, 0, 0, 0, 0, 0, 0, 0, 0, 0, 0, 0, 0, 0, 0, 0, 0, 0, 0, 0, 0, 0,\n",
       "        0, 0, 0, 0, 0, 0, 0, 0, 0, 0, 0, 0, 0, 0, 0, 0, 0, 0, 0, 0, 0, 0,\n",
       "        0, 0, 0, 0, 0, 0, 0, 0, 0, 0, 0, 0, 0, 0, 0, 1, 1, 1, 1, 1, 1, 1,\n",
       "        1, 1, 1, 1, 1, 1, 1, 1, 1, 1, 1, 1, 1, 1, 1, 1, 1, 1, 1, 1, 1, 1,\n",
       "        1, 1, 1, 1, 1, 1, 1, 1, 1, 1, 1, 1, 1, 1, 1, 1, 1, 1, 1, 1, 1, 1,\n",
       "        1, 1, 1, 1, 1, 1, 1, 1, 1, 1, 1, 1, 1, 1, 1, 1, 1, 1, 1, 1, 2, 2,\n",
       "        2, 2, 2, 2, 2, 2, 2, 2, 2, 2, 2, 2, 2, 2, 2, 2, 2, 2, 2, 2, 2, 2,\n",
       "        2, 2, 2, 2, 2, 2, 2, 2, 2, 2, 2, 2, 2, 2, 2, 2, 2, 2, 2, 2, 2, 2,\n",
       "        2, 2]))"
      ]
     },
     "execution_count": 4,
     "metadata": {},
     "output_type": "execute_result"
    }
   ],
   "source": [
    "X,y "
   ]
  },
  {
   "cell_type": "code",
   "execution_count": 5,
   "metadata": {},
   "outputs": [],
   "source": [
    "from sklearn.model_selection import train_test_split\n",
    "X_train, X_test, y_train, y_test = train_test_split(X,y , test_size=0.2, random_state=42)"
   ]
  },
  {
   "cell_type": "code",
   "execution_count": 7,
   "metadata": {},
   "outputs": [],
   "source": [
    "from sklearn.linear_model import LinearRegression\n",
    "\n",
    "lr = LinearRegression()\n",
    "\n",
    "lr.fit(X_train, y_train)\n",
    "\n",
    "y_pred_sk = lr.predict(X_test)"
   ]
  },
  {
   "cell_type": "code",
   "execution_count": 9,
   "metadata": {},
   "outputs": [
    {
     "data": {
      "text/plain": [
       "0.8825140263270391"
      ]
     },
     "execution_count": 9,
     "metadata": {},
     "output_type": "execute_result"
    }
   ],
   "source": [
    "from sklearn.metrics import r2_score\n",
    "\n",
    "r2_score_sk = r2_score(y_test, y_pred_sk)\n",
    "\n",
    "r2_score_sk"
   ]
  },
  {
   "cell_type": "code",
   "execution_count": 10,
   "metadata": {},
   "outputs": [],
   "source": [
    "class Batch_Gradient_Descent():\n",
    "\n",
    "\n",
    "    def __init__(self, learning_rate, epochs):\n",
    "        self.coef_ = None\n",
    "        self.intercept_ = None\n",
    "        self.lr = learning_rate\n",
    "        self.epochs = epochs\n",
    "\n",
    "    def fit(self, X_train, y_train):\n",
    "\n",
    "        X_train = np.insert(X_train, 0, 1, axis=1)\n",
    "        self.coef_ = np.random.randn(X_train.shape[1]) * 0.01\n",
    "        self.intercept_ = 0\n",
    "\n",
    "        for i in range(self.epochs):\n",
    "\n",
    "            y_hat = np.dot(X_train, self.coef_) + self.intercept_\n",
    "            intercept_slope = -2 * np.mean(y_train - y_hat)\n",
    "            self.intercept_ = self.intercept_ + (self.lr * intercept_slope)\n",
    "\n",
    "            coef_slope = -2 * np.mean(np.dot((y_train - y_hat), X_train))\n",
    "            self.coef_ =  self.coef_ + (self.lr * coef_slope)\n",
    "\n",
    "        print(f\"Intercept_: {self.intercept_}, Coef_: {self.coef_}\")\n",
    "    \n",
    "    def predict(self, X_test):\n",
    "\n",
    "        X_test = np.insert(X_test, 0,1, axis=1)\n",
    "        y_pred = self.intercept_ + np.dot(X_test, self.coef_)\n",
    "        return y_pred"
   ]
  },
  {
   "cell_type": "code",
   "execution_count": 50,
   "metadata": {},
   "outputs": [],
   "source": [
    "bgd = Batch_Gradient_Descent(learning_rate=0.0000000001, epochs=1000)"
   ]
  },
  {
   "cell_type": "code",
   "execution_count": 51,
   "metadata": {},
   "outputs": [
    {
     "name": "stdout",
     "output_type": "stream",
     "text": [
      "Intercept_: 4.428678573603258e-06, Coef_: [0.05296268 0.03104062 0.05162174 0.05031682 0.05011601 0.04603043\n",
      " 0.04633395 0.03531028 0.04302569 0.04805264 0.04432369 0.0557774\n",
      " 0.0514298  0.05731184]\n"
     ]
    }
   ],
   "source": [
    "bgd.fit(X_train, y_train)"
   ]
  },
  {
   "cell_type": "code",
   "execution_count": 52,
   "metadata": {},
   "outputs": [],
   "source": [
    "y_pred = bgd.predict(X_test)"
   ]
  },
  {
   "cell_type": "code",
   "execution_count": 53,
   "metadata": {},
   "outputs": [
    {
     "data": {
      "text/plain": [
       "-5323.64197957576"
      ]
     },
     "execution_count": 53,
     "metadata": {},
     "output_type": "execute_result"
    }
   ],
   "source": [
    "r2_score_c = r2_score(y_test, y_pred)\n",
    "r2_score_c"
   ]
  },
  {
   "cell_type": "code",
   "execution_count": 55,
   "metadata": {},
   "outputs": [],
   "source": [
    "from sklearn.linear_model import SGDRegressor\n",
    "\n",
    "sgd = SGDRegressor(learning_rate=\"constant\", max_iter=100, eta0=0.0001)\n",
    "\n",
    "sgd.fit(X_train, y_train)\n",
    "\n",
    "y_pred_2 = sgd.predict(X_test)"
   ]
  },
  {
   "cell_type": "code",
   "execution_count": 56,
   "metadata": {},
   "outputs": [
    {
     "data": {
      "text/plain": [
       "-6.536732349618864e+27"
      ]
     },
     "execution_count": 56,
     "metadata": {},
     "output_type": "execute_result"
    }
   ],
   "source": [
    "r2_score(y_test, y_pred_2)"
   ]
  },
  {
   "cell_type": "code",
   "execution_count": 61,
   "metadata": {},
   "outputs": [],
   "source": [
    "class Schostic_Gradient_Descent():\n",
    "\n",
    "    def __init__(self, learning_rate, epochs):\n",
    "        self.coef_ = None\n",
    "        self.lr = learning_rate\n",
    "        self.epochs = epochs\n",
    "    \n",
    "    def fit(self, X_train, y_train):\n",
    "\n",
    "        X_train =  np.insert(X_train, 0,1, axis=1)\n",
    "        self.coef_ = np.random.randn(X_train.shape[1]) * 0.01\n",
    "\n",
    "        for i in range(self.epochs):\n",
    "\n",
    "            for j in range(X_train.shape[0]):\n",
    "\n",
    "                idx = np.random.randint(X_train.shape[0])\n",
    "                y_hat = np.dot(X_train[idx], self.coef_)\n",
    "                \n",
    "                error = y_train[idx] - y_hat\n",
    "\n",
    "                coef_slope = np.dot(error, X_train[idx])\n",
    "                self.coef_ = self.coef_ + (self.lr * coef_slope)\n",
    "\n",
    "        print(f\"Coef: {self.coef_}\")\n",
    "\n",
    "    def predict(self, X_test):\n",
    "        X_test = np.insert(X_test, 0, 1, axis=1)\n",
    "        y_pred = np.dot(X_test, self.coef_)\n",
    "        return y_pred"
   ]
  },
  {
   "cell_type": "code",
   "execution_count": 62,
   "metadata": {},
   "outputs": [
    {
     "data": {
      "text/plain": [
       "130"
      ]
     },
     "execution_count": 62,
     "metadata": {},
     "output_type": "execute_result"
    }
   ],
   "source": [
    "np.random.randint(X_train.shape[0])"
   ]
  },
  {
   "cell_type": "code",
   "execution_count": 63,
   "metadata": {},
   "outputs": [
    {
     "data": {
      "text/plain": [
       "array([-0.02257097, -0.53949662,  0.45889827,  0.67826543,  0.34587843,\n",
       "        1.04398987,  0.31568993, -0.26798533, -1.51344119,  0.70447556,\n",
       "       -0.25062142, -0.00261209, -0.24219382])"
      ]
     },
     "execution_count": 63,
     "metadata": {},
     "output_type": "execute_result"
    }
   ],
   "source": [
    "np.random.randn(X_train.shape[1])"
   ]
  },
  {
   "cell_type": "code",
   "execution_count": 64,
   "metadata": {},
   "outputs": [],
   "source": [
    "sgd = Schostic_Gradient_Descent(learning_rate=0.000001, epochs=80)"
   ]
  },
  {
   "cell_type": "code",
   "execution_count": 65,
   "metadata": {},
   "outputs": [
    {
     "name": "stdout",
     "output_type": "stream",
     "text": [
      "Coef: [ 0.00988804  0.0123627  -0.00441509 -0.00560569  0.01256113  0.01601586\n",
      " -0.00707397 -0.00489295  0.01585326 -0.00446153  0.01998832  0.00538225\n",
      "  0.00989601 -0.00130895]\n"
     ]
    }
   ],
   "source": [
    "sgd.fit(X_train, y_train)"
   ]
  },
  {
   "cell_type": "code",
   "execution_count": 66,
   "metadata": {},
   "outputs": [],
   "source": [
    "y_pred_3 = sgd.predict(X_test)"
   ]
  },
  {
   "cell_type": "code",
   "execution_count": 67,
   "metadata": {},
   "outputs": [
    {
     "data": {
      "text/plain": [
       "0.41211799072303446"
      ]
     },
     "execution_count": 67,
     "metadata": {},
     "output_type": "execute_result"
    }
   ],
   "source": [
    "r2_score(y_test, y_pred_3)"
   ]
  },
  {
   "cell_type": "code",
   "execution_count": 203,
   "metadata": {},
   "outputs": [],
   "source": [
    "class MiniBatch_Gradient_Descent():\n",
    "\n",
    "    def __init__(self, batch_size, learning_rate, epochs):\n",
    "        \n",
    "        self.coef_ = None\n",
    "        self.lr = learning_rate\n",
    "        self.epochs = epochs\n",
    "        self.batch_size = batch_size\n",
    "    \n",
    "    def fit(self, X_train, y_train):\n",
    "\n",
    "        X_train = np.insert(X_test, 0, 1, axis=1)\n",
    "        self.coef_ = np.random.randn(X_train.shape[1]) * 0.01\n",
    "\n",
    "        for i in range(self.epochs):\n",
    "\n",
    "            for j in range(int(X_train.shape[0] / self.batch_size)):\n",
    "\n",
    "                idx = np.random.choice(X_train.shape[0], self.batch_size, replace=False)\n",
    "                y_hat = np.dot(X_train[idx], self.coef_)\n",
    "                \n",
    "                error = y_train[idx] - y_hat\n",
    "                coef_slope = -2 * np.dot(error, X_train[idx]) / self.batch_size\n",
    "                self.coef_ = self.coef_ + (self.lr * coef_slope)\n",
    "\n",
    "        print(f\"Coef_: {self.coef_}\")\n",
    "    \n",
    "    def predict(self, X_test):\n",
    "\n",
    "        X_test = np.insert(X_test, 0, 1, axis=1)\n",
    "        y_pred = np.dot(X_test, self.coef_)\n",
    "        return y_pred"
   ]
  },
  {
   "cell_type": "code",
   "execution_count": 204,
   "metadata": {},
   "outputs": [],
   "source": [
    "mgd = MiniBatch_Gradient_Descent(batch_size=128, learning_rate=0.0001, epochs=1000)"
   ]
  },
  {
   "cell_type": "code",
   "execution_count": 205,
   "metadata": {},
   "outputs": [
    {
     "name": "stdout",
     "output_type": "stream",
     "text": [
      "Coef_: [ 0.01549462 -0.00103688  0.01167473 -0.00721118  0.00368403  0.01428113\n",
      " -0.00361164  0.0057398   0.00617469 -0.00809935 -0.00511021  0.00386915\n",
      " -0.01966225  0.00802011]\n"
     ]
    }
   ],
   "source": [
    "mgd.fit(X_train, y_train)"
   ]
  },
  {
   "cell_type": "code",
   "execution_count": 206,
   "metadata": {},
   "outputs": [],
   "source": [
    "y_pred_4 = mgd.predict(X_test)"
   ]
  },
  {
   "cell_type": "code",
   "execution_count": 207,
   "metadata": {},
   "outputs": [
    {
     "data": {
      "text/plain": [
       "-101.96070136056134"
      ]
     },
     "execution_count": 207,
     "metadata": {},
     "output_type": "execute_result"
    }
   ],
   "source": [
    "r2_score(y_test, y_pred_4)"
   ]
  },
  {
   "cell_type": "code",
   "execution_count": null,
   "metadata": {},
   "outputs": [],
   "source": []
  },
  {
   "cell_type": "code",
   "execution_count": null,
   "metadata": {},
   "outputs": [],
   "source": []
  }
 ],
 "metadata": {
  "kernelspec": {
   "display_name": "machinelearning",
   "language": "python",
   "name": "python3"
  },
  "language_info": {
   "codemirror_mode": {
    "name": "ipython",
    "version": 3
   },
   "file_extension": ".py",
   "mimetype": "text/x-python",
   "name": "python",
   "nbconvert_exporter": "python",
   "pygments_lexer": "ipython3",
   "version": "3.12.3"
  }
 },
 "nbformat": 4,
 "nbformat_minor": 2
}
