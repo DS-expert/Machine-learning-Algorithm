{
 "cells": [
  {
   "cell_type": "code",
   "execution_count": 1,
   "id": "5cee9ce0",
   "metadata": {},
   "outputs": [],
   "source": [
    "import pandas as pd\n",
    "import numpy as np\n",
    "from sklearn.datasets import load_iris"
   ]
  },
  {
   "cell_type": "code",
   "execution_count": 2,
   "id": "955f7853",
   "metadata": {},
   "outputs": [],
   "source": [
    "# Load the iris dataset\n",
    "\n",
    "X, y = load_iris(return_X_y=True)"
   ]
  },
  {
   "cell_type": "code",
   "execution_count": 3,
   "id": "51b772d9",
   "metadata": {},
   "outputs": [],
   "source": [
    "from sklearn.model_selection import train_test_split\n",
    "X_train, X_test, y_train, y_test = train_test_split(X, y, test_size=0.2, random_state=42)"
   ]
  },
  {
   "cell_type": "code",
   "execution_count": 8,
   "id": "85848acd",
   "metadata": {},
   "outputs": [],
   "source": [
    "class CustomDecisionTreeClassifier():\n",
    "\n",
    "    def __init__(self, max_depth=None):\n",
    "\n",
    "        self.max_depth = max_depth\n",
    "        self.tree = None\n",
    "    \n",
    "    def gini(self, y):\n",
    "\n",
    "        classes, count = np.unique(y, return_counts=True)\n",
    "\n",
    "        p = count / count.sum()\n",
    "        \n",
    "        return 1 - np.sum(p ** 2)\n",
    "    \n",
    "    def best_split(self, X_train, y_train):\n",
    "\n",
    "        best_gini = float(\"inf\")\n",
    "        best_feature = None\n",
    "        best_value = None\n",
    "\n",
    "        n_samples, n_features = X_train.shape\n",
    "\n",
    "        for feature in range(n_features):\n",
    "\n",
    "            values = np.unique(X[:, feature])\n",
    "\n",
    "            for value in values:\n",
    "\n",
    "                left_mask = X_train[:, feature] <= value\n",
    "                right_mask = X_train[:, feature] > value\n",
    "\n",
    "                y_left = y_train[left_mask]\n",
    "                y_right = y_train[right_mask]\n",
    "\n",
    "                gini_left = self.gini(y_left)\n",
    "                gini_right = self.gini(y_right)\n",
    "\n",
    "                weighted_gini = (len(y_left) * gini_left + len(y_right) * gini_right) / n_samples\n",
    "\n",
    "\n",
    "                if weighted_gini < best_gini:\n",
    "\n",
    "                    best_gini = weighted_gini\n",
    "                    best_feature = feature\n",
    "                    best_value = value\n",
    "        \n",
    "        return best_feature, best_value\n",
    "\n",
    "    def build_tree(self, X_train, y_train, depth=0):\n",
    "\n",
    "        class_counts = np.bincount(y_train)\n",
    "        majorities_classes = np.argmax(class_counts)\n",
    "\n",
    "        if len(set(y_train)) == 1 or len(y_train) == 0 or (self.max_depth is not None and depth >= self.max_depth):\n",
    "\n",
    "            return {\"leaf\": True, \"class\" : majorities_classes}\n",
    "        \n",
    "        best_feature, best_value = self.best_split(X_train, y_train)\n",
    "\n",
    "        if best_feature is None:\n",
    "            \n",
    "            return {\"leaf\": True, \"class\": majorities_classes}\n",
    "        \n",
    "        left_indicies = X_train[:, best_feature] <= best_value\n",
    "        right_indicies = X_train[:, best_feature] > best_value\n",
    "\n",
    "        left_tree = self.build_tree(X_train[left_indicies], y_train[left_indicies], depth + 1)\n",
    "        right_tree = self.build_tree(X_train[right_indicies], y_train[right_indicies], depth + 1)\n",
    "\n",
    "        return {\n",
    "            \"leaf\" : False,\n",
    "            \"feature\" : best_feature,\n",
    "            \"value\" : best_value,\n",
    "            \"left\" : left_tree,\n",
    "            \"right\" : right_tree\n",
    "\n",
    "        }\n",
    "\n",
    "    def fit(self, X_train, y_train):\n",
    "\n",
    "        self.tree = self.build_tree(X_train, y_train)\n",
    "    \n",
    "    def predict_one(self, X_test):\n",
    "\n",
    "        node = self.tree\n",
    "\n",
    "        while isinstance(node, dict) and not node[\"leaf\"]:\n",
    "\n",
    "            feature_ = node[\"feature\"]\n",
    "            value_ = node[\"value\"]\n",
    "\n",
    "            if X_test[feature_] <= value_:\n",
    "\n",
    "                node = node[\"left\"]\n",
    "            \n",
    "            else:\n",
    "                node = node[\"right\"]\n",
    "        \n",
    "        return node[\"class\"]\n",
    "    \n",
    "    def predict(self, X_test):\n",
    "\n",
    "        return np.array([self.predict_one(x) for x in X_test])\n",
    "\n",
    "        \n",
    "\n"
   ]
  },
  {
   "cell_type": "code",
   "execution_count": 9,
   "id": "7a37a9d5",
   "metadata": {},
   "outputs": [],
   "source": [
    "decision_ = CustomDecisionTreeClassifier(max_depth=3)"
   ]
  },
  {
   "cell_type": "code",
   "execution_count": 10,
   "id": "f71e19ba",
   "metadata": {},
   "outputs": [],
   "source": [
    "decision_.fit(X_train, y_train)"
   ]
  },
  {
   "cell_type": "code",
   "execution_count": 11,
   "id": "1ab2edbc",
   "metadata": {},
   "outputs": [],
   "source": [
    "y_pred = decision_.predict(X_test)"
   ]
  },
  {
   "cell_type": "code",
   "execution_count": 12,
   "id": "57f9b9e8",
   "metadata": {},
   "outputs": [],
   "source": [
    "from sklearn.metrics import accuracy_score\n",
    "\n",
    "accuracy = accuracy_score(y_test, y_pred)"
   ]
  },
  {
   "cell_type": "code",
   "execution_count": 14,
   "id": "87b54197",
   "metadata": {},
   "outputs": [
    {
     "name": "stdout",
     "output_type": "stream",
     "text": [
      "Accuracy : 100.00%\n"
     ]
    }
   ],
   "source": [
    "print(f\"Accuracy : {accuracy * 100:.2f}%\")"
   ]
  },
  {
   "cell_type": "code",
   "execution_count": null,
   "id": "2ea0ad0b",
   "metadata": {},
   "outputs": [],
   "source": []
  }
 ],
 "metadata": {
  "kernelspec": {
   "display_name": "machinelearning",
   "language": "python",
   "name": "python3"
  },
  "language_info": {
   "codemirror_mode": {
    "name": "ipython",
    "version": 3
   },
   "file_extension": ".py",
   "mimetype": "text/x-python",
   "name": "python",
   "nbconvert_exporter": "python",
   "pygments_lexer": "ipython3",
   "version": "3.12.3"
  }
 },
 "nbformat": 4,
 "nbformat_minor": 5
}
