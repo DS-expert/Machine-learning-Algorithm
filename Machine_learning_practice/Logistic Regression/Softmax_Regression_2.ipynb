{
 "cells": [
  {
   "cell_type": "code",
   "execution_count": 1,
   "id": "cbf0e9f1",
   "metadata": {},
   "outputs": [],
   "source": [
    "import pandas as pd\n",
    "import numpy as np\n",
    "import matplotlib.pyplot as plt\n",
    "from sklearn.datasets import load_iris"
   ]
  },
  {
   "cell_type": "code",
   "execution_count": 2,
   "id": "ddcdd346",
   "metadata": {},
   "outputs": [],
   "source": [
    "# Load the Iris dataset\n",
    "X, y = load_iris(return_X_y=True)"
   ]
  },
  {
   "cell_type": "code",
   "execution_count": 3,
   "id": "96322c3d",
   "metadata": {},
   "outputs": [],
   "source": [
    "from sklearn.model_selection import train_test_split\n",
    "X_train, X_test, y_train, y_test = train_test_split(X, y, test_size=0.2, random_state=42)"
   ]
  },
  {
   "cell_type": "code",
   "execution_count": 5,
   "id": "5e2a0161",
   "metadata": {},
   "outputs": [],
   "source": [
    "from sklearn.preprocessing import OneHotEncoder\n",
    "\n",
    "one_hot = OneHotEncoder(sparse_output=False, drop=\"first\", handle_unknown=\"ignore\")\n",
    "\n",
    "y_train = one_hot.fit_transform(y_train.reshape(-1, 1))"
   ]
  },
  {
   "cell_type": "code",
   "execution_count": 13,
   "id": "2bc0b7b7",
   "metadata": {},
   "outputs": [],
   "source": [
    "class Softmax_Regression():\n",
    "\n",
    "    def __init__(self, learning_rate, epochs):\n",
    "\n",
    "        self.coef_ = None\n",
    "        self.lr = learning_rate\n",
    "        self.epochs = epochs\n",
    "    \n",
    "    def softmax(self, z):\n",
    "\n",
    "        exp_z = np.exp(z - np.max(z, axis=1,keepdims=True))\n",
    "\n",
    "        return exp_z / np.sum(exp_z, axis=1, keepdims=True)\n",
    "\n",
    "    def fit(self, X_train, y_train):\n",
    "\n",
    "        X_train =np.insert(X_train, 0, 1, axis=1)\n",
    "        n_sample,n_features = X_train.shape\n",
    "        n_class = y_train.shape[1]\n",
    "\n",
    "        self.coef_ = np.random.randn(n_features, n_class)\n",
    "\n",
    "        for i in range(self.epochs):\n",
    "\n",
    "            y_hat = self.softmax(np.dot(X_train, self.coef_))\n",
    "\n",
    "            coef_slope = np.dot(X_train.T, (y_hat - y_train)) / X_train.shape[0]\n",
    "            self.coef_ = self.coef_ - self.lr * coef_slope\n",
    "\n",
    "        print(f\"Coef_: {self.coef_}\")\n",
    "    \n",
    "    def predict(self, X_test):\n",
    "\n",
    "        X_test = np.insert(X_test, 0, 1, axis=1)\n",
    "\n",
    "        y_pred = self.softmax(np.dot(X_test, self.coef_))\n",
    "\n",
    "        return np.argmax(y_pred, axis=1)"
   ]
  },
  {
   "cell_type": "code",
   "execution_count": 14,
   "id": "5b91a390",
   "metadata": {},
   "outputs": [],
   "source": [
    "softmax_ = Softmax_Regression(learning_rate=0.01, epochs=1000)"
   ]
  },
  {
   "cell_type": "code",
   "execution_count": 15,
   "id": "58edbb26",
   "metadata": {},
   "outputs": [
    {
     "name": "stdout",
     "output_type": "stream",
     "text": [
      "Coef_: [[-1.7767939  -1.74818043]\n",
      " [-9.31303031 -9.28968624]\n",
      " [-5.10358791 -5.33284703]\n",
      " [-3.02994476 -3.02478513]\n",
      " [-1.25887156 -0.81725804]]\n"
     ]
    }
   ],
   "source": [
    "softmax_.fit(X_train, y_train)"
   ]
  },
  {
   "cell_type": "code",
   "execution_count": 16,
   "id": "4c529b8e",
   "metadata": {},
   "outputs": [],
   "source": [
    "y_pred = softmax_.predict(X_test)"
   ]
  },
  {
   "cell_type": "code",
   "execution_count": 17,
   "id": "e040785f",
   "metadata": {},
   "outputs": [
    {
     "name": "stdout",
     "output_type": "stream",
     "text": [
      "Accuracy: 63.33%\n"
     ]
    }
   ],
   "source": [
    "from sklearn.metrics import accuracy_score\n",
    "\n",
    "accuracy = accuracy_score(y_test, y_pred)\n",
    "\n",
    "print(f\"Accuracy: {accuracy * 100:.2f}%\")"
   ]
  },
  {
   "cell_type": "code",
   "execution_count": null,
   "id": "fb1d08be",
   "metadata": {},
   "outputs": [],
   "source": []
  }
 ],
 "metadata": {
  "kernelspec": {
   "display_name": "machinelearning",
   "language": "python",
   "name": "python3"
  },
  "language_info": {
   "codemirror_mode": {
    "name": "ipython",
    "version": 3
   },
   "file_extension": ".py",
   "mimetype": "text/x-python",
   "name": "python",
   "nbconvert_exporter": "python",
   "pygments_lexer": "ipython3",
   "version": "3.12.3"
  }
 },
 "nbformat": 4,
 "nbformat_minor": 5
}
