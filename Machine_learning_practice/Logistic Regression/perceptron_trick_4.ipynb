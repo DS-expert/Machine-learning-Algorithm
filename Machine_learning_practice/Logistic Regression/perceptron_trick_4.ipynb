{
 "cells": [
  {
   "cell_type": "code",
   "execution_count": 58,
   "metadata": {},
   "outputs": [],
   "source": [
    "import pandas as pd\n",
    "import numpy as np\n",
    "import matplotlib.pyplot as plt\n",
    "import seaborn as sns\n",
    "from sklearn.datasets import load_breast_cancer"
   ]
  },
  {
   "cell_type": "code",
   "execution_count": 59,
   "metadata": {},
   "outputs": [],
   "source": [
    "X, y = load_breast_cancer(return_X_y=True)"
   ]
  },
  {
   "cell_type": "code",
   "execution_count": 60,
   "metadata": {},
   "outputs": [],
   "source": [
    "from sklearn.model_selection import train_test_split\n",
    "\n",
    "X_train, X_test, y_train, y_test = train_test_split(X, y, test_size=0.2, random_state=42)"
   ]
  },
  {
   "cell_type": "code",
   "execution_count": 61,
   "metadata": {},
   "outputs": [],
   "source": [
    "def sigmoid(z):\n",
    "\n",
    "    return 1 / (1 + np.exp(-z - np.max(z, axis=1, keepdims=True)))"
   ]
  },
  {
   "cell_type": "code",
   "execution_count": 89,
   "metadata": {},
   "outputs": [],
   "source": [
    "class Perceptron_trick():\n",
    "\n",
    "    def __init__(self, learning_rate, epochs):\n",
    "\n",
    "        self.coef_ = None\n",
    "        self.lr = learning_rate\n",
    "        self.epochs = epochs\n",
    "    \n",
    "    def fit(self, X_train, y_train):\n",
    "\n",
    "        X_train = np.insert(X_train, 0, 1, axis=1)\n",
    "        self.coef_ = np.random.randn(X_train.shape[1]) * 0.01\n",
    "\n",
    "        for i in range(self.epochs):\n",
    "\n",
    "            y_hat = np.dot(X_train, self.coef_)\n",
    "\n",
    "            coef_slope = -(np.dot(X_train.T, (y_train - y_hat))) / X_train.shape[0]\n",
    "\n",
    "            self.coef_ = self.coef_ - (self.lr * coef_slope)\n",
    "\n",
    "        \n",
    "        print(f\"Coef_slope: {self.coef_}\")\n",
    "    \n",
    "    def predict(self, X_test):\n",
    "\n",
    "        X_test = np.insert(X_test, 0, 1, axis=1)\n",
    "\n",
    "        y_pred = sigmoid(np.dot(X_test, self.coef_))\n",
    "        \n",
    "        return y_pred"
   ]
  },
  {
   "cell_type": "code",
   "execution_count": 90,
   "metadata": {},
   "outputs": [],
   "source": [
    "percp = Perceptron_trick(learning_rate=0.00001, epochs=100)"
   ]
  },
  {
   "cell_type": "code",
   "execution_count": 91,
   "metadata": {},
   "outputs": [
    {
     "name": "stdout",
     "output_type": "stream",
     "text": [
      "Coef_slope: [-3.39639816e+113 -5.48946310e+114 -6.79074056e+114 -3.59888123e+115\n",
      " -2.93177567e+116 -3.31133422e+112 -4.04468833e+112 -4.09735253e+112\n",
      " -2.27537817e+112 -6.24948008e+112 -2.09235846e+112 -1.79248026e+113\n",
      " -4.00542486e+113 -1.27431230e+114 -2.13042262e+115 -2.27665261e+111\n",
      " -9.34119988e+111 -1.21836393e+112 -4.45378498e+111 -6.83893969e+111\n",
      " -1.26985166e+111 -6.47967079e+114 -9.06269066e+114 -4.30342603e+115\n",
      " -4.13086669e+116 -4.55831776e+112 -9.87110458e+112 -1.15350352e+113\n",
      " -4.85388275e+112 -1.01171303e+113 -2.86000558e+112]\n"
     ]
    }
   ],
   "source": [
    "percp.fit(X_train, y_train)"
   ]
  },
  {
   "cell_type": "code",
   "execution_count": 94,
   "metadata": {},
   "outputs": [
    {
     "data": {
      "text/plain": [
       "(114, 30)"
      ]
     },
     "execution_count": 94,
     "metadata": {},
     "output_type": "execute_result"
    }
   ],
   "source": [
    "X_test.shape"
   ]
  },
  {
   "cell_type": "code",
   "execution_count": 95,
   "metadata": {},
   "outputs": [
    {
     "ename": "ValueError",
     "evalue": "shapes (115,30) and (31,) not aligned: 30 (dim 1) != 31 (dim 0)",
     "output_type": "error",
     "traceback": [
      "\u001b[0;31m---------------------------------------------------------------------------\u001b[0m",
      "\u001b[0;31mValueError\u001b[0m                                Traceback (most recent call last)",
      "Cell \u001b[0;32mIn[95], line 1\u001b[0m\n\u001b[0;32m----> 1\u001b[0m y_pred \u001b[38;5;241m=\u001b[39m \u001b[43mpercp\u001b[49m\u001b[38;5;241;43m.\u001b[39;49m\u001b[43mpredict\u001b[49m\u001b[43m(\u001b[49m\u001b[43mX_test\u001b[49m\u001b[43m)\u001b[49m\n",
      "Cell \u001b[0;32mIn[89], line 29\u001b[0m, in \u001b[0;36mPerceptron_trick.predict\u001b[0;34m(self, X_test)\u001b[0m\n\u001b[1;32m     25\u001b[0m \u001b[38;5;28;01mdef\u001b[39;00m \u001b[38;5;21mpredict\u001b[39m(\u001b[38;5;28mself\u001b[39m, X_test):\n\u001b[1;32m     27\u001b[0m     X_test \u001b[38;5;241m=\u001b[39m np\u001b[38;5;241m.\u001b[39minsert(X_test, \u001b[38;5;241m0\u001b[39m, \u001b[38;5;241m1\u001b[39m, axis\u001b[38;5;241m=\u001b[39m\u001b[38;5;241m0\u001b[39m)\n\u001b[0;32m---> 29\u001b[0m     y_pred \u001b[38;5;241m=\u001b[39m sigmoid(\u001b[43mnp\u001b[49m\u001b[38;5;241;43m.\u001b[39;49m\u001b[43mdot\u001b[49m\u001b[43m(\u001b[49m\u001b[43mX_test\u001b[49m\u001b[43m,\u001b[49m\u001b[43m \u001b[49m\u001b[38;5;28;43mself\u001b[39;49m\u001b[38;5;241;43m.\u001b[39;49m\u001b[43mcoef_\u001b[49m\u001b[43m)\u001b[49m)\n\u001b[1;32m     31\u001b[0m     \u001b[38;5;28;01mreturn\u001b[39;00m y_pred\n",
      "\u001b[0;31mValueError\u001b[0m: shapes (115,30) and (31,) not aligned: 30 (dim 1) != 31 (dim 0)"
     ]
    }
   ],
   "source": [
    "y_pred = percp.predict(X_test)"
   ]
  },
  {
   "cell_type": "code",
   "execution_count": 96,
   "metadata": {},
   "outputs": [
    {
     "data": {
      "text/plain": [
       "array([-1.50199136e+120, -3.90386554e+120, -2.47482744e+120,\n",
       "       -1.25122947e+120, -1.09861859e+120, -3.98207452e+120,\n",
       "       -4.79620849e+120, -2.79266608e+120, -1.44944267e+120,\n",
       "       -1.68211921e+120, -1.49357241e+120, -2.76920477e+120,\n",
       "       -1.86792186e+120, -2.29328420e+120, -1.32147498e+120,\n",
       "       -3.08049560e+120, -1.82626454e+120, -8.42474832e+119,\n",
       "       -4.29726426e+119, -4.00429620e+120, -1.80372502e+120,\n",
       "       -1.29219595e+120, -4.50099111e+120, -8.79816979e+119,\n",
       "       -1.14105699e+120, -1.47641950e+120, -1.48430971e+120,\n",
       "       -8.68073587e+119, -1.37312378e+120, -3.42589633e+120,\n",
       "       -1.04255858e+120, -1.25425860e+120, -8.70697901e+119,\n",
       "       -1.73644384e+120, -8.85279698e+119, -1.17547603e+120,\n",
       "       -2.51601726e+120, -1.23535502e+120, -3.43041074e+120,\n",
       "       -1.87238508e+120, -9.49456970e+119, -2.28905624e+120,\n",
       "       -1.13016012e+120, -1.25328943e+120, -1.15568262e+120,\n",
       "       -1.17981366e+120, -7.56609523e+119, -7.77504318e+119,\n",
       "       -1.24764548e+120, -1.41770500e+120, -3.06683401e+120,\n",
       "       -3.57797493e+120, -1.49529553e+120, -1.58319954e+120,\n",
       "       -1.20590449e+120, -1.57203144e+120, -9.18622125e+119,\n",
       "       -5.69133439e+120, -1.67337911e+120, -1.08180422e+120,\n",
       "       -1.44527874e+120, -3.75050434e+120, -4.50132753e+120,\n",
       "       -1.75403634e+120, -1.28774431e+120, -1.43766369e+120,\n",
       "       -2.67927650e+120, -3.67569099e+120, -1.17107990e+120,\n",
       "       -1.47203824e+120, -1.80346697e+120, -2.71675671e+120,\n",
       "       -1.64177495e+120, -2.30802299e+120, -5.59559216e+119,\n",
       "       -1.54146404e+120, -1.68195795e+120, -1.84291926e+120,\n",
       "       -1.02467866e+120, -1.10841304e+120, -2.56589726e+120,\n",
       "       -1.13554770e+120, -1.86614877e+120, -4.35684571e+120,\n",
       "       -2.97154782e+120, -2.11020335e+120, -1.54500031e+120,\n",
       "       -3.12766005e+120, -1.19031534e+120, -1.41067070e+120,\n",
       "       -1.30060191e+120, -1.63412114e+120, -1.97780655e+120,\n",
       "       -1.05504228e+120, -1.05087651e+120, -8.49532563e+119,\n",
       "       -3.84323007e+120, -2.31575802e+120, -1.05112060e+120,\n",
       "       -2.84794294e+120, -2.65651112e+120, -8.10881924e+119,\n",
       "       -3.40659828e+120, -3.00675407e+120, -1.12689246e+120,\n",
       "       -1.25835501e+120, -1.30179945e+120, -5.80975485e+120,\n",
       "       -1.79539116e+120, -1.91431543e+120, -2.64532609e+120,\n",
       "       -1.15133509e+120, -1.77510219e+120, -6.47980651e+120])"
      ]
     },
     "execution_count": 96,
     "metadata": {},
     "output_type": "execute_result"
    }
   ],
   "source": [
    "y_pred"
   ]
  },
  {
   "cell_type": "code",
   "execution_count": 69,
   "metadata": {},
   "outputs": [
    {
     "data": {
      "text/plain": [
       "-2.294500210059404e+241"
      ]
     },
     "execution_count": 69,
     "metadata": {},
     "output_type": "execute_result"
    }
   ],
   "source": [
    "from sklearn.metrics import r2_score\n",
    "\n",
    "acc_score = r2_score(y_test, y_pred)\n",
    "\n",
    "acc_score"
   ]
  },
  {
   "cell_type": "markdown",
   "metadata": {},
   "source": []
  },
  {
   "cell_type": "code",
   "execution_count": null,
   "metadata": {},
   "outputs": [],
   "source": []
  }
 ],
 "metadata": {
  "kernelspec": {
   "display_name": "machinelearning",
   "language": "python",
   "name": "python3"
  },
  "language_info": {
   "codemirror_mode": {
    "name": "ipython",
    "version": 3
   },
   "file_extension": ".py",
   "mimetype": "text/x-python",
   "name": "python",
   "nbconvert_exporter": "python",
   "pygments_lexer": "ipython3",
   "version": "3.12.3"
  }
 },
 "nbformat": 4,
 "nbformat_minor": 2
}
